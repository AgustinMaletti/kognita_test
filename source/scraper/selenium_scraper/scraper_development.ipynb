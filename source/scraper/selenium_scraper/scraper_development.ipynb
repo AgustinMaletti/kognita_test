{
 "cells": [
  {
   "cell_type": "code",
   "execution_count": 2,
   "metadata": {},
   "outputs": [],
   "source": [
    "from selenium import webdriver\n",
    "from selenium.webdriver.common.keys import Keys\n",
    "from selenium.webdriver.firefox.options import Options\n",
    "from parsel import Selector\n",
    "import pathlib\n",
    "import os\n",
    "from selenium.webdriver.common.by import By\n",
    "from pprint import pprint"
   ]
  },
  {
   "cell_type": "code",
   "execution_count": 3,
   "metadata": {},
   "outputs": [],
   "source": [
    "# PATH = pathlib.Path(__file__).parent\n",
    "# path_to_driver = PATH.joinpath('geckodriver').resolve().__str__()\n",
    "path_to_driver = '/home/baltasar/Desktop/ScrapyBoy/kognita/source/scraper/selenium_scraper/geckodriver'\n",
    "options = Options()\n",
    "firefox_profile = webdriver.FirefoxProfile()\n",
    "firefox_profile.DEFAULT_PREFERENCES['frozen'][\"javascript.enabled\"] = False\n",
    "options.profile = firefox_profile\n",
    "driver = webdriver.Firefox(executable_path=path_to_driver, options=options)"
   ]
  },
  {
   "cell_type": "code",
   "execution_count": 8,
   "metadata": {},
   "outputs": [],
   "source": [
    "driver.get('https://stackoverflow.com/')"
   ]
  },
  {
   "cell_type": "code",
   "execution_count": 31,
   "metadata": {},
   "outputs": [],
   "source": [
    "# search bar, click and write\n",
    "driver.find_element_by_xpath('//input[@name=\"q\"]').click()\n",
    "driver.find_element_by_xpath('//input[@name=\"q\"]').send_keys('python')\n",
    "driver.find_element_by_xpath('//input[@name=\"q\"]').send_keys(Keys.ENTER)"
   ]
  },
  {
   "cell_type": "code",
   "execution_count": 32,
   "metadata": {},
   "outputs": [],
   "source": [
    "# data structure\n",
    "data = {\"initial_search\": {\"search_query\": \"\"\n",
    "                           \"search_title\": \"\",\n",
    "                           \"search_text\": \"\",       \n",
    "        \"all_questions\": [{ \"question_title\": \"\",\n",
    "                            \"question_preview_text\": \"\",\n",
    "                            \"question_text\": \"\",\n",
    "                            \"question_autor\": \"\",\n",
    "                            \"question_data\": \"\", \n",
    "                            \"question_tags\": \"\" \n",
    "                            \"question_comments\": [{ \"comment\": \"\",\n",
    "                                                    \"comment_author\":\"\",                                                    \n",
    "                                                    \"comment_data\": \"\" }]\n",
    "                           \"answer_text\": \"\",\n",
    "                           \"answer_author\": \"\",\n",
    "                           \"answer_data\": \"\",\n",
    "                           \"answer_comments\": [{ \"comment\": \"\",\n",
    "                                                    \"comment_author\":\"\",                                                    \n",
    "                                                    \"comment_data\": \"\" }]\n",
    "                        \n",
    "                        }]\n",
    "                        }\n",
    "        }"
   ]
  },
  {
   "cell_type": "code",
   "execution_count": 33,
   "metadata": {},
   "outputs": [],
   "source": [
    "# for each question in the page get and parse\n",
    "# for each comment in the question parse\n",
    "# for each answer in the question parse\n",
    "# for each comment in the answer parse\n",
    "# if page is > 2 break"
   ]
  },
  {
   "cell_type": "code",
   "execution_count": 36,
   "metadata": {},
   "outputs": [],
   "source": [
    "page = Selector(driver.page_source)"
   ]
  },
  {
   "cell_type": "code",
   "execution_count": 43,
   "metadata": {},
   "outputs": [],
   "source": [
    "questions_links = page.xpath(\"//a[@class='question-hyperlink']/@href\").getall()"
   ]
  },
  {
   "cell_type": "code",
   "execution_count": 49,
   "metadata": {},
   "outputs": [],
   "source": [
    "full_links = ['https://stackoverflow.com' + questions_links[i] for i in range(len(questions_links))]"
   ]
  },
  {
   "cell_type": "code",
   "execution_count": 50,
   "metadata": {},
   "outputs": [
    {
     "name": "stdout",
     "output_type": "stream",
     "text": [
      "https://stackoverflow.com/questions/54388685/issues-when-attaching-and-detaching-external-app-from-qdockwidget\n",
      "https://stackoverflow.com/questions/51649672/accepting-output-of-the-socket-generated-by-python-in-mql5\n",
      "https://stackoverflow.com/questions/49083680/how-are-the-new-tf-contrib-summary-summaries-in-tensorflow-evaluated\n",
      "https://stackoverflow.com/questions/57087498/aws-lambda-openblas-warning-could-not-determine-the-l2-cache-size-on-this-sy\n",
      "https://stackoverflow.com/questions/22990696/getting-all-task-ids-from-nested-chains-and-chords\n",
      "https://stackoverflow.com/questions/51653865/run-django-viewflow-update-node\n",
      "https://stackoverflow.com/questions/62783262/why-is-numpy-with-ryzen-threadripper-so-much-slower-than-xeon\n",
      "https://stackoverflow.com/questions/45868645/mayavi-colorbar-in-traitsui-creating-blank-window\n",
      "https://stackoverflow.com/questions/50399547/tensorflow-custom-tflite-java-lang-nullpointerexception-cannot-allocate-memory\n",
      "https://stackoverflow.com/questions/49430040/how-to-avoid-overlapping-when-theres-hundreds-of-nodes-in-networkx\n",
      "https://stackoverflow.com/questions/46688822/preload-whole-dataset-on-gpu-for-training-keras-model\n",
      "https://stackoverflow.com/questions/17406954/is-it-possible-to-directly-apply-an-affine-transformation-matrix-to-a-mayavi-ima\n",
      "https://stackoverflow.com/questions/46691638/how-to-disable-pycharm-from-automatically-updating-python-interpreter-on-startup\n",
      "https://stackoverflow.com/questions/52558519/bluez-profile-registration\n",
      "https://stackoverflow.com/questions/52087571/layering-a-contourf-plot-and-surface-plot-in-matplotlib\n"
     ]
    }
   ],
   "source": [
    "for i in full_links:\n",
    "    print(i)"
   ]
  },
  {
   "cell_type": "code",
   "execution_count": null,
   "metadata": {},
   "outputs": [],
   "source": [
    "next_page = '//a[@rel=\"next\"]'"
   ]
  },
  {
   "cell_type": "code",
   "execution_count": 56,
   "metadata": {},
   "outputs": [
    {
     "data": {
      "text/plain": [
       "'Questions tagged [python]'"
      ]
     },
     "execution_count": 56,
     "metadata": {},
     "output_type": "execute_result"
    }
   ],
   "source": [
    "page.xpath('//h1//text()').get().strip()"
   ]
  },
  {
   "cell_type": "code",
   "execution_count": 83,
   "metadata": {},
   "outputs": [],
   "source": [
    "grid = page.xpath('//div[@class=\"mb24\"]')"
   ]
  },
  {
   "cell_type": "code",
   "execution_count": 81,
   "metadata": {},
   "outputs": [
    {
     "data": {
      "text/plain": [
       "[<Selector xpath='//div[@class=\"mb24\"]' data='<div class=\"mb24\">\\n                    <'>]"
      ]
     },
     "execution_count": 81,
     "metadata": {},
     "output_type": "execute_result"
    }
   ],
   "source": [
    "grid"
   ]
  },
  {
   "cell_type": "code",
   "execution_count": 86,
   "metadata": {},
   "outputs": [
    {
     "data": {
      "text/plain": [
       "'\\nPython is a multi-paradigm, dynamically typed, multipurpose programming language. It is designed to be quick to learn, understand, and use, and enforce a clean and uniform syntax. Please note that Python 2 is officially out of support as of 01-01-2020. Still, for version-specific Python questions, add the [python-2.7] or [python-3.x] tag. When using a Python variant or library (e.g. Jython, PyPy, Pandas, Numpy), please include it in the tags.                    '"
      ]
     },
     "execution_count": 86,
     "metadata": {},
     "output_type": "execute_result"
    }
   ],
   "source": [
    "''.join([p.get() for p in grid.xpath('.//p//text()')])"
   ]
  },
  {
   "cell_type": "code",
   "execution_count": 88,
   "metadata": {},
   "outputs": [
    {
     "data": {
      "text/plain": [
       "'\\nPython is a multi-paradigm, dynamically typed, multipurpose programming language. It is designed to be quick to learn, understand, and use, and enforce a clean and uniform syntax. Please note that Python 2 is officially out of support as of 01-01-2020. Still, for version-specific Python questions, add the [python-2.7] or [python-3.x] tag. When using a Python variant or library (e.g. Jython, PyPy, Pandas, Numpy), please include it in the tags.                    '"
      ]
     },
     "execution_count": 88,
     "metadata": {},
     "output_type": "execute_result"
    }
   ],
   "source": [
    "page.xpath('//div[@class=\"mb24\"]').xpath('.//p//text()').get()"
   ]
  },
  {
   "cell_type": "code",
   "execution_count": 90,
   "metadata": {},
   "outputs": [
    {
     "data": {
      "text/plain": [
       "'1'"
      ]
     },
     "execution_count": 90,
     "metadata": {},
     "output_type": "execute_result"
    }
   ],
   "source": [
    "page.xpath('//div[contains(@class, \"s-pagination--item is-selected\")]//text()').get()"
   ]
  },
  {
   "cell_type": "code",
   "execution_count": 91,
   "metadata": {},
   "outputs": [
    {
     "data": {
      "text/plain": [
       "'https://stackoverflow.com//questions/tagged/python?tab=unanswered&page=3&pagesize=15\" ]'"
      ]
     },
     "execution_count": 91,
     "metadata": {},
     "output_type": "execute_result"
    }
   ],
   "source": [
    "'https://stackoverflow.com//questions/tagged/python?tab=unanswered&page=3&pagesize=15\" ]'"
   ]
  },
  {
   "cell_type": "code",
   "execution_count": 96,
   "metadata": {},
   "outputs": [
    {
     "data": {
      "text/plain": [
       "'/questions/tagged/python?tab=unanswered&page=2&pagesize=15'"
      ]
     },
     "execution_count": 96,
     "metadata": {},
     "output_type": "execute_result"
    }
   ],
   "source": [
    "page.xpath('//a[@rel=\"next\"]//@href').get()"
   ]
  },
  {
   "cell_type": "code",
   "execution_count": 99,
   "metadata": {},
   "outputs": [],
   "source": [
    "driver.get('https://stackoverflow.com/questions/54388685/issues-when-attaching-and-detaching-external-app-from-qdockwidget')"
   ]
  },
  {
   "cell_type": "code",
   "execution_count": 102,
   "metadata": {},
   "outputs": [],
   "source": [
    "page2 = Selector(driver.page_source)"
   ]
  },
  {
   "cell_type": "code",
   "execution_count": 158,
   "metadata": {},
   "outputs": [],
   "source": [
    "post2 = page2.xpath('//div[@class=\"post-text\"]')"
   ]
  },
  {
   "cell_type": "code",
   "execution_count": 195,
   "metadata": {},
   "outputs": [
    {
     "data": {
      "text/plain": [
       "'\\n                    \\nConsider this little piece of code:\\n\\nimport subprocess\\nimport win32gui\\nimport win32con\\nimport time\\nimport sys\\nfrom PyQt5.Qt import *  # noqa\\n\\n\\nclass Mcve(QMainWindow):\\n\\n    def __init__(self, path_exe):\\n        super().__init__()\\n\\n        menu = self.menuBar()\\n\\n        attach_action = QAction(\\'Attach\\', self)\\n        attach_action.triggered.connect(self.attach)\\n        menu.addAction(attach_action)\\n\\n        detach_action = QAction(\\'Detach\\', self)\\n        detach_action.triggered.connect(self.detach)\\n        menu.addAction(detach_action)\\n\\n        self.dock = QDockWidget(\"Attach window\", self)\\n        self.addDockWidget(Qt.RightDockWidgetArea, self.dock)\\n\\n        p = subprocess.Popen(path_exe)\\n        time.sleep(0.5)  # Give enough time so FindWindowEx won\\'t return 0\\n        self.hwnd = win32gui.FindWindowEx(0, 0, \"CalcFrame\", None)\\n        if self.hwnd == 0:\\n            raise Exception(\"Process not found\")\\n\\n    def detach(self):\\n        try:\\n            self._window.setParent(None)\\n            # win32gui.SetWindowLong(self.hwnd, win32con.GWL_EXSTYLE, self._style)\\n            self._window.show()\\n            self.dock.setWidget(None)\\n            self._widget = None\\n            self._window = None\\n        except Exception as e:\\n            import traceback\\n            traceback.print_exc()\\n\\n    def attach(self):\\n        # self._style = win32gui.GetWindowLong(self.hwnd, win32con.GWL_EXSTYLE)\\n        self._window = QWindow.fromWinId(self.hwnd)\\n        self._widget = self.createWindowContainer(self._window)\\n        self.dock.setWidget(self._widget)\\n\\n\\nif __name__ == \\'__main__\\':\\n    app = QApplication(sys.argv)\\n    w = Mcve(\"C:\\\\\\\\Windows\\\\\\\\system32\\\\\\\\calc.exe\")\\n    w.show()\\n    sys.exit(app.exec_())\\n\\nThe goal here is to fix the code so the window attaching/detaching into a QDockWidget will be made properly. Right now the code has 2 important issues.\\n\\nIssue1\\n\\nStyle of the original window is screwed up:\\n\\na) Before attaching (the calculator has a menu bar)\\n\\n\\n\\nb) When attached (the calculator menu bar is gone)\\n\\n\\n\\nc) When detached (the menu bar hasn\\'t been restored properly)\\n\\n\\n\\nI\\'ve already tried using flags/setFlags qt functions or getWindowLong/setWindowLong bit I haven\\'t had luck with all my attempts\\n\\nIssue2\\n\\nIf you have attached and detached the calculator to the mainwindow and then you decide to close the mainwindow you definitely want everything (pyqt process) to be closed and cleaned properly, right now that won\\'t be the case, why?\\n\\nIn fact, when you\\'ve attached/detached the calculator to the mainwindow the python process will hold and you\\'ll need to force the termination of the process manually (ie: ctrl+break conemu, ctrl+c cmd prompt)... which indicates the code is not doing things correctly when parenting/deparenting\\n\\nAdditional notes:\\n\\n\\nhttp://doc.qt.io/qt-5/qwindow.html#fromWinId\\nhttp://doc.qt.io/qt-5/qwidget.html#createWindowContainer\\nIn the above minimal code I\\'m spawning calc.exe as a child process but you can assume calc.exe is an existing non-child process spawned by let\\'s say explorer.exe\\n\\n    '"
      ]
     },
     "execution_count": 195,
     "metadata": {},
     "output_type": "execute_result"
    }
   ],
   "source": [
    "''.join(page2.xpath('//div[@class=\"post-text\"]').xpath('.//text()').getall())"
   ]
  },
  {
   "cell_type": "code",
   "execution_count": 159,
   "metadata": {},
   "outputs": [
    {
     "data": {
      "text/plain": [
       "['\\n                    \\n',\n",
       " 'Consider this little piece of code:',\n",
       " '\\n\\n',\n",
       " 'import',\n",
       " ' subprocess\\n',\n",
       " 'import',\n",
       " ' win32gui\\n',\n",
       " 'import',\n",
       " ' win32con\\n',\n",
       " 'import',\n",
       " ' time\\n',\n",
       " 'import',\n",
       " ' sys\\n',\n",
       " 'from',\n",
       " ' ',\n",
       " 'PyQt5',\n",
       " '.',\n",
       " 'Qt',\n",
       " ' ',\n",
       " 'import',\n",
       " ' ',\n",
       " '*',\n",
       " '  ',\n",
       " '# noqa',\n",
       " '\\n\\n\\n',\n",
       " 'class',\n",
       " ' ',\n",
       " 'Mcve',\n",
       " '(',\n",
       " 'QMainWindow',\n",
       " '):',\n",
       " '\\n\\n    ',\n",
       " 'def',\n",
       " ' __init__',\n",
       " '(',\n",
       " 'self',\n",
       " ',',\n",
       " ' path_exe',\n",
       " '):',\n",
       " '\\n        ',\n",
       " 'super',\n",
       " '().',\n",
       " '__init__',\n",
       " '()',\n",
       " '\\n\\n        menu ',\n",
       " '=',\n",
       " ' ',\n",
       " 'self',\n",
       " '.',\n",
       " 'menuBar',\n",
       " '()',\n",
       " '\\n\\n        attach_action ',\n",
       " '=',\n",
       " ' ',\n",
       " 'QAction',\n",
       " '(',\n",
       " \"'Attach'\",\n",
       " ',',\n",
       " ' ',\n",
       " 'self',\n",
       " ')',\n",
       " '\\n        attach_action',\n",
       " '.',\n",
       " 'triggered',\n",
       " '.',\n",
       " 'connect',\n",
       " '(',\n",
       " 'self',\n",
       " '.',\n",
       " 'attach',\n",
       " ')',\n",
       " '\\n        menu',\n",
       " '.',\n",
       " 'addAction',\n",
       " '(',\n",
       " 'attach_action',\n",
       " ')',\n",
       " '\\n\\n        detach_action ',\n",
       " '=',\n",
       " ' ',\n",
       " 'QAction',\n",
       " '(',\n",
       " \"'Detach'\",\n",
       " ',',\n",
       " ' ',\n",
       " 'self',\n",
       " ')',\n",
       " '\\n        detach_action',\n",
       " '.',\n",
       " 'triggered',\n",
       " '.',\n",
       " 'connect',\n",
       " '(',\n",
       " 'self',\n",
       " '.',\n",
       " 'detach',\n",
       " ')',\n",
       " '\\n        menu',\n",
       " '.',\n",
       " 'addAction',\n",
       " '(',\n",
       " 'detach_action',\n",
       " ')',\n",
       " '\\n\\n        ',\n",
       " 'self',\n",
       " '.',\n",
       " 'dock ',\n",
       " '=',\n",
       " ' ',\n",
       " 'QDockWidget',\n",
       " '(',\n",
       " '\"Attach window\"',\n",
       " ',',\n",
       " ' ',\n",
       " 'self',\n",
       " ')',\n",
       " '\\n        ',\n",
       " 'self',\n",
       " '.',\n",
       " 'addDockWidget',\n",
       " '(',\n",
       " 'Qt',\n",
       " '.',\n",
       " 'RightDockWidgetArea',\n",
       " ',',\n",
       " ' ',\n",
       " 'self',\n",
       " '.',\n",
       " 'dock',\n",
       " ')',\n",
       " '\\n\\n        p ',\n",
       " '=',\n",
       " ' subprocess',\n",
       " '.',\n",
       " 'Popen',\n",
       " '(',\n",
       " 'path_exe',\n",
       " ')',\n",
       " '\\n        time',\n",
       " '.',\n",
       " 'sleep',\n",
       " '(',\n",
       " '0.5',\n",
       " ')',\n",
       " '  ',\n",
       " \"# Give enough time so FindWindowEx won't return 0\",\n",
       " '\\n        ',\n",
       " 'self',\n",
       " '.',\n",
       " 'hwnd ',\n",
       " '=',\n",
       " ' win32gui',\n",
       " '.',\n",
       " 'FindWindowEx',\n",
       " '(',\n",
       " '0',\n",
       " ',',\n",
       " ' ',\n",
       " '0',\n",
       " ',',\n",
       " ' ',\n",
       " '\"CalcFrame\"',\n",
       " ',',\n",
       " ' ',\n",
       " 'None',\n",
       " ')',\n",
       " '\\n        ',\n",
       " 'if',\n",
       " ' ',\n",
       " 'self',\n",
       " '.',\n",
       " 'hwnd ',\n",
       " '==',\n",
       " ' ',\n",
       " '0',\n",
       " ':',\n",
       " '\\n            ',\n",
       " 'raise',\n",
       " ' ',\n",
       " 'Exception',\n",
       " '(',\n",
       " '\"Process not found\"',\n",
       " ')',\n",
       " '\\n\\n    ',\n",
       " 'def',\n",
       " ' detach',\n",
       " '(',\n",
       " 'self',\n",
       " '):',\n",
       " '\\n        ',\n",
       " 'try',\n",
       " ':',\n",
       " '\\n            ',\n",
       " 'self',\n",
       " '.',\n",
       " '_window',\n",
       " '.',\n",
       " 'setParent',\n",
       " '(',\n",
       " 'None',\n",
       " ')',\n",
       " '\\n            ',\n",
       " '# win32gui.SetWindowLong(self.hwnd, win32con.GWL_EXSTYLE, self._style)',\n",
       " '\\n            ',\n",
       " 'self',\n",
       " '.',\n",
       " '_window',\n",
       " '.',\n",
       " 'show',\n",
       " '()',\n",
       " '\\n            ',\n",
       " 'self',\n",
       " '.',\n",
       " 'dock',\n",
       " '.',\n",
       " 'setWidget',\n",
       " '(',\n",
       " 'None',\n",
       " ')',\n",
       " '\\n            ',\n",
       " 'self',\n",
       " '.',\n",
       " '_widget ',\n",
       " '=',\n",
       " ' ',\n",
       " 'None',\n",
       " '\\n            ',\n",
       " 'self',\n",
       " '.',\n",
       " '_window ',\n",
       " '=',\n",
       " ' ',\n",
       " 'None',\n",
       " '\\n        ',\n",
       " 'except',\n",
       " ' ',\n",
       " 'Exception',\n",
       " ' ',\n",
       " 'as',\n",
       " ' e',\n",
       " ':',\n",
       " '\\n            ',\n",
       " 'import',\n",
       " ' traceback\\n            traceback',\n",
       " '.',\n",
       " 'print_exc',\n",
       " '()',\n",
       " '\\n\\n    ',\n",
       " 'def',\n",
       " ' attach',\n",
       " '(',\n",
       " 'self',\n",
       " '):',\n",
       " '\\n        ',\n",
       " '# self._style = win32gui.GetWindowLong(self.hwnd, win32con.GWL_EXSTYLE)',\n",
       " '\\n        ',\n",
       " 'self',\n",
       " '.',\n",
       " '_window ',\n",
       " '=',\n",
       " ' ',\n",
       " 'QWindow',\n",
       " '.',\n",
       " 'fromWinId',\n",
       " '(',\n",
       " 'self',\n",
       " '.',\n",
       " 'hwnd',\n",
       " ')',\n",
       " '\\n        ',\n",
       " 'self',\n",
       " '.',\n",
       " '_widget ',\n",
       " '=',\n",
       " ' ',\n",
       " 'self',\n",
       " '.',\n",
       " 'createWindowContainer',\n",
       " '(',\n",
       " 'self',\n",
       " '.',\n",
       " '_window',\n",
       " ')',\n",
       " '\\n        ',\n",
       " 'self',\n",
       " '.',\n",
       " 'dock',\n",
       " '.',\n",
       " 'setWidget',\n",
       " '(',\n",
       " 'self',\n",
       " '.',\n",
       " '_widget',\n",
       " ')',\n",
       " '\\n\\n\\n',\n",
       " 'if',\n",
       " ' __name__ ',\n",
       " '==',\n",
       " ' ',\n",
       " \"'__main__'\",\n",
       " ':',\n",
       " '\\n    app ',\n",
       " '=',\n",
       " ' ',\n",
       " 'QApplication',\n",
       " '(',\n",
       " 'sys',\n",
       " '.',\n",
       " 'argv',\n",
       " ')',\n",
       " '\\n    w ',\n",
       " '=',\n",
       " ' ',\n",
       " 'Mcve',\n",
       " '(',\n",
       " '\"C:\\\\\\\\Windows\\\\\\\\system32\\\\\\\\calc.exe\"',\n",
       " ')',\n",
       " '\\n    w',\n",
       " '.',\n",
       " 'show',\n",
       " '()',\n",
       " '\\n    sys',\n",
       " '.',\n",
       " 'exit',\n",
       " '(',\n",
       " 'app',\n",
       " '.',\n",
       " 'exec_',\n",
       " '())',\n",
       " '\\n\\n',\n",
       " 'The goal here is to fix the code so the window attaching/detaching into a QDockWidget will be made properly. Right now the code has 2 important issues.',\n",
       " '\\n\\n',\n",
       " 'Issue1',\n",
       " '\\n\\n',\n",
       " 'Style of the original window is screwed up:',\n",
       " '\\n\\n',\n",
       " 'a) Before attaching (the calculator has a menu bar)',\n",
       " '\\n\\n',\n",
       " '\\n\\n',\n",
       " 'b) When attached (the calculator menu bar is gone)',\n",
       " '\\n\\n',\n",
       " '\\n\\n',\n",
       " \"c) When detached (the menu bar hasn't been restored properly)\",\n",
       " '\\n\\n',\n",
       " '\\n\\n',\n",
       " \"I've already tried using flags/setFlags qt functions or getWindowLong/setWindowLong bit I haven't had luck with all my attempts\",\n",
       " '\\n\\n',\n",
       " 'Issue2',\n",
       " '\\n\\n',\n",
       " \"If you have attached and detached the calculator to the mainwindow and then you decide to close the mainwindow you definitely want everything (pyqt process) to be closed and cleaned properly, right now that won't be the case, why?\",\n",
       " '\\n\\n',\n",
       " \"In fact, when you've attached/detached the calculator to the mainwindow the python process will hold and you'll need to force the termination of the process manually (ie: ctrl+break conemu, ctrl+c cmd prompt)... which indicates the code is not doing things correctly when parenting/deparenting\",\n",
       " '\\n\\n',\n",
       " 'Additional notes:',\n",
       " '\\n\\n',\n",
       " '\\n',\n",
       " 'http://doc.qt.io/qt-5/qwindow.html#fromWinId',\n",
       " '\\n',\n",
       " 'http://doc.qt.io/qt-5/qwidget.html#createWindowContainer',\n",
       " '\\n',\n",
       " \"In the above minimal code I'm spawning calc.exe as a child process but you can assume calc.exe is an existing non-child process spawned by let's say \",\n",
       " 'explorer.exe',\n",
       " '\\n',\n",
       " '\\n    ']"
      ]
     },
     "execution_count": 159,
     "metadata": {},
     "output_type": "execute_result"
    }
   ],
   "source": [
    "question = []\n",
    "for t in post2.xpath('.//text()'):\n",
    "    question.append(t.get())\n",
    "question"
   ]
  },
  {
   "cell_type": "code",
   "execution_count": 160,
   "metadata": {},
   "outputs": [],
   "source": [
    "final_question = ''.join(question)"
   ]
  },
  {
   "cell_type": "code",
   "execution_count": 161,
   "metadata": {},
   "outputs": [
    {
     "data": {
      "text/plain": [
       "'\\n                    \\nConsider this little piece of code:\\n\\nimport subprocess\\nimport win32gui\\nimport win32con\\nimport time\\nimport sys\\nfrom PyQt5.Qt import *  # noqa\\n\\n\\nclass Mcve(QMainWindow):\\n\\n    def __init__(self, path_exe):\\n        super().__init__()\\n\\n        menu = self.menuBar()\\n\\n        attach_action = QAction(\\'Attach\\', self)\\n        attach_action.triggered.connect(self.attach)\\n        menu.addAction(attach_action)\\n\\n        detach_action = QAction(\\'Detach\\', self)\\n        detach_action.triggered.connect(self.detach)\\n        menu.addAction(detach_action)\\n\\n        self.dock = QDockWidget(\"Attach window\", self)\\n        self.addDockWidget(Qt.RightDockWidgetArea, self.dock)\\n\\n        p = subprocess.Popen(path_exe)\\n        time.sleep(0.5)  # Give enough time so FindWindowEx won\\'t return 0\\n        self.hwnd = win32gui.FindWindowEx(0, 0, \"CalcFrame\", None)\\n        if self.hwnd == 0:\\n            raise Exception(\"Process not found\")\\n\\n    def detach(self):\\n        try:\\n            self._window.setParent(None)\\n            # win32gui.SetWindowLong(self.hwnd, win32con.GWL_EXSTYLE, self._style)\\n            self._window.show()\\n            self.dock.setWidget(None)\\n            self._widget = None\\n            self._window = None\\n        except Exception as e:\\n            import traceback\\n            traceback.print_exc()\\n\\n    def attach(self):\\n        # self._style = win32gui.GetWindowLong(self.hwnd, win32con.GWL_EXSTYLE)\\n        self._window = QWindow.fromWinId(self.hwnd)\\n        self._widget = self.createWindowContainer(self._window)\\n        self.dock.setWidget(self._widget)\\n\\n\\nif __name__ == \\'__main__\\':\\n    app = QApplication(sys.argv)\\n    w = Mcve(\"C:\\\\\\\\Windows\\\\\\\\system32\\\\\\\\calc.exe\")\\n    w.show()\\n    sys.exit(app.exec_())\\n\\nThe goal here is to fix the code so the window attaching/detaching into a QDockWidget will be made properly. Right now the code has 2 important issues.\\n\\nIssue1\\n\\nStyle of the original window is screwed up:\\n\\na) Before attaching (the calculator has a menu bar)\\n\\n\\n\\nb) When attached (the calculator menu bar is gone)\\n\\n\\n\\nc) When detached (the menu bar hasn\\'t been restored properly)\\n\\n\\n\\nI\\'ve already tried using flags/setFlags qt functions or getWindowLong/setWindowLong bit I haven\\'t had luck with all my attempts\\n\\nIssue2\\n\\nIf you have attached and detached the calculator to the mainwindow and then you decide to close the mainwindow you definitely want everything (pyqt process) to be closed and cleaned properly, right now that won\\'t be the case, why?\\n\\nIn fact, when you\\'ve attached/detached the calculator to the mainwindow the python process will hold and you\\'ll need to force the termination of the process manually (ie: ctrl+break conemu, ctrl+c cmd prompt)... which indicates the code is not doing things correctly when parenting/deparenting\\n\\nAdditional notes:\\n\\n\\nhttp://doc.qt.io/qt-5/qwindow.html#fromWinId\\nhttp://doc.qt.io/qt-5/qwidget.html#createWindowContainer\\nIn the above minimal code I\\'m spawning calc.exe as a child process but you can assume calc.exe is an existing non-child process spawned by let\\'s say explorer.exe\\n\\n    '"
      ]
     },
     "execution_count": 161,
     "metadata": {},
     "output_type": "execute_result"
    }
   ],
   "source": [
    "final_question"
   ]
  },
  {
   "cell_type": "code",
   "execution_count": 162,
   "metadata": {},
   "outputs": [
    {
     "name": "stdout",
     "output_type": "stream",
     "text": [
      "('\\n'\n",
      " '                    \\n'\n",
      " 'Consider this little piece of code:\\n'\n",
      " '\\n'\n",
      " 'import subprocess\\n'\n",
      " 'import win32gui\\n'\n",
      " 'import win32con\\n'\n",
      " 'import time\\n'\n",
      " 'import sys\\n'\n",
      " 'from PyQt5.Qt import *  # noqa\\n'\n",
      " '\\n'\n",
      " '\\n'\n",
      " 'class Mcve(QMainWindow):\\n'\n",
      " '\\n'\n",
      " '    def __init__(self, path_exe):\\n'\n",
      " '        super().__init__()\\n'\n",
      " '\\n'\n",
      " '        menu = self.menuBar()\\n'\n",
      " '\\n'\n",
      " \"        attach_action = QAction('Attach', self)\\n\"\n",
      " '        attach_action.triggered.connect(self.attach)\\n'\n",
      " '        menu.addAction(attach_action)\\n'\n",
      " '\\n'\n",
      " \"        detach_action = QAction('Detach', self)\\n\"\n",
      " '        detach_action.triggered.connect(self.detach)\\n'\n",
      " '        menu.addAction(detach_action)\\n'\n",
      " '\\n'\n",
      " '        self.dock = QDockWidget(\"Attach window\", self)\\n'\n",
      " '        self.addDockWidget(Qt.RightDockWidgetArea, self.dock)\\n'\n",
      " '\\n'\n",
      " '        p = subprocess.Popen(path_exe)\\n'\n",
      " \"        time.sleep(0.5)  # Give enough time so FindWindowEx won't return 0\\n\"\n",
      " '        self.hwnd = win32gui.FindWindowEx(0, 0, \"CalcFrame\", None)\\n'\n",
      " '        if self.hwnd == 0:\\n'\n",
      " '            raise Exception(\"Process not found\")\\n'\n",
      " '\\n'\n",
      " '    def detach(self):\\n'\n",
      " '        try:\\n'\n",
      " '            self._window.setParent(None)\\n'\n",
      " '            # win32gui.SetWindowLong(self.hwnd, win32con.GWL_EXSTYLE, '\n",
      " 'self._style)\\n'\n",
      " '            self._window.show()\\n'\n",
      " '            self.dock.setWidget(None)\\n'\n",
      " '            self._widget = None\\n'\n",
      " '            self._window = None\\n'\n",
      " '        except Exception as e:\\n'\n",
      " '            import traceback\\n'\n",
      " '            traceback.print_exc()\\n'\n",
      " '\\n'\n",
      " '    def attach(self):\\n'\n",
      " '        # self._style = win32gui.GetWindowLong(self.hwnd, '\n",
      " 'win32con.GWL_EXSTYLE)\\n'\n",
      " '        self._window = QWindow.fromWinId(self.hwnd)\\n'\n",
      " '        self._widget = self.createWindowContainer(self._window)\\n'\n",
      " '        self.dock.setWidget(self._widget)\\n'\n",
      " '\\n'\n",
      " '\\n'\n",
      " \"if __name__ == '__main__':\\n\"\n",
      " '    app = QApplication(sys.argv)\\n'\n",
      " '    w = Mcve(\"C:\\\\\\\\Windows\\\\\\\\system32\\\\\\\\calc.exe\")\\n'\n",
      " '    w.show()\\n'\n",
      " '    sys.exit(app.exec_())\\n'\n",
      " '\\n'\n",
      " 'The goal here is to fix the code so the window attaching/detaching into a '\n",
      " 'QDockWidget will be made properly. Right now the code has 2 important '\n",
      " 'issues.\\n'\n",
      " '\\n'\n",
      " 'Issue1\\n'\n",
      " '\\n'\n",
      " 'Style of the original window is screwed up:\\n'\n",
      " '\\n'\n",
      " 'a) Before attaching (the calculator has a menu bar)\\n'\n",
      " '\\n'\n",
      " '\\n'\n",
      " '\\n'\n",
      " 'b) When attached (the calculator menu bar is gone)\\n'\n",
      " '\\n'\n",
      " '\\n'\n",
      " '\\n'\n",
      " \"c) When detached (the menu bar hasn't been restored properly)\\n\"\n",
      " '\\n'\n",
      " '\\n'\n",
      " '\\n'\n",
      " \"I've already tried using flags/setFlags qt functions or \"\n",
      " \"getWindowLong/setWindowLong bit I haven't had luck with all my attempts\\n\"\n",
      " '\\n'\n",
      " 'Issue2\\n'\n",
      " '\\n'\n",
      " 'If you have attached and detached the calculator to the mainwindow and then '\n",
      " 'you decide to close the mainwindow you definitely want everything (pyqt '\n",
      " \"process) to be closed and cleaned properly, right now that won't be the \"\n",
      " 'case, why?\\n'\n",
      " '\\n'\n",
      " \"In fact, when you've attached/detached the calculator to the mainwindow the \"\n",
      " \"python process will hold and you'll need to force the termination of the \"\n",
      " 'process manually (ie: ctrl+break conemu, ctrl+c cmd prompt)... which '\n",
      " 'indicates the code is not doing things correctly when parenting/deparenting\\n'\n",
      " '\\n'\n",
      " 'Additional notes:\\n'\n",
      " '\\n'\n",
      " '\\n'\n",
      " 'http://doc.qt.io/qt-5/qwindow.html#fromWinId\\n'\n",
      " 'http://doc.qt.io/qt-5/qwidget.html#createWindowContainer\\n'\n",
      " \"In the above minimal code I'm spawning calc.exe as a child process but you \"\n",
      " \"can assume calc.exe is an existing non-child process spawned by let's say \"\n",
      " 'explorer.exe\\n'\n",
      " '\\n'\n",
      " '    ')\n"
     ]
    }
   ],
   "source": [
    "pprint(final_question)"
   ]
  },
  {
   "cell_type": "code",
   "execution_count": 133,
   "metadata": {},
   "outputs": [
    {
     "data": {
      "text/plain": [
       "str"
      ]
     },
     "execution_count": 133,
     "metadata": {},
     "output_type": "execute_result"
    }
   ],
   "source": [
    "type(post.get())"
   ]
  },
  {
   "cell_type": "code",
   "execution_count": 164,
   "metadata": {},
   "outputs": [
    {
     "name": "stdout",
     "output_type": "stream",
     "text": [
      "https://i.stack.imgur.com/4M4er.png\n",
      "https://i.stack.imgur.com/DASMq.png\n",
      "https://i.stack.imgur.com/s5oOE.png\n"
     ]
    }
   ],
   "source": [
    "for i in post2.xpath('.//img/@src'):\n",
    "    print(i.get())"
   ]
  },
  {
   "cell_type": "code",
   "execution_count": 172,
   "metadata": {},
   "outputs": [
    {
     "data": {
      "text/plain": [
       "[]"
      ]
     },
     "execution_count": 172,
     "metadata": {},
     "output_type": "execute_result"
    }
   ],
   "source": [
    "page.xpath('//div[@class=\"post-text\"]/following::node()')"
   ]
  },
  {
   "cell_type": "code",
   "execution_count": 173,
   "metadata": {},
   "outputs": [],
   "source": [
    "from bot import Selenium_bot"
   ]
  },
  {
   "cell_type": "code",
   "execution_count": 174,
   "metadata": {},
   "outputs": [],
   "source": [
    "bot = Selenium_bot(javascript=False)"
   ]
  },
  {
   "cell_type": "code",
   "execution_count": 175,
   "metadata": {},
   "outputs": [],
   "source": [
    "bot.driver.get('https://stackoverflow.com/questions/54388685/issues-when-attaching-and-detaching-external-app-from-qdockwidget')"
   ]
  },
  {
   "cell_type": "code",
   "execution_count": 176,
   "metadata": {},
   "outputs": [],
   "source": [
    "source_page_sem_js = bot.driver.page_source"
   ]
  },
  {
   "cell_type": "code",
   "execution_count": 177,
   "metadata": {},
   "outputs": [],
   "source": [
    "page_sem_js = Selector(source_page_sem_js)"
   ]
  },
  {
   "cell_type": "code",
   "execution_count": 186,
   "metadata": {},
   "outputs": [
    {
     "name": "stdout",
     "output_type": "stream",
     "text": [
      "['\\n                    \\n',\n",
      " 'Consider this little piece of code:',\n",
      " '\\n\\n',\n",
      " 'import subprocess\\n'\n",
      " 'import win32gui\\n'\n",
      " 'import win32con\\n'\n",
      " 'import time\\n'\n",
      " 'import sys\\n'\n",
      " 'from PyQt5.Qt import *  # noqa\\n'\n",
      " '\\n'\n",
      " '\\n'\n",
      " 'class Mcve(QMainWindow):\\n'\n",
      " '\\n'\n",
      " '    def __init__(self, path_exe):\\n'\n",
      " '        super().__init__()\\n'\n",
      " '\\n'\n",
      " '        menu = self.menuBar()\\n'\n",
      " '\\n'\n",
      " \"        attach_action = QAction('Attach', self)\\n\"\n",
      " '        attach_action.triggered.connect(self.attach)\\n'\n",
      " '        menu.addAction(attach_action)\\n'\n",
      " '\\n'\n",
      " \"        detach_action = QAction('Detach', self)\\n\"\n",
      " '        detach_action.triggered.connect(self.detach)\\n'\n",
      " '        menu.addAction(detach_action)\\n'\n",
      " '\\n'\n",
      " '        self.dock = QDockWidget(\"Attach window\", self)\\n'\n",
      " '        self.addDockWidget(Qt.RightDockWidgetArea, self.dock)\\n'\n",
      " '\\n'\n",
      " '        p = subprocess.Popen(path_exe)\\n'\n",
      " \"        time.sleep(0.5)  # Give enough time so FindWindowEx won't return 0\\n\"\n",
      " '        self.hwnd = win32gui.FindWindowEx(0, 0, \"CalcFrame\", None)\\n'\n",
      " '        if self.hwnd == 0:\\n'\n",
      " '            raise Exception(\"Process not found\")\\n'\n",
      " '\\n'\n",
      " '    def detach(self):\\n'\n",
      " '        try:\\n'\n",
      " '            self._window.setParent(None)\\n'\n",
      " '            # win32gui.SetWindowLong(self.hwnd, win32con.GWL_EXSTYLE, '\n",
      " 'self._style)\\n'\n",
      " '            self._window.show()\\n'\n",
      " '            self.dock.setWidget(None)\\n'\n",
      " '            self._widget = None\\n'\n",
      " '            self._window = None\\n'\n",
      " '        except Exception as e:\\n'\n",
      " '            import traceback\\n'\n",
      " '            traceback.print_exc()\\n'\n",
      " '\\n'\n",
      " '    def attach(self):\\n'\n",
      " '        # self._style = win32gui.GetWindowLong(self.hwnd, '\n",
      " 'win32con.GWL_EXSTYLE)\\n'\n",
      " '        self._window = QWindow.fromWinId(self.hwnd)\\n'\n",
      " '        self._widget = self.createWindowContainer(self._window)\\n'\n",
      " '        self.dock.setWidget(self._widget)\\n'\n",
      " '\\n'\n",
      " '\\n'\n",
      " \"if __name__ == '__main__':\\n\"\n",
      " '    app = QApplication(sys.argv)\\n'\n",
      " '    w = Mcve(\"C:\\\\\\\\Windows\\\\\\\\system32\\\\\\\\calc.exe\")\\n'\n",
      " '    w.show()\\n'\n",
      " '    sys.exit(app.exec_())\\n',\n",
      " '\\n\\n',\n",
      " 'The goal here is to fix the code so the window attaching/detaching into a '\n",
      " 'QDockWidget will be made properly. Right now the code has 2 important '\n",
      " 'issues.',\n",
      " '\\n\\n',\n",
      " 'Issue1',\n",
      " '\\n\\n',\n",
      " 'Style of the original window is screwed up:',\n",
      " '\\n\\n',\n",
      " 'a) Before attaching (the calculator has a menu bar)',\n",
      " '\\n\\n',\n",
      " '\\n\\n',\n",
      " 'b) When attached (the calculator menu bar is gone)',\n",
      " '\\n\\n',\n",
      " '\\n\\n',\n",
      " \"c) When detached (the menu bar hasn't been restored properly)\",\n",
      " '\\n\\n',\n",
      " '\\n\\n',\n",
      " \"I've already tried using flags/setFlags qt functions or \"\n",
      " \"getWindowLong/setWindowLong bit I haven't had luck with all my attempts\",\n",
      " '\\n\\n',\n",
      " 'Issue2',\n",
      " '\\n\\n',\n",
      " 'If you have attached and detached the calculator to the mainwindow and then '\n",
      " 'you decide to close the mainwindow you definitely want everything (pyqt '\n",
      " \"process) to be closed and cleaned properly, right now that won't be the \"\n",
      " 'case, why?',\n",
      " '\\n\\n',\n",
      " \"In fact, when you've attached/detached the calculator to the mainwindow the \"\n",
      " \"python process will hold and you'll need to force the termination of the \"\n",
      " 'process manually (ie: ctrl+break conemu, ctrl+c cmd prompt)... which '\n",
      " 'indicates the code is not doing things correctly when parenting/deparenting',\n",
      " '\\n\\n',\n",
      " 'Additional notes:',\n",
      " '\\n\\n',\n",
      " '\\n',\n",
      " 'http://doc.qt.io/qt-5/qwindow.html#fromWinId',\n",
      " '\\n',\n",
      " 'http://doc.qt.io/qt-5/qwidget.html#createWindowContainer',\n",
      " '\\n',\n",
      " \"In the above minimal code I'm spawning calc.exe as a child process but you \"\n",
      " \"can assume calc.exe is an existing non-child process spawned by let's say \",\n",
      " 'explorer.exe',\n",
      " '\\n',\n",
      " '\\n    ']\n"
     ]
    }
   ],
   "source": [
    "pprint(page_sem_js.xpath('//div[@class=\"post-text\"]//text()').getall())"
   ]
  },
  {
   "cell_type": "code",
   "execution_count": 230,
   "metadata": {},
   "outputs": [
    {
     "data": {
      "text/plain": [
       "['python', 'windows', 'qt', 'pyqt']"
      ]
     },
     "execution_count": 230,
     "metadata": {},
     "output_type": "execute_result"
    }
   ],
   "source": [
    "tags = page2.xpath('//div[contains(@class, \"post-layout--right\")]').xpath('.//a[contains(@class, \"post-tag\")]//text()').getall()\n",
    "tags"
   ]
  },
  {
   "cell_type": "code",
   "execution_count": 233,
   "metadata": {},
   "outputs": [
    {
     "data": {
      "text/plain": [
       "[\"Jan 27 '19 at 18:58\", \"Jan 27 '19 at 13:33\"]"
      ]
     },
     "execution_count": 233,
     "metadata": {},
     "output_type": "execute_result"
    }
   ],
   "source": [
    "page2.xpath('//div[contains(@class, \"post-layout--right\")]')\\\n",
    ".xpath('.//div[@class=\"user-action-time\"]')\\\n",
    ".xpath('.//span[@class=\"relativetime\"]//text()').getall()"
   ]
  },
  {
   "cell_type": "code",
   "execution_count": 232,
   "metadata": {},
   "outputs": [
    {
     "data": {
      "text/plain": [
       "\"Jan 27 '19 at 13:33\""
      ]
     },
     "execution_count": 232,
     "metadata": {},
     "output_type": "execute_result"
    }
   ],
   "source": [
    "data = page2.xpath('//div[contains(@class, \"post-layout--right\")]').xpath('.//div[@class=\"user-action-time\"]').xpath('.//span[@class=\"relativetime\"]//text()').getall()\n",
    "data.reverse()\n",
    "data[0]"
   ]
  },
  {
   "cell_type": "code",
   "execution_count": 281,
   "metadata": {},
   "outputs": [
    {
     "data": {
      "text/plain": [
       "[<Selector xpath='//div[@class=\"post-layout\"]' data='<div class=\"post-layout\">\\n        <div c'>]"
      ]
     },
     "execution_count": 281,
     "metadata": {},
     "output_type": "execute_result"
    }
   ],
   "source": [
    "question_body = page2.xpath('//div[@class=\"post-layout\"]')\n",
    "question_body"
   ]
  },
  {
   "cell_type": "code",
   "execution_count": 216,
   "metadata": {},
   "outputs": [
    {
     "data": {
      "text/plain": [
       "'BPL'"
      ]
     },
     "execution_count": 216,
     "metadata": {},
     "output_type": "execute_result"
    }
   ],
   "source": [
    "author = page2.xpath('//div[contains(@class, \"post-layout--right\")]').xpath('.//div[@class=\"user-info \"]').xpath('.//div[@class=\"user-details\"]/a//text()').get()\n",
    "author"
   ]
  },
  {
   "cell_type": "code",
   "execution_count": 236,
   "metadata": {},
   "outputs": [
    {
     "data": {
      "text/plain": [
       "'Issues when attaching and detaching external app from QDockWidget'"
      ]
     },
     "execution_count": 236,
     "metadata": {},
     "output_type": "execute_result"
    }
   ],
   "source": [
    "page2.xpath('//div[@id=\"question-header\"]').xpath('.//a[contains(@class, \"question\")]/text()').get()"
   ]
  },
  {
   "cell_type": "code",
   "execution_count": 279,
   "metadata": {},
   "outputs": [
    {
     "data": {
      "text/plain": [
       "[<Selector xpath='//div[contains(@class, \"comment-body\")]' data='<div class=\"comment-body js-comment-edit'>,\n",
       " <Selector xpath='//div[contains(@class, \"comment-body\")]' data='<div class=\"comment-body js-comment-edit'>,\n",
       " <Selector xpath='//div[contains(@class, \"comment-body\")]' data='<div class=\"comment-body js-comment-edit'>,\n",
       " <Selector xpath='//div[contains(@class, \"comment-body\")]' data='<div class=\"comment-body js-comment-edit'>]"
      ]
     },
     "execution_count": 279,
     "metadata": {},
     "output_type": "execute_result"
    }
   ],
   "source": [
    "question_comments = question_body.xpath('//div[contains(@class, \"comment-body\")]')\n",
    "question_comments"
   ]
  },
  {
   "cell_type": "code",
   "execution_count": 255,
   "metadata": {},
   "outputs": [
    {
     "name": "stdout",
     "output_type": "stream",
     "text": [
      "{'text': \"Lol, somebody ripped off the content of my post to that crappy blogspot site. And he didn't even fix nor answered my question, too bad :P\", 'author': 'BPL', 'time': \"Mar 17 '19 at 10:15\"}\n",
      "{'text': \"To be honest, I don't care at all about people scrapping content from other sites, the main problem is usually these scrapping sites don't add any additional value to the original content while they just try to SEO their sites to make some money... Btw, what do you mean with \", 'author': 'BPL', 'time': \"Mar 17 '19 at 10:36\"}\n",
      "{'text': 'Have you found the solution sir? If so may I have the code?', 'author': 'Andrie', 'time': 'Jul 11 at 8:21'}\n",
      "{'text': \"Andrie, hi, unfortunately I had given up with this code at the time of opening the question, that was more than 1 year ago... I recall at that time I'd given a lot of bounties but nobody was able to provide any solution to the problem and I lost interest on it. That said, If you ever find the solution, pls feel free to post it here and I'll review it ;) . As you can see this has become quite an interesting one\", 'author': 'BPL', 'time': 'Jul 11 at 11:04'}\n"
     ]
    }
   ],
   "source": [
    "comment_list = []\n",
    "for c in question_comments:\n",
    "    comment = {'text': \"\", 'author': \"\", 'time': \"\"}\n",
    "    comment['text'] = c.xpath('.//span[@class=\"comment-copy\"]/text()').get()\n",
    "    comment['author'] = c.xpath('.//a[contains(@class, \"comment-user\")]/text()').get()\n",
    "    comment['time'] = c.xpath('.//span[contains(@class, \"relativetime\")]/text()').get()\n",
    "    comment_list.append(comment)\n",
    "\n",
    "for i in comment_list:\n",
    "    print(i)\n",
    "    \n",
    "    "
   ]
  },
  {
   "cell_type": "code",
   "execution_count": 257,
   "metadata": {},
   "outputs": [],
   "source": [
    "driver.get('https://stackoverflow.com/questions/46691638/how-to-disable-pycharm-from-automatically-updating-python-interpreter-on-startup')"
   ]
  },
  {
   "cell_type": "code",
   "execution_count": 258,
   "metadata": {},
   "outputs": [],
   "source": [
    "page3 = Selector(driver.page_source)"
   ]
  },
  {
   "cell_type": "code",
   "execution_count": 259,
   "metadata": {},
   "outputs": [
    {
     "data": {
      "text/plain": [
       "<Selector xpath=None data='<html itemscope=\"\" itemtype=\"http://sche'>"
      ]
     },
     "execution_count": 259,
     "metadata": {},
     "output_type": "execute_result"
    }
   ],
   "source": [
    "page3"
   ]
  },
  {
   "cell_type": "code",
   "execution_count": 264,
   "metadata": {},
   "outputs": [],
   "source": [
    "answers = page3.xpath('//div[@class=\"answer\"]')"
   ]
  },
  {
   "cell_type": "code",
   "execution_count": 277,
   "metadata": {},
   "outputs": [
    {
     "name": "stdout",
     "output_type": "stream",
     "text": [
      "\n",
      "From the official PyCharm help forum:\n",
      "\n",
      "\n",
      "  You need to update the cofiguration file at / with the following code\n",
      "\n",
      "\n",
      "<application>\n",
      " <component name=\"UpdatesConfigurable\">\n",
      "   <option name=\"CHECK_NEEDED\" value=\"false\" />\n",
      " </component>\n",
      "</application>\n",
      "    \n",
      "Jimmy Lee Jones\n",
      "Mar 30 '18 at 6:58\n",
      "\n",
      "\n",
      "Comment 0\n",
      "This is about checking updates of PyCharm itself. This has nothing to do with updating the packages in the interpreter.\n",
      "yole\n",
      "Mar 30 '18 at 7:04\n",
      "---------------\n",
      "\n",
      "\n",
      "If you want choose and update the Python interpreter in use for your project only when you want, you can set the Project Interpreter to Virtualenv.\n",
      "\n",
      "From the menu File -> Settings you should choose:\n",
      "\n",
      "\n",
      "Project: name of the project\n",
      "Project Interpreter\n",
      "Add...from the icon: gear icon\n",
      "\n",
      "\n",
      "On section Virtualenv Environment choose New environment and the version of Base Interpreter\n",
      "    \n",
      "Stefano Pasquini\n",
      "Jan 20 at 12:10\n",
      "---------------\n",
      "\n",
      "\n",
      "From the PyCharm help page:\n",
      "\n",
      "You can manage PyCharm updates on the Updates page under Appearance\n",
      "and Behavior | System Settings in the Settings/Preferences dialog\n",
      "Ctrl+Alt+S: Disable automatic update checks﻿\n",
      "In the Settings/Preferences dialog Ctrl+Alt+S, select Appearance and\n",
      "Behavior | System Settings | Updates.\n",
      "Clear the Automatically check updates for checkbox.\n",
      "\n",
      "    \n",
      "Juan Carlos Ramirez\n",
      "Jul 8 at 16:24\n",
      "---------------\n",
      "\n"
     ]
    }
   ],
   "source": [
    "for a in answers:\n",
    "    print(''.join(a.xpath('.//div[@class=\"post-text\"]//text()').getall()))\n",
    "    user_info = a.xpath('.//div[contains(@class, \"user-info\")]')\n",
    "    print(user_info.xpath('.//div[@class=\"user-details\"]/a/text()').get())\n",
    "    print(user_info.xpath('.//div[@class=\"user-action-time\"]/span/text()').get())\n",
    "    comment_in_answer_list = a.xpath('.//div[contains(@class,\"comment-body\")]')\n",
    "    for i, comment_in_answer in enumerate(comment_in_answer_list):\n",
    "        comment_in_answer_text = comment_in_answer.xpath('.//span[@class=\"comment-copy\"]/text()').get()\n",
    "        comment_in_answer_author = comment_in_answer.xpath('.//a[@class=\"comment-user\"]/text()').get()\n",
    "        comment_in_answer_data = comment_in_answer.xpath('.//span[contains(@class, \"relativetime\")]/text()').get()\n",
    "        print(f'\\n\\nComment {i}')\n",
    "        print(comment_in_answer_text)\n",
    "        print(comment_in_answer_author)\n",
    "        print(comment_in_answer_data)\n",
    "    print('---------------\\n')"
   ]
  },
  {
   "cell_type": "code",
   "execution_count": 285,
   "metadata": {},
   "outputs": [],
   "source": [
    "# next\n",
    "driver.get('https://stackoverflow.com/questions/tagged/python')\n",
    "page4 = Selector(driver.page_source)"
   ]
  },
  {
   "cell_type": "code",
   "execution_count": 295,
   "metadata": {},
   "outputs": [
    {
     "data": {
      "text/plain": [
       "'1'"
      ]
     },
     "execution_count": 295,
     "metadata": {},
     "output_type": "execute_result"
    }
   ],
   "source": [
    "page4.xpath('//div[contains(@class, \"s-pagination--item is-selected\")]/text()').get()"
   ]
  },
  {
   "cell_type": "code",
   "execution_count": 291,
   "metadata": {},
   "outputs": [
    {
     "data": {
      "text/plain": [
       "1"
      ]
     },
     "execution_count": 291,
     "metadata": {},
     "output_type": "execute_result"
    }
   ],
   "source": [
    "int(page4.xpath('//div[contains(@class, \"s-pagination--item is-selected\")]/text()').get())"
   ]
  },
  {
   "cell_type": "code",
   "execution_count": 294,
   "metadata": {},
   "outputs": [
    {
     "data": {
      "text/plain": [
       "'/questions/tagged/python?tab=unanswered&page=2&pagesize=15'"
      ]
     },
     "execution_count": 294,
     "metadata": {},
     "output_type": "execute_result"
    }
   ],
   "source": [
    "page4.xpath('//a[@rel=\"next\"]/@href').get()\n"
   ]
  },
  {
   "cell_type": "code",
   "execution_count": 299,
   "metadata": {},
   "outputs": [],
   "source": [
    "data = {\"initial_search\": {\"search_query\": \"\",\n",
    "                            \"search_title_result\": \"\",\n",
    "                            \"search_text_result\": \"\"},       \n",
    "                            \n",
    "        \"all_questions\": [{\"question_title\": \"\",\n",
    "                            \"question_preview_text\": \"\",\n",
    "                            \"question_text\": \"\",\n",
    "                            \"question_author\": \"\",\n",
    "                            \"question_date\": \"\",\n",
    "                            \"question_tags\": \"\" ,\n",
    "                            \"question_comments\": [{\"text\": \"\",\n",
    "                                                    \"author\":\"\",\n",
    "                                                    \"date\": \"\"\n",
    "\t\t\t\t\t\t\t\t\t\t\t\t\t}],\n",
    "          \t\t\t\t    \"all_answer\": [{\"answer_text\": \"\",\n",
    "                          \t\t\t\t   \"answer_author\": \"\",\n",
    "                           \t\t\t\t   \"answer_date\": \"\",\n",
    "                           \t\t\t\t   \"answer_comments\": [{\"text\": \"\",\n",
    "                                            \t\t\t\t     \"author\":\"\",\n",
    "                                                 \t\t\t\t \"date\": \"\"\n",
    "\t\t\t\t\t\t\t\t\t\t\t\t \t\t\t   }],\n",
    "                         \t\t\t\t  }]\n",
    "                        }]\n",
    "        }"
   ]
  },
  {
   "cell_type": "code",
   "execution_count": 301,
   "metadata": {},
   "outputs": [
    {
     "data": {
      "text/plain": [
       "[{'answer_text': '',\n",
       "  'answer_author': '',\n",
       "  'answer_date': '',\n",
       "  'answer_comments': [{'text': '', 'author': '', 'date': ''}]}]"
      ]
     },
     "execution_count": 301,
     "metadata": {},
     "output_type": "execute_result"
    }
   ],
   "source": [
    "data['all_questions'][0]['all_answer']"
   ]
  },
  {
   "cell_type": "code",
   "execution_count": 304,
   "metadata": {},
   "outputs": [],
   "source": [
    "data['all_questions'].append({\"question_title\": \"primera pregunta\",\n",
    "                              \"question_preview_text\": \"es la descripcion de la pregunta\",\n",
    "                              \"question_text\": \"es la explicacion de la pregunta\",\n",
    "                              \"question_author\": \"es el nombre del chabon\",\n",
    "                              \"question_date\": \"es la fecha\",\n",
    "                              \"question_tags\": \"son los tags\" ,\n",
    "                              \"question_comments\": [{\"text\": \"es lo que dijo el chabon\",\n",
    "                                                    \"author\":\"es el nombre del chabon\",\n",
    "                                                    \"date\": \"es la fecha\"\n",
    "\t\t\t\t\t\t\t\t\t\t\t\t\t}],\n",
    "          \t\t\t\t    \"all_answer\": [{\"answer_text\": \"texto de la respues\",\n",
    "                          \t\t\t\t   \"answer_author\": \"autor de la respuesta\",\n",
    "                           \t\t\t\t   \"answer_date\": \"fecha de la respusta\",\n",
    "                           \t\t\t\t   \"answer_comments\": [{\"text\": \"comentario de la respuesta\",\n",
    "                                            \t\t\t\t     \"author\":\"autor del comentario\",\n",
    "                                                 \t\t\t\t \"date\": \"fecha del comentario\"\n",
    "\t\t\t\t\t\t\t\t\t\t\t\t \t\t\t   }]\n",
    "                                                               }]\n",
    "                             })"
   ]
  },
  {
   "cell_type": "code",
   "execution_count": 309,
   "metadata": {},
   "outputs": [
    {
     "data": {
      "text/plain": [
       "{'initial_search': {'search_query': '',\n",
       "  'search_title_result': '',\n",
       "  'search_text_result': ''},\n",
       " 'all_questions': [{'question_title': '',\n",
       "   'question_preview_text': '',\n",
       "   'question_text': '',\n",
       "   'question_author': '',\n",
       "   'question_date': '',\n",
       "   'question_tags': '',\n",
       "   'question_comments': [{'text': '', 'author': '', 'date': ''}],\n",
       "   'all_answer': [{'answer_text': '',\n",
       "     'answer_author': '',\n",
       "     'answer_date': '',\n",
       "     'answer_comments': [{'text': '', 'author': '', 'date': ''}]}]},\n",
       "  {'question_title': 'primera pregunta',\n",
       "   'question_preview_text': 'es la descripcion de la pregunta',\n",
       "   'question_text': 'es la explicacion de la pregunta',\n",
       "   'question_author': 'es el nombre del chabon',\n",
       "   'question_date': 'es la fecha',\n",
       "   'question_tags': 'son los tags',\n",
       "   'question_comments': [{'text': 'es lo que dijo el chabon',\n",
       "     'author': 'es el nombre del chabon',\n",
       "     'date': 'es la fecha'}],\n",
       "   'all_answer': [{'answer_text': 'texto de la respues',\n",
       "     'answer_author': 'autor de la respuesta',\n",
       "     'answer_date': 'fecha de la respusta',\n",
       "     'answer_comments': [{'text': 'comentario de la respuesta',\n",
       "       'author': 'autor del comentario',\n",
       "       'date': 'fecha del comentario'}]}]}]}"
      ]
     },
     "execution_count": 309,
     "metadata": {},
     "output_type": "execute_result"
    }
   ],
   "source": [
    "# from pprint import pprint\n",
    "data"
   ]
  },
  {
   "cell_type": "code",
   "execution_count": 320,
   "metadata": {},
   "outputs": [],
   "source": [
    "data['all_questions'][1]['question_comments'].append({'text':'este otro dijo esto',\n",
    "                                                      'author':'menganito',\n",
    "                                                      'date':'fecha'})"
   ]
  },
  {
   "cell_type": "code",
   "execution_count": null,
   "metadata": {},
   "outputs": [],
   "source": []
  },
  {
   "cell_type": "code",
   "execution_count": 310,
   "metadata": {},
   "outputs": [],
   "source": [
    "# todo chequear el appending to list en la estructura de datos y los calling en el for loop \n",
    "# chequear por que current_page es none cuando deberia ser un numero"
   ]
  },
  {
   "cell_type": "code",
   "execution_count": 311,
   "metadata": {},
   "outputs": [],
   "source": [
    "a =  []"
   ]
  },
  {
   "cell_type": "code",
   "execution_count": 312,
   "metadata": {},
   "outputs": [],
   "source": [
    "b = [1,2,3]"
   ]
  },
  {
   "cell_type": "code",
   "execution_count": 314,
   "metadata": {},
   "outputs": [],
   "source": [
    "a.extend(b)"
   ]
  },
  {
   "cell_type": "code",
   "execution_count": 315,
   "metadata": {},
   "outputs": [
    {
     "data": {
      "text/plain": [
       "[1, 2, 3]"
      ]
     },
     "execution_count": 315,
     "metadata": {},
     "output_type": "execute_result"
    }
   ],
   "source": [
    "a"
   ]
  },
  {
   "cell_type": "code",
   "execution_count": 316,
   "metadata": {},
   "outputs": [],
   "source": [
    "c = [7,8,9]\n",
    "a.extend(c)"
   ]
  },
  {
   "cell_type": "code",
   "execution_count": 317,
   "metadata": {},
   "outputs": [
    {
     "data": {
      "text/plain": [
       "[1, 2, 3, 7, 8, 9]"
      ]
     },
     "execution_count": 317,
     "metadata": {},
     "output_type": "execute_result"
    }
   ],
   "source": [
    "a"
   ]
  },
  {
   "cell_type": "code",
   "execution_count": 321,
   "metadata": {},
   "outputs": [],
   "source": [
    "data = {\"initial_search\": {\"search_query\": \"\",\n",
    "                            \"search_title_result\": \"\",\n",
    "                            \"search_text_result\": \"\"},\n",
    "                            \n",
    "        \"all_questions\": [{ \"question_title\": \"\",\n",
    "                            \"question_text\": \"\",\n",
    "                            \"question_author\": \"\",\n",
    "                            \"question_date\": \"\",\n",
    "                            \"question_tags\": \"\" ,\n",
    "                            \"question_comments\": [{\"text\": \"\",\n",
    "                                                    \"author\":\"\",\n",
    "                                                    \"date\": \"\"\n",
    "\t\t\t\t\t\t\t\t\t\t\t\t\t}],\n",
    "          \t\t\t\t   \"all_answer\": [{\"answer_text\": \"\",\n",
    "                          \t\t\t\t   \"answer_author\": \"\",\n",
    "                           \t\t\t\t   \"answer_date\": \"\",\n",
    "                           \t\t\t\t   \"answer_comments\": [{\"text\": \"\",\n",
    "                                            \t\t\t\t     \"author\":\"\",\n",
    "                                                 \t\t\t\t \"date\": \"\"\n",
    "\t\t\t\t\t\t\t\t\t\t\t\t \t\t\t   }],\n",
    "                         \t\t\t\t  }]\n",
    "                        }]\n",
    "        }"
   ]
  },
  {
   "cell_type": "code",
   "execution_count": 323,
   "metadata": {},
   "outputs": [
    {
     "data": {
      "text/plain": [
       "[{'answer_text': '',\n",
       "  'answer_author': '',\n",
       "  'answer_date': '',\n",
       "  'answer_comments': [{'text': '', 'author': '', 'date': ''}]}]"
      ]
     },
     "execution_count": 323,
     "metadata": {},
     "output_type": "execute_result"
    }
   ],
   "source": [
    "data['all_questions'][0]['all_answer']"
   ]
  },
  {
   "cell_type": "code",
   "execution_count": 326,
   "metadata": {},
   "outputs": [],
   "source": [
    "data2 = { \"question_title\": \"\",\n",
    "                            \"question_text\": \"\",\n",
    "                            \"question_author\": \"\",\n",
    "                            \"question_date\": \"\",\n",
    "                            \"question_tags\": \"\" ,\n",
    "                            \"question_comments\": [{\"text\": \"\",\n",
    "                                                    \"author\":\"\",\n",
    "                                                    \"date\": \"\"\n",
    "\t\t\t\t\t\t\t\t\t\t\t\t\t}],\n",
    "          \t\t\t\t   \"all_answer\": [{\"answer_text\": \"\",\n",
    "                          \t\t\t\t   \"answer_author\": \"\",\n",
    "                           \t\t\t\t   \"answer_date\": \"\",\n",
    "                           \t\t\t\t   \"answer_comments\": [{\"text\": \"\",\n",
    "                                            \t\t\t\t     \"author\":\"\",\n",
    "                                                 \t\t\t\t \"date\": \"\"\n",
    "\t\t\t\t\t\t\t\t\t\t\t\t \t\t\t   }],\n",
    "                         \t\t\t\t  }]\n",
    "                        }"
   ]
  },
  {
   "cell_type": "code",
   "execution_count": null,
   "metadata": {},
   "outputs": [],
   "source": [
    "import json"
   ]
  },
  {
   "cell_type": "code",
   "execution_count": 332,
   "metadata": {},
   "outputs": [],
   "source": [
    "with open('data.json', mode='w', encoding='utf-8') as file:\n",
    "    json.dump([], file)"
   ]
  },
  {
   "cell_type": "code",
   "execution_count": 335,
   "metadata": {},
   "outputs": [],
   "source": [
    "with open('data.json', 'r', encoding='utf-8') as feedjson:\n",
    "    feeds = json.load(feedjson)\n",
    "with open('data.json', 'w', encoding='utf-8') as outfile:\n",
    "    feeds.append(data2)\n",
    "    json.dump(feeds, outfile, ensure_ascii=False, indent=4)"
   ]
  },
  {
   "cell_type": "code",
   "execution_count": 336,
   "metadata": {},
   "outputs": [],
   "source": [
    "# more button in comments\n",
    "more_element = '//a[contains(@class,\"js-show-link comments-link\") and contains(text(), \"show\")]'\n",
    "# driver.execute_script(\"arguments[0].scrollIntoView();\", element)"
   ]
  },
  {
   "cell_type": "code",
   "execution_count": 337,
   "metadata": {
    "collapsed": true
   },
   "outputs": [
    {
     "ename": "WebDriverException",
     "evalue": "Message: Failed to decode response from marionette\n",
     "output_type": "error",
     "traceback": [
      "\u001b[0;31m---------------------------------------------------------------------------\u001b[0m",
      "\u001b[0;31mWebDriverException\u001b[0m                        Traceback (most recent call last)",
      "\u001b[0;32m<ipython-input-337-caec306bb569>\u001b[0m in \u001b[0;36m<module>\u001b[0;34m\u001b[0m\n\u001b[1;32m      4\u001b[0m \u001b[0;31m# before clicking scroll into view\u001b[0m\u001b[0;34m\u001b[0m\u001b[0;34m\u001b[0m\u001b[0;34m\u001b[0m\u001b[0m\n\u001b[1;32m      5\u001b[0m \u001b[0;34m\u001b[0m\u001b[0m\n\u001b[0;32m----> 6\u001b[0;31m \u001b[0mdriver\u001b[0m\u001b[0;34m.\u001b[0m\u001b[0mexecute_script\u001b[0m\u001b[0;34m(\u001b[0m\u001b[0;34m\"arguments[0].scrollIntoView();\"\u001b[0m\u001b[0;34m,\u001b[0m \u001b[0melement\u001b[0m\u001b[0;34m)\u001b[0m\u001b[0;34m\u001b[0m\u001b[0;34m\u001b[0m\u001b[0m\n\u001b[0m",
      "\u001b[0;32m~/anaconda3/lib/python3.7/site-packages/selenium/webdriver/remote/webdriver.py\u001b[0m in \u001b[0;36mexecute_script\u001b[0;34m(self, script, *args)\u001b[0m\n\u001b[1;32m    634\u001b[0m         return self.execute(command, {\n\u001b[1;32m    635\u001b[0m             \u001b[0;34m'script'\u001b[0m\u001b[0;34m:\u001b[0m \u001b[0mscript\u001b[0m\u001b[0;34m,\u001b[0m\u001b[0;34m\u001b[0m\u001b[0;34m\u001b[0m\u001b[0m\n\u001b[0;32m--> 636\u001b[0;31m             'args': converted_args})['value']\n\u001b[0m\u001b[1;32m    637\u001b[0m \u001b[0;34m\u001b[0m\u001b[0m\n\u001b[1;32m    638\u001b[0m     \u001b[0;32mdef\u001b[0m \u001b[0mexecute_async_script\u001b[0m\u001b[0;34m(\u001b[0m\u001b[0mself\u001b[0m\u001b[0;34m,\u001b[0m \u001b[0mscript\u001b[0m\u001b[0;34m,\u001b[0m \u001b[0;34m*\u001b[0m\u001b[0margs\u001b[0m\u001b[0;34m)\u001b[0m\u001b[0;34m:\u001b[0m\u001b[0;34m\u001b[0m\u001b[0;34m\u001b[0m\u001b[0m\n",
      "\u001b[0;32m~/anaconda3/lib/python3.7/site-packages/selenium/webdriver/remote/webdriver.py\u001b[0m in \u001b[0;36mexecute\u001b[0;34m(self, driver_command, params)\u001b[0m\n\u001b[1;32m    319\u001b[0m         \u001b[0mresponse\u001b[0m \u001b[0;34m=\u001b[0m \u001b[0mself\u001b[0m\u001b[0;34m.\u001b[0m\u001b[0mcommand_executor\u001b[0m\u001b[0;34m.\u001b[0m\u001b[0mexecute\u001b[0m\u001b[0;34m(\u001b[0m\u001b[0mdriver_command\u001b[0m\u001b[0;34m,\u001b[0m \u001b[0mparams\u001b[0m\u001b[0;34m)\u001b[0m\u001b[0;34m\u001b[0m\u001b[0;34m\u001b[0m\u001b[0m\n\u001b[1;32m    320\u001b[0m         \u001b[0;32mif\u001b[0m \u001b[0mresponse\u001b[0m\u001b[0;34m:\u001b[0m\u001b[0;34m\u001b[0m\u001b[0;34m\u001b[0m\u001b[0m\n\u001b[0;32m--> 321\u001b[0;31m             \u001b[0mself\u001b[0m\u001b[0;34m.\u001b[0m\u001b[0merror_handler\u001b[0m\u001b[0;34m.\u001b[0m\u001b[0mcheck_response\u001b[0m\u001b[0;34m(\u001b[0m\u001b[0mresponse\u001b[0m\u001b[0;34m)\u001b[0m\u001b[0;34m\u001b[0m\u001b[0;34m\u001b[0m\u001b[0m\n\u001b[0m\u001b[1;32m    322\u001b[0m             response['value'] = self._unwrap_value(\n\u001b[1;32m    323\u001b[0m                 response.get('value', None))\n",
      "\u001b[0;32m~/anaconda3/lib/python3.7/site-packages/selenium/webdriver/remote/errorhandler.py\u001b[0m in \u001b[0;36mcheck_response\u001b[0;34m(self, response)\u001b[0m\n\u001b[1;32m    240\u001b[0m                 \u001b[0malert_text\u001b[0m \u001b[0;34m=\u001b[0m \u001b[0mvalue\u001b[0m\u001b[0;34m[\u001b[0m\u001b[0;34m'alert'\u001b[0m\u001b[0;34m]\u001b[0m\u001b[0;34m.\u001b[0m\u001b[0mget\u001b[0m\u001b[0;34m(\u001b[0m\u001b[0;34m'text'\u001b[0m\u001b[0;34m)\u001b[0m\u001b[0;34m\u001b[0m\u001b[0;34m\u001b[0m\u001b[0m\n\u001b[1;32m    241\u001b[0m             \u001b[0;32mraise\u001b[0m \u001b[0mexception_class\u001b[0m\u001b[0;34m(\u001b[0m\u001b[0mmessage\u001b[0m\u001b[0;34m,\u001b[0m \u001b[0mscreen\u001b[0m\u001b[0;34m,\u001b[0m \u001b[0mstacktrace\u001b[0m\u001b[0;34m,\u001b[0m \u001b[0malert_text\u001b[0m\u001b[0;34m)\u001b[0m\u001b[0;34m\u001b[0m\u001b[0;34m\u001b[0m\u001b[0m\n\u001b[0;32m--> 242\u001b[0;31m         \u001b[0;32mraise\u001b[0m \u001b[0mexception_class\u001b[0m\u001b[0;34m(\u001b[0m\u001b[0mmessage\u001b[0m\u001b[0;34m,\u001b[0m \u001b[0mscreen\u001b[0m\u001b[0;34m,\u001b[0m \u001b[0mstacktrace\u001b[0m\u001b[0;34m)\u001b[0m\u001b[0;34m\u001b[0m\u001b[0;34m\u001b[0m\u001b[0m\n\u001b[0m\u001b[1;32m    243\u001b[0m \u001b[0;34m\u001b[0m\u001b[0m\n\u001b[1;32m    244\u001b[0m     \u001b[0;32mdef\u001b[0m \u001b[0m_value_or_default\u001b[0m\u001b[0;34m(\u001b[0m\u001b[0mself\u001b[0m\u001b[0;34m,\u001b[0m \u001b[0mobj\u001b[0m\u001b[0;34m,\u001b[0m \u001b[0mkey\u001b[0m\u001b[0;34m,\u001b[0m \u001b[0mdefault\u001b[0m\u001b[0;34m)\u001b[0m\u001b[0;34m:\u001b[0m\u001b[0;34m\u001b[0m\u001b[0;34m\u001b[0m\u001b[0m\n",
      "\u001b[0;31mWebDriverException\u001b[0m: Message: Failed to decode response from marionette\n"
     ]
    }
   ],
   "source": [
    "# if the more btn is present in source_page move to it and extract comments \n",
    "# if more element is present on question layout click it and extract comments\n",
    "# if more element is present on answer layout click it and extract comments\n",
    "# before clicking scroll into view\n",
    "\n",
    "driver.execute_script(\"arguments[0].scrollIntoView();\", element)\n"
   ]
  },
  {
   "cell_type": "code",
   "execution_count": 402,
   "metadata": {},
   "outputs": [],
   "source": [
    "driver.get('https://stackoverflow.com/questions/3236751/when-are-comments-too-much-and-when-are-they-not-enough')"
   ]
  },
  {
   "cell_type": "code",
   "execution_count": 348,
   "metadata": {},
   "outputs": [],
   "source": [
    "page_with_more_btn = Selector(driver.page_source)"
   ]
  },
  {
   "cell_type": "code",
   "execution_count": 351,
   "metadata": {},
   "outputs": [
    {
     "data": {
      "text/plain": [
       "[<Selector xpath='//div[@class=\"post-layout\"]' data='<div class=\"post-layout\">\\n        <div c'>,\n",
       " <Selector xpath='//div[@class=\"post-layout\"]' data='<div class=\"post-layout\">\\n        <div c'>,\n",
       " <Selector xpath='//div[@class=\"post-layout\"]' data='<div class=\"post-layout\">\\n        <div c'>,\n",
       " <Selector xpath='//div[@class=\"post-layout\"]' data='<div class=\"post-layout\">\\n        <div c'>,\n",
       " <Selector xpath='//div[@class=\"post-layout\"]' data='<div class=\"post-layout\">\\n        <div c'>,\n",
       " <Selector xpath='//div[@class=\"post-layout\"]' data='<div class=\"post-layout\">\\n        <div c'>,\n",
       " <Selector xpath='//div[@class=\"post-layout\"]' data='<div class=\"post-layout\">\\n        <div c'>,\n",
       " <Selector xpath='//div[@class=\"post-layout\"]' data='<div class=\"post-layout\">\\n        <div c'>,\n",
       " <Selector xpath='//div[@class=\"post-layout\"]' data='<div class=\"post-layout\">\\n        <div c'>,\n",
       " <Selector xpath='//div[@class=\"post-layout\"]' data='<div class=\"post-layout\">\\n        <div c'>]"
      ]
     },
     "execution_count": 351,
     "metadata": {},
     "output_type": "execute_result"
    }
   ],
   "source": [
    "post_layouts = page_with_more_btn.xpath('//div[@class=\"post-layout\"]')\n",
    "post_layouts"
   ]
  },
  {
   "cell_type": "code",
   "execution_count": 410,
   "metadata": {},
   "outputs": [
    {
     "data": {
      "text/plain": [
       "[<selenium.webdriver.firefox.webelement.FirefoxWebElement (session=\"2bc1b002-2b2a-4a10-bf2c-02fd546c0df6\", element=\"bddc2c60-8a3e-4992-896f-eeff367bb644\")>]"
      ]
     },
     "execution_count": 410,
     "metadata": {},
     "output_type": "execute_result"
    }
   ],
   "source": [
    "driver.find_elements_by_xpath('//a[contains(@class,\"js-show-link comments-link\") and contains(text(), \"show\")]')"
   ]
  },
  {
   "cell_type": "code",
   "execution_count": 406,
   "metadata": {},
   "outputs": [],
   "source": [
    "more_show = driver.find_element_by_xpath('//a[contains(@class,\"js-show-link comments-link\") and contains(text(), \"show\")]')\n",
    "driver.execute_script(\"arguments[0].scrollIntoView();\", more_show)"
   ]
  },
  {
   "cell_type": "code",
   "execution_count": 424,
   "metadata": {},
   "outputs": [
    {
     "data": {
      "text/plain": [
       "[]"
      ]
     },
     "execution_count": 424,
     "metadata": {},
     "output_type": "execute_result"
    }
   ],
   "source": [
    "post_layout2 = driver.find_element_by_xpath('//div[@class=\"post-layout\"]')\n",
    "post_layout2\n",
    "more_element = post_layout2.find_elements_by_xpath('.//a[contains(@class,\"js-show-link comments-link\") and contains(text(), \"show\")]')\n",
    "# driver.execute_script(\"arguments[0].scrollIntoView();\", more_element)\n",
    "# more_element.click()\n",
    "more_element"
   ]
  },
  {
   "cell_type": "code",
   "execution_count": 421,
   "metadata": {},
   "outputs": [
    {
     "name": "stdout",
     "output_type": "stream",
     "text": [
      "<selenium.webdriver.firefox.webelement.FirefoxWebElement (session=\"2bc1b002-2b2a-4a10-bf2c-02fd546c0df6\", element=\"bddc2c60-8a3e-4992-896f-eeff367bb644\")>\n",
      "Not found on that layout\n",
      "Not found on that layout\n",
      "Not found on that layout\n",
      "Not found on that layout\n",
      "Not found on that layout\n",
      "Not found on that layout\n",
      "Not found on that layout\n",
      "Not found on that layout\n",
      "Not found on that layout\n"
     ]
    }
   ],
   "source": [
    "for i in driver.find_elements_by_xpath('//div[@class=\"post-layout\"]'):\n",
    "    try:\n",
    "        more_ele = i.find_element_by_xpath('.//a[contains(@class,\"js-show-link comments-link\") and contains(text(), \"show\")]')\n",
    "        print(more_ele)\n",
    "        driver.execute_script(\"arguments[0].scrollIntoView();\", more_ele)\n",
    "        more_ele.click()\n",
    "    except Exception as error:\n",
    "        print('Not found on that layout')"
   ]
  },
  {
   "cell_type": "code",
   "execution_count": 363,
   "metadata": {
    "collapsed": true
   },
   "outputs": [
    {
     "name": "stdout",
     "output_type": "stream",
     "text": [
      "[<Selector xpath='.//a[contains(@class,\"js-show-link comments-link\") and contains(text(), \"show\")]' data='<a class=\"js-show-link comments-link \" t'>]\n"
     ]
    },
    {
     "ename": "TypeError",
     "evalue": "Object of type Selector is not JSON serializable",
     "output_type": "error",
     "traceback": [
      "\u001b[0;31m---------------------------------------------------------------------------\u001b[0m",
      "\u001b[0;31mTypeError\u001b[0m                                 Traceback (most recent call last)",
      "\u001b[0;32m<ipython-input-363-8ce2b6b95ab6>\u001b[0m in \u001b[0;36m<module>\u001b[0;34m\u001b[0m\n\u001b[1;32m      3\u001b[0m     \u001b[0mprint\u001b[0m\u001b[0;34m(\u001b[0m\u001b[0mpost\u001b[0m\u001b[0;34m.\u001b[0m\u001b[0mxpath\u001b[0m\u001b[0;34m(\u001b[0m\u001b[0;34m'.//a[contains(@class,\"js-show-link comments-link\") and contains(text(), \"show\")]'\u001b[0m\u001b[0;34m)\u001b[0m\u001b[0;34m)\u001b[0m\u001b[0;34m\u001b[0m\u001b[0;34m\u001b[0m\u001b[0m\n\u001b[1;32m      4\u001b[0m     \u001b[0;32mif\u001b[0m \u001b[0mlen\u001b[0m\u001b[0;34m(\u001b[0m\u001b[0mmore_btn\u001b[0m\u001b[0;34m)\u001b[0m \u001b[0;34m>=\u001b[0m \u001b[0;36m1\u001b[0m\u001b[0;34m:\u001b[0m\u001b[0;34m\u001b[0m\u001b[0;34m\u001b[0m\u001b[0m\n\u001b[0;32m----> 5\u001b[0;31m         \u001b[0mdriver\u001b[0m\u001b[0;34m.\u001b[0m\u001b[0mexecute_script\u001b[0m\u001b[0;34m(\u001b[0m\u001b[0;34mf\"aguments[0].scrollIntoView();\"\u001b[0m\u001b[0;34m,\u001b[0m \u001b[0mmore_btn\u001b[0m\u001b[0;34m[\u001b[0m\u001b[0;36m0\u001b[0m\u001b[0;34m]\u001b[0m\u001b[0;34m)\u001b[0m\u001b[0;34m\u001b[0m\u001b[0;34m\u001b[0m\u001b[0m\n\u001b[0m\u001b[1;32m      6\u001b[0m \u001b[0;34m\u001b[0m\u001b[0m\n",
      "\u001b[0;32m~/anaconda3/lib/python3.7/site-packages/selenium/webdriver/remote/webdriver.py\u001b[0m in \u001b[0;36mexecute_script\u001b[0;34m(self, script, *args)\u001b[0m\n\u001b[1;32m    634\u001b[0m         return self.execute(command, {\n\u001b[1;32m    635\u001b[0m             \u001b[0;34m'script'\u001b[0m\u001b[0;34m:\u001b[0m \u001b[0mscript\u001b[0m\u001b[0;34m,\u001b[0m\u001b[0;34m\u001b[0m\u001b[0;34m\u001b[0m\u001b[0m\n\u001b[0;32m--> 636\u001b[0;31m             'args': converted_args})['value']\n\u001b[0m\u001b[1;32m    637\u001b[0m \u001b[0;34m\u001b[0m\u001b[0m\n\u001b[1;32m    638\u001b[0m     \u001b[0;32mdef\u001b[0m \u001b[0mexecute_async_script\u001b[0m\u001b[0;34m(\u001b[0m\u001b[0mself\u001b[0m\u001b[0;34m,\u001b[0m \u001b[0mscript\u001b[0m\u001b[0;34m,\u001b[0m \u001b[0;34m*\u001b[0m\u001b[0margs\u001b[0m\u001b[0;34m)\u001b[0m\u001b[0;34m:\u001b[0m\u001b[0;34m\u001b[0m\u001b[0;34m\u001b[0m\u001b[0m\n",
      "\u001b[0;32m~/anaconda3/lib/python3.7/site-packages/selenium/webdriver/remote/webdriver.py\u001b[0m in \u001b[0;36mexecute\u001b[0;34m(self, driver_command, params)\u001b[0m\n\u001b[1;32m    317\u001b[0m \u001b[0;34m\u001b[0m\u001b[0m\n\u001b[1;32m    318\u001b[0m         \u001b[0mparams\u001b[0m \u001b[0;34m=\u001b[0m \u001b[0mself\u001b[0m\u001b[0;34m.\u001b[0m\u001b[0m_wrap_value\u001b[0m\u001b[0;34m(\u001b[0m\u001b[0mparams\u001b[0m\u001b[0;34m)\u001b[0m\u001b[0;34m\u001b[0m\u001b[0;34m\u001b[0m\u001b[0m\n\u001b[0;32m--> 319\u001b[0;31m         \u001b[0mresponse\u001b[0m \u001b[0;34m=\u001b[0m \u001b[0mself\u001b[0m\u001b[0;34m.\u001b[0m\u001b[0mcommand_executor\u001b[0m\u001b[0;34m.\u001b[0m\u001b[0mexecute\u001b[0m\u001b[0;34m(\u001b[0m\u001b[0mdriver_command\u001b[0m\u001b[0;34m,\u001b[0m \u001b[0mparams\u001b[0m\u001b[0;34m)\u001b[0m\u001b[0;34m\u001b[0m\u001b[0;34m\u001b[0m\u001b[0m\n\u001b[0m\u001b[1;32m    320\u001b[0m         \u001b[0;32mif\u001b[0m \u001b[0mresponse\u001b[0m\u001b[0;34m:\u001b[0m\u001b[0;34m\u001b[0m\u001b[0;34m\u001b[0m\u001b[0m\n\u001b[1;32m    321\u001b[0m             \u001b[0mself\u001b[0m\u001b[0;34m.\u001b[0m\u001b[0merror_handler\u001b[0m\u001b[0;34m.\u001b[0m\u001b[0mcheck_response\u001b[0m\u001b[0;34m(\u001b[0m\u001b[0mresponse\u001b[0m\u001b[0;34m)\u001b[0m\u001b[0;34m\u001b[0m\u001b[0;34m\u001b[0m\u001b[0m\n",
      "\u001b[0;32m~/anaconda3/lib/python3.7/site-packages/selenium/webdriver/remote/remote_connection.py\u001b[0m in \u001b[0;36mexecute\u001b[0;34m(self, command, params)\u001b[0m\n\u001b[1;32m    370\u001b[0m         \u001b[0;32mif\u001b[0m \u001b[0mhasattr\u001b[0m\u001b[0;34m(\u001b[0m\u001b[0mself\u001b[0m\u001b[0;34m,\u001b[0m \u001b[0;34m'w3c'\u001b[0m\u001b[0;34m)\u001b[0m \u001b[0;32mand\u001b[0m \u001b[0mself\u001b[0m\u001b[0;34m.\u001b[0m\u001b[0mw3c\u001b[0m \u001b[0;32mand\u001b[0m \u001b[0misinstance\u001b[0m\u001b[0;34m(\u001b[0m\u001b[0mparams\u001b[0m\u001b[0;34m,\u001b[0m \u001b[0mdict\u001b[0m\u001b[0;34m)\u001b[0m \u001b[0;32mand\u001b[0m \u001b[0;34m'sessionId'\u001b[0m \u001b[0;32min\u001b[0m \u001b[0mparams\u001b[0m\u001b[0;34m:\u001b[0m\u001b[0;34m\u001b[0m\u001b[0;34m\u001b[0m\u001b[0m\n\u001b[1;32m    371\u001b[0m             \u001b[0;32mdel\u001b[0m \u001b[0mparams\u001b[0m\u001b[0;34m[\u001b[0m\u001b[0;34m'sessionId'\u001b[0m\u001b[0;34m]\u001b[0m\u001b[0;34m\u001b[0m\u001b[0;34m\u001b[0m\u001b[0m\n\u001b[0;32m--> 372\u001b[0;31m         \u001b[0mdata\u001b[0m \u001b[0;34m=\u001b[0m \u001b[0mutils\u001b[0m\u001b[0;34m.\u001b[0m\u001b[0mdump_json\u001b[0m\u001b[0;34m(\u001b[0m\u001b[0mparams\u001b[0m\u001b[0;34m)\u001b[0m\u001b[0;34m\u001b[0m\u001b[0;34m\u001b[0m\u001b[0m\n\u001b[0m\u001b[1;32m    373\u001b[0m         \u001b[0murl\u001b[0m \u001b[0;34m=\u001b[0m \u001b[0;34m'%s%s'\u001b[0m \u001b[0;34m%\u001b[0m \u001b[0;34m(\u001b[0m\u001b[0mself\u001b[0m\u001b[0;34m.\u001b[0m\u001b[0m_url\u001b[0m\u001b[0;34m,\u001b[0m \u001b[0mpath\u001b[0m\u001b[0;34m)\u001b[0m\u001b[0;34m\u001b[0m\u001b[0;34m\u001b[0m\u001b[0m\n\u001b[1;32m    374\u001b[0m         \u001b[0;32mreturn\u001b[0m \u001b[0mself\u001b[0m\u001b[0;34m.\u001b[0m\u001b[0m_request\u001b[0m\u001b[0;34m(\u001b[0m\u001b[0mcommand_info\u001b[0m\u001b[0;34m[\u001b[0m\u001b[0;36m0\u001b[0m\u001b[0;34m]\u001b[0m\u001b[0;34m,\u001b[0m \u001b[0murl\u001b[0m\u001b[0;34m,\u001b[0m \u001b[0mbody\u001b[0m\u001b[0;34m=\u001b[0m\u001b[0mdata\u001b[0m\u001b[0;34m)\u001b[0m\u001b[0;34m\u001b[0m\u001b[0;34m\u001b[0m\u001b[0m\n",
      "\u001b[0;32m~/anaconda3/lib/python3.7/site-packages/selenium/webdriver/remote/utils.py\u001b[0m in \u001b[0;36mdump_json\u001b[0;34m(json_struct)\u001b[0m\n\u001b[1;32m     31\u001b[0m \u001b[0;34m\u001b[0m\u001b[0m\n\u001b[1;32m     32\u001b[0m \u001b[0;32mdef\u001b[0m \u001b[0mdump_json\u001b[0m\u001b[0;34m(\u001b[0m\u001b[0mjson_struct\u001b[0m\u001b[0;34m)\u001b[0m\u001b[0;34m:\u001b[0m\u001b[0;34m\u001b[0m\u001b[0;34m\u001b[0m\u001b[0m\n\u001b[0;32m---> 33\u001b[0;31m     \u001b[0;32mreturn\u001b[0m \u001b[0mjson\u001b[0m\u001b[0;34m.\u001b[0m\u001b[0mdumps\u001b[0m\u001b[0;34m(\u001b[0m\u001b[0mjson_struct\u001b[0m\u001b[0;34m)\u001b[0m\u001b[0;34m\u001b[0m\u001b[0;34m\u001b[0m\u001b[0m\n\u001b[0m\u001b[1;32m     34\u001b[0m \u001b[0;34m\u001b[0m\u001b[0m\n\u001b[1;32m     35\u001b[0m \u001b[0;34m\u001b[0m\u001b[0m\n",
      "\u001b[0;32m~/anaconda3/lib/python3.7/json/__init__.py\u001b[0m in \u001b[0;36mdumps\u001b[0;34m(obj, skipkeys, ensure_ascii, check_circular, allow_nan, cls, indent, separators, default, sort_keys, **kw)\u001b[0m\n\u001b[1;32m    229\u001b[0m         \u001b[0mcls\u001b[0m \u001b[0;32mis\u001b[0m \u001b[0;32mNone\u001b[0m \u001b[0;32mand\u001b[0m \u001b[0mindent\u001b[0m \u001b[0;32mis\u001b[0m \u001b[0;32mNone\u001b[0m \u001b[0;32mand\u001b[0m \u001b[0mseparators\u001b[0m \u001b[0;32mis\u001b[0m \u001b[0;32mNone\u001b[0m \u001b[0;32mand\u001b[0m\u001b[0;34m\u001b[0m\u001b[0;34m\u001b[0m\u001b[0m\n\u001b[1;32m    230\u001b[0m         default is None and not sort_keys and not kw):\n\u001b[0;32m--> 231\u001b[0;31m         \u001b[0;32mreturn\u001b[0m \u001b[0m_default_encoder\u001b[0m\u001b[0;34m.\u001b[0m\u001b[0mencode\u001b[0m\u001b[0;34m(\u001b[0m\u001b[0mobj\u001b[0m\u001b[0;34m)\u001b[0m\u001b[0;34m\u001b[0m\u001b[0;34m\u001b[0m\u001b[0m\n\u001b[0m\u001b[1;32m    232\u001b[0m     \u001b[0;32mif\u001b[0m \u001b[0mcls\u001b[0m \u001b[0;32mis\u001b[0m \u001b[0;32mNone\u001b[0m\u001b[0;34m:\u001b[0m\u001b[0;34m\u001b[0m\u001b[0;34m\u001b[0m\u001b[0m\n\u001b[1;32m    233\u001b[0m         \u001b[0mcls\u001b[0m \u001b[0;34m=\u001b[0m \u001b[0mJSONEncoder\u001b[0m\u001b[0;34m\u001b[0m\u001b[0;34m\u001b[0m\u001b[0m\n",
      "\u001b[0;32m~/anaconda3/lib/python3.7/json/encoder.py\u001b[0m in \u001b[0;36mencode\u001b[0;34m(self, o)\u001b[0m\n\u001b[1;32m    197\u001b[0m         \u001b[0;31m# exceptions aren't as detailed.  The list call should be roughly\u001b[0m\u001b[0;34m\u001b[0m\u001b[0;34m\u001b[0m\u001b[0;34m\u001b[0m\u001b[0m\n\u001b[1;32m    198\u001b[0m         \u001b[0;31m# equivalent to the PySequence_Fast that ''.join() would do.\u001b[0m\u001b[0;34m\u001b[0m\u001b[0;34m\u001b[0m\u001b[0;34m\u001b[0m\u001b[0m\n\u001b[0;32m--> 199\u001b[0;31m         \u001b[0mchunks\u001b[0m \u001b[0;34m=\u001b[0m \u001b[0mself\u001b[0m\u001b[0;34m.\u001b[0m\u001b[0miterencode\u001b[0m\u001b[0;34m(\u001b[0m\u001b[0mo\u001b[0m\u001b[0;34m,\u001b[0m \u001b[0m_one_shot\u001b[0m\u001b[0;34m=\u001b[0m\u001b[0;32mTrue\u001b[0m\u001b[0;34m)\u001b[0m\u001b[0;34m\u001b[0m\u001b[0;34m\u001b[0m\u001b[0m\n\u001b[0m\u001b[1;32m    200\u001b[0m         \u001b[0;32mif\u001b[0m \u001b[0;32mnot\u001b[0m \u001b[0misinstance\u001b[0m\u001b[0;34m(\u001b[0m\u001b[0mchunks\u001b[0m\u001b[0;34m,\u001b[0m \u001b[0;34m(\u001b[0m\u001b[0mlist\u001b[0m\u001b[0;34m,\u001b[0m \u001b[0mtuple\u001b[0m\u001b[0;34m)\u001b[0m\u001b[0;34m)\u001b[0m\u001b[0;34m:\u001b[0m\u001b[0;34m\u001b[0m\u001b[0;34m\u001b[0m\u001b[0m\n\u001b[1;32m    201\u001b[0m             \u001b[0mchunks\u001b[0m \u001b[0;34m=\u001b[0m \u001b[0mlist\u001b[0m\u001b[0;34m(\u001b[0m\u001b[0mchunks\u001b[0m\u001b[0;34m)\u001b[0m\u001b[0;34m\u001b[0m\u001b[0;34m\u001b[0m\u001b[0m\n",
      "\u001b[0;32m~/anaconda3/lib/python3.7/json/encoder.py\u001b[0m in \u001b[0;36miterencode\u001b[0;34m(self, o, _one_shot)\u001b[0m\n\u001b[1;32m    255\u001b[0m                 \u001b[0mself\u001b[0m\u001b[0;34m.\u001b[0m\u001b[0mkey_separator\u001b[0m\u001b[0;34m,\u001b[0m \u001b[0mself\u001b[0m\u001b[0;34m.\u001b[0m\u001b[0mitem_separator\u001b[0m\u001b[0;34m,\u001b[0m \u001b[0mself\u001b[0m\u001b[0;34m.\u001b[0m\u001b[0msort_keys\u001b[0m\u001b[0;34m,\u001b[0m\u001b[0;34m\u001b[0m\u001b[0;34m\u001b[0m\u001b[0m\n\u001b[1;32m    256\u001b[0m                 self.skipkeys, _one_shot)\n\u001b[0;32m--> 257\u001b[0;31m         \u001b[0;32mreturn\u001b[0m \u001b[0m_iterencode\u001b[0m\u001b[0;34m(\u001b[0m\u001b[0mo\u001b[0m\u001b[0;34m,\u001b[0m \u001b[0;36m0\u001b[0m\u001b[0;34m)\u001b[0m\u001b[0;34m\u001b[0m\u001b[0;34m\u001b[0m\u001b[0m\n\u001b[0m\u001b[1;32m    258\u001b[0m \u001b[0;34m\u001b[0m\u001b[0m\n\u001b[1;32m    259\u001b[0m def _make_iterencode(markers, _default, _encoder, _indent, _floatstr,\n",
      "\u001b[0;32m~/anaconda3/lib/python3.7/json/encoder.py\u001b[0m in \u001b[0;36mdefault\u001b[0;34m(self, o)\u001b[0m\n\u001b[1;32m    177\u001b[0m \u001b[0;34m\u001b[0m\u001b[0m\n\u001b[1;32m    178\u001b[0m         \"\"\"\n\u001b[0;32m--> 179\u001b[0;31m         raise TypeError(f'Object of type {o.__class__.__name__} '\n\u001b[0m\u001b[1;32m    180\u001b[0m                         f'is not JSON serializable')\n\u001b[1;32m    181\u001b[0m \u001b[0;34m\u001b[0m\u001b[0m\n",
      "\u001b[0;31mTypeError\u001b[0m: Object of type Selector is not JSON serializable"
     ]
    }
   ],
   "source": [
    "for post in post_layouts:\n",
    "    more_btn_present = post.xpath('.//a[contains(@class,\"js-show-link comments-link\") and contains(text(), \"show\")]')\n",
    "    print(post.xpath('.//a[contains(@class,\"js-show-link comments-link\") and contains(text(), \"show\")]'))\n",
    "    if len(more_btn_present) >= 1:\n",
    "#         more_btn = driver.find_element_by_xpath()\n",
    "        more_element = \n",
    "        driver.execute_script(\"arguments[0].scrollIntoView();\", more_btn[0])\n",
    "    "
   ]
  },
  {
   "cell_type": "code",
   "execution_count": 387,
   "metadata": {},
   "outputs": [],
   "source": [
    "# simplificando: voy a chequear la presencia de show more comments primero en toda la pagina\n",
    "# los botones presentes los voy a clickear\n",
    "# despues realizo la extracion como siempre"
   ]
  },
  {
   "cell_type": "code",
   "execution_count": 422,
   "metadata": {},
   "outputs": [],
   "source": [
    "# refactor all layout post is a common class between questions and answers\n",
    "# for layout post in list of layouts\n",
    "# try to locate more button in comments, if succeed click on it\n",
    "# proceed to extract data in layout \n",
    "# proceed to extract data in comments"
   ]
  },
  {
   "cell_type": "code",
   "execution_count": null,
   "metadata": {},
   "outputs": [],
   "source": [
    "driver.get('https://stackoverflow.com/questions/63249036/add-decorator-to-method-from-library-class')"
   ]
  },
  {
   "cell_type": "code",
   "execution_count": 425,
   "metadata": {},
   "outputs": [
    {
     "data": {
      "text/plain": [
       "'//a[contains(@class,\"js-show-link comments-link\") and contains(text(), \"show\")]'"
      ]
     },
     "execution_count": 425,
     "metadata": {},
     "output_type": "execute_result"
    }
   ],
   "source": [
    "'//a[contains(@class,\"js-show-link comments-link\") and contains(text(), \"show\")]'"
   ]
  },
  {
   "cell_type": "code",
   "execution_count": 463,
   "metadata": {},
   "outputs": [],
   "source": [
    "driver.get('https://stackoverflow.com/questions/tagged/python')"
   ]
  },
  {
   "cell_type": "code",
   "execution_count": 431,
   "metadata": {},
   "outputs": [
    {
     "data": {
      "text/plain": [
       "<selenium.webdriver.firefox.webelement.FirefoxWebElement (session=\"e2c25648-fece-4371-a33e-da5aadce2188\", element=\"2a8442bc-c6ff-4090-8a45-c4fdb397c106\")>"
      ]
     },
     "execution_count": 431,
     "metadata": {},
     "output_type": "execute_result"
    }
   ],
   "source": [
    "pagination_item = driver.find_element_by_xpath('//div[contains(@class, \"s-pagination--item\")]')\n",
    "driver.execute_script(\"arguments[0].scrollIntoView()\", pagination_item)"
   ]
  },
  {
   "cell_type": "code",
   "execution_count": 432,
   "metadata": {},
   "outputs": [],
   "source": [
    "'//div[contains(@class, \"s-pagination--item\")]/a[contains(text(), \"30\")]'"
   ]
  },
  {
   "cell_type": "code",
   "execution_count": 434,
   "metadata": {},
   "outputs": [],
   "source": [
    "question_30 = '//a[contains(@title, \"Show 30\")]'\n",
    "question_50 = '//a[contains(@title, \"Show 50\")]'"
   ]
  },
  {
   "cell_type": "code",
   "execution_count": 451,
   "metadata": {},
   "outputs": [],
   "source": [
    "def setup_question_per_page_option(option):\n",
    "    from time import sleep\n",
    "    '''\n",
    "    In the result page of the search, this function set up the \n",
    "    quantity of question per page\n",
    "    \n",
    "    '''\n",
    "    try:\n",
    "        popup_element = driver.find_element_by_xpath('//a[contains(@class,\"s-btn s-btn__muted\")]')\n",
    "        popup_element.click()        \n",
    "    except:\n",
    "        pass  \n",
    "    if option == '15':\n",
    "        pass\n",
    "    elif option == '30':\n",
    "        question_30 = driver.find_element_by_xpath('//a[contains(@title, \"Show 30\")]')\n",
    "        driver.execute_script(\"arguments[0].scrollIntoView\", question_30)\n",
    "        sleep(3)\n",
    "        question_30.click()\n",
    "        sleep(3)    \n",
    "    elif option == '50':\n",
    "        question_50 = driver.find_element_by_xpath('//a[contains(@title, \"Show 50\")]')\n",
    "        driver.execute_script(\"arguments[0].scrollIntoView\", question_50)\n",
    "        sleep(3)\n",
    "        question_50.click()\n",
    "        sleep(3)"
   ]
  },
  {
   "cell_type": "code",
   "execution_count": 459,
   "metadata": {},
   "outputs": [],
   "source": [
    "setup_question_per_page_option('50')"
   ]
  },
  {
   "cell_type": "code",
   "execution_count": 444,
   "metadata": {
    "collapsed": true
   },
   "outputs": [
    {
     "ename": "NoSuchElementException",
     "evalue": "Message: Unable to locate element: //f[contains(@class,\"s-btn s-btn__muted\")]\n",
     "output_type": "error",
     "traceback": [
      "\u001b[0;31m---------------------------------------------------------------------------\u001b[0m",
      "\u001b[0;31mNoSuchElementException\u001b[0m                    Traceback (most recent call last)",
      "\u001b[0;32m<ipython-input-444-271874d7f2f0>\u001b[0m in \u001b[0;36m<module>\u001b[0;34m\u001b[0m\n\u001b[0;32m----> 1\u001b[0;31m \u001b[0mdriver\u001b[0m\u001b[0;34m.\u001b[0m\u001b[0mfind_element_by_xpath\u001b[0m\u001b[0;34m(\u001b[0m\u001b[0;34m'//f[contains(@class,\"s-btn s-btn__muted\")]'\u001b[0m\u001b[0;34m)\u001b[0m\u001b[0;34m.\u001b[0m\u001b[0mclick\u001b[0m\u001b[0;34m(\u001b[0m\u001b[0;34m)\u001b[0m\u001b[0;34m\u001b[0m\u001b[0;34m\u001b[0m\u001b[0m\n\u001b[0m",
      "\u001b[0;32m~/anaconda3/lib/python3.7/site-packages/selenium/webdriver/remote/webdriver.py\u001b[0m in \u001b[0;36mfind_element_by_xpath\u001b[0;34m(self, xpath)\u001b[0m\n\u001b[1;32m    392\u001b[0m             \u001b[0melement\u001b[0m \u001b[0;34m=\u001b[0m \u001b[0mdriver\u001b[0m\u001b[0;34m.\u001b[0m\u001b[0mfind_element_by_xpath\u001b[0m\u001b[0;34m(\u001b[0m\u001b[0;34m'//div/td[1]'\u001b[0m\u001b[0;34m)\u001b[0m\u001b[0;34m\u001b[0m\u001b[0;34m\u001b[0m\u001b[0m\n\u001b[1;32m    393\u001b[0m         \"\"\"\n\u001b[0;32m--> 394\u001b[0;31m         \u001b[0;32mreturn\u001b[0m \u001b[0mself\u001b[0m\u001b[0;34m.\u001b[0m\u001b[0mfind_element\u001b[0m\u001b[0;34m(\u001b[0m\u001b[0mby\u001b[0m\u001b[0;34m=\u001b[0m\u001b[0mBy\u001b[0m\u001b[0;34m.\u001b[0m\u001b[0mXPATH\u001b[0m\u001b[0;34m,\u001b[0m \u001b[0mvalue\u001b[0m\u001b[0;34m=\u001b[0m\u001b[0mxpath\u001b[0m\u001b[0;34m)\u001b[0m\u001b[0;34m\u001b[0m\u001b[0;34m\u001b[0m\u001b[0m\n\u001b[0m\u001b[1;32m    395\u001b[0m \u001b[0;34m\u001b[0m\u001b[0m\n\u001b[1;32m    396\u001b[0m     \u001b[0;32mdef\u001b[0m \u001b[0mfind_elements_by_xpath\u001b[0m\u001b[0;34m(\u001b[0m\u001b[0mself\u001b[0m\u001b[0;34m,\u001b[0m \u001b[0mxpath\u001b[0m\u001b[0;34m)\u001b[0m\u001b[0;34m:\u001b[0m\u001b[0;34m\u001b[0m\u001b[0;34m\u001b[0m\u001b[0m\n",
      "\u001b[0;32m~/anaconda3/lib/python3.7/site-packages/selenium/webdriver/remote/webdriver.py\u001b[0m in \u001b[0;36mfind_element\u001b[0;34m(self, by, value)\u001b[0m\n\u001b[1;32m    976\u001b[0m         return self.execute(Command.FIND_ELEMENT, {\n\u001b[1;32m    977\u001b[0m             \u001b[0;34m'using'\u001b[0m\u001b[0;34m:\u001b[0m \u001b[0mby\u001b[0m\u001b[0;34m,\u001b[0m\u001b[0;34m\u001b[0m\u001b[0;34m\u001b[0m\u001b[0m\n\u001b[0;32m--> 978\u001b[0;31m             'value': value})['value']\n\u001b[0m\u001b[1;32m    979\u001b[0m \u001b[0;34m\u001b[0m\u001b[0m\n\u001b[1;32m    980\u001b[0m     \u001b[0;32mdef\u001b[0m \u001b[0mfind_elements\u001b[0m\u001b[0;34m(\u001b[0m\u001b[0mself\u001b[0m\u001b[0;34m,\u001b[0m \u001b[0mby\u001b[0m\u001b[0;34m=\u001b[0m\u001b[0mBy\u001b[0m\u001b[0;34m.\u001b[0m\u001b[0mID\u001b[0m\u001b[0;34m,\u001b[0m \u001b[0mvalue\u001b[0m\u001b[0;34m=\u001b[0m\u001b[0;32mNone\u001b[0m\u001b[0;34m)\u001b[0m\u001b[0;34m:\u001b[0m\u001b[0;34m\u001b[0m\u001b[0;34m\u001b[0m\u001b[0m\n",
      "\u001b[0;32m~/anaconda3/lib/python3.7/site-packages/selenium/webdriver/remote/webdriver.py\u001b[0m in \u001b[0;36mexecute\u001b[0;34m(self, driver_command, params)\u001b[0m\n\u001b[1;32m    319\u001b[0m         \u001b[0mresponse\u001b[0m \u001b[0;34m=\u001b[0m \u001b[0mself\u001b[0m\u001b[0;34m.\u001b[0m\u001b[0mcommand_executor\u001b[0m\u001b[0;34m.\u001b[0m\u001b[0mexecute\u001b[0m\u001b[0;34m(\u001b[0m\u001b[0mdriver_command\u001b[0m\u001b[0;34m,\u001b[0m \u001b[0mparams\u001b[0m\u001b[0;34m)\u001b[0m\u001b[0;34m\u001b[0m\u001b[0;34m\u001b[0m\u001b[0m\n\u001b[1;32m    320\u001b[0m         \u001b[0;32mif\u001b[0m \u001b[0mresponse\u001b[0m\u001b[0;34m:\u001b[0m\u001b[0;34m\u001b[0m\u001b[0;34m\u001b[0m\u001b[0m\n\u001b[0;32m--> 321\u001b[0;31m             \u001b[0mself\u001b[0m\u001b[0;34m.\u001b[0m\u001b[0merror_handler\u001b[0m\u001b[0;34m.\u001b[0m\u001b[0mcheck_response\u001b[0m\u001b[0;34m(\u001b[0m\u001b[0mresponse\u001b[0m\u001b[0;34m)\u001b[0m\u001b[0;34m\u001b[0m\u001b[0;34m\u001b[0m\u001b[0m\n\u001b[0m\u001b[1;32m    322\u001b[0m             response['value'] = self._unwrap_value(\n\u001b[1;32m    323\u001b[0m                 response.get('value', None))\n",
      "\u001b[0;32m~/anaconda3/lib/python3.7/site-packages/selenium/webdriver/remote/errorhandler.py\u001b[0m in \u001b[0;36mcheck_response\u001b[0;34m(self, response)\u001b[0m\n\u001b[1;32m    240\u001b[0m                 \u001b[0malert_text\u001b[0m \u001b[0;34m=\u001b[0m \u001b[0mvalue\u001b[0m\u001b[0;34m[\u001b[0m\u001b[0;34m'alert'\u001b[0m\u001b[0;34m]\u001b[0m\u001b[0;34m.\u001b[0m\u001b[0mget\u001b[0m\u001b[0;34m(\u001b[0m\u001b[0;34m'text'\u001b[0m\u001b[0;34m)\u001b[0m\u001b[0;34m\u001b[0m\u001b[0;34m\u001b[0m\u001b[0m\n\u001b[1;32m    241\u001b[0m             \u001b[0;32mraise\u001b[0m \u001b[0mexception_class\u001b[0m\u001b[0;34m(\u001b[0m\u001b[0mmessage\u001b[0m\u001b[0;34m,\u001b[0m \u001b[0mscreen\u001b[0m\u001b[0;34m,\u001b[0m \u001b[0mstacktrace\u001b[0m\u001b[0;34m,\u001b[0m \u001b[0malert_text\u001b[0m\u001b[0;34m)\u001b[0m\u001b[0;34m\u001b[0m\u001b[0;34m\u001b[0m\u001b[0m\n\u001b[0;32m--> 242\u001b[0;31m         \u001b[0;32mraise\u001b[0m \u001b[0mexception_class\u001b[0m\u001b[0;34m(\u001b[0m\u001b[0mmessage\u001b[0m\u001b[0;34m,\u001b[0m \u001b[0mscreen\u001b[0m\u001b[0;34m,\u001b[0m \u001b[0mstacktrace\u001b[0m\u001b[0;34m)\u001b[0m\u001b[0;34m\u001b[0m\u001b[0;34m\u001b[0m\u001b[0m\n\u001b[0m\u001b[1;32m    243\u001b[0m \u001b[0;34m\u001b[0m\u001b[0m\n\u001b[1;32m    244\u001b[0m     \u001b[0;32mdef\u001b[0m \u001b[0m_value_or_default\u001b[0m\u001b[0;34m(\u001b[0m\u001b[0mself\u001b[0m\u001b[0;34m,\u001b[0m \u001b[0mobj\u001b[0m\u001b[0;34m,\u001b[0m \u001b[0mkey\u001b[0m\u001b[0;34m,\u001b[0m \u001b[0mdefault\u001b[0m\u001b[0;34m)\u001b[0m\u001b[0;34m:\u001b[0m\u001b[0;34m\u001b[0m\u001b[0;34m\u001b[0m\u001b[0m\n",
      "\u001b[0;31mNoSuchElementException\u001b[0m: Message: Unable to locate element: //f[contains(@class,\"s-btn s-btn__muted\")]\n"
     ]
    }
   ],
   "source": [
    "driver.find_element_by_xpath('//a[contains(@class,\"s-btn s-btn__muted\")]').click()"
   ]
  },
  {
   "cell_type": "code",
   "execution_count": 447,
   "metadata": {},
   "outputs": [
    {
     "name": "stdout",
     "output_type": "stream",
     "text": [
      "name 'h' is not defined\n"
     ]
    }
   ],
   "source": [
    "try:\n",
    "    print(h)\n",
    "except Exception as error:\n",
    "    print(error)\n",
    "    pass"
   ]
  },
  {
   "cell_type": "code",
   "execution_count": 460,
   "metadata": {},
   "outputs": [],
   "source": [
    "#click on next insted of getting the link"
   ]
  },
  {
   "cell_type": "code",
   "execution_count": 467,
   "metadata": {},
   "outputs": [],
   "source": [
    "next_element = driver.find_element_by_xpath('//a[@rel=\"next\"]')"
   ]
  },
  {
   "cell_type": "code",
   "execution_count": 469,
   "metadata": {},
   "outputs": [],
   "source": [
    "driver.execute_script(\"arguments[0].scrollIntoView()\", next_element)"
   ]
  },
  {
   "cell_type": "code",
   "execution_count": 470,
   "metadata": {},
   "outputs": [],
   "source": [
    "next_element.click()\n"
   ]
  },
  {
   "cell_type": "code",
   "execution_count": 471,
   "metadata": {},
   "outputs": [],
   "source": [
    "post = Selector(driver.page_source)"
   ]
  },
  {
   "cell_type": "code",
   "execution_count": 478,
   "metadata": {},
   "outputs": [
    {
     "data": {
      "text/plain": [
       "'I have a large dataframe with multiple date formats and I want to clean this dataset but I did like to know if its possible to find this date columns and change its formats without single covering one column at a time.This is how I pulled all columns that starts with a prefix datedate_df = df.loc[:,df.columns.str.startswith(\"date\")] Then from here I wrote a function to change date formats from string to datetime Y-M-D.from datetime import datetimedef date_fomated():dates = df.loc[:,date_df.columns.datetime.strftime(\\'%m/%d/%Y\\')]return datesThis has not worked..My expected result is create a function that subsets date columns using prefix \"date\" the format dates in those multiple date columns to Y-M-D.Here is a small dataset to useimport pandas as pddata = [[\\'2020-06-24\\',\\'2020-01-24\\'],[\\'2020-05-04\\',\\'2020-06-24\\'],[\\'2018-11-24\\',\\'2018-11-24\\'],[\\'2018-11-24\\',\\'2018-11-24\\']]df = pd.DataFrame(data,columns=[\\'date_today\\',\\'date_adm\\'],dtype=float)print (df)Kindly assist  Please apply pd.to_datetime to the dfOriginal df dtypesdf.dtypesdate_today  objectdate_adm   objectdtype: objectSolutiondf=df.apply(lambda x: pd.to_datetime(x))New dtypesdf.dtypesdate_today  datetime64[ns]date_adm   datetime64[ns]dtype: object  lets use stack and filterdf = pd.DataFrame({\\'date1\\' : [\\'20200105\\',\\'20210305\\'],         \\'date2\\' : [20200103, 20210309],         \\'id\\' : [0,1] })   date1   date2 id0 20200105 20200103  01 20210305 20210309  1df.loc[:,df.filter(like=\\'date\\').columns] = df.filter(like=\\'date\\')\\\\                        .stack()\\\\                        .apply(pd.to_datetime,                            format=\\'%Y%m%d\\')\\\\                        .unstack()print(df)    date1   date2 id0 2020-01-05 2020-01-03  01 2021-03-05 2021-03-09  1print(df.dtypes)date1  datetime64[ns]date2  datetime64[ns]id        int64dtype: object'"
      ]
     },
     "execution_count": 478,
     "metadata": {},
     "output_type": "execute_result"
    }
   ],
   "source": [
    "''.join(post.xpath('.//div[@class=\"post-text\"]//text()').getall()).replace('\\n', '').replace('  ', ' ').strip()"
   ]
  },
  {
   "cell_type": "code",
   "execution_count": 481,
   "metadata": {},
   "outputs": [],
   "source": [
    "question_with_many_comments = 'https://stackoverflow.com/questions/63253102/is-copying-for-list-assignments-acceptable'"
   ]
  },
  {
   "cell_type": "code",
   "execution_count": 495,
   "metadata": {},
   "outputs": [],
   "source": [
    "driver.get(question_with_many_comments)"
   ]
  },
  {
   "cell_type": "code",
   "execution_count": 493,
   "metadata": {},
   "outputs": [],
   "source": [
    "def look_for_more_btn_and_click():\n",
    "    from time import sleep \n",
    "    '''\n",
    "    Defines clicking in all more button in the comments for reveling more comments\n",
    "\n",
    "    '''\n",
    "    more_button_list = driver.find_elements_by_xpath('//a[contains(@class,\"js-show-link comments-link\") and contains(text(),\"show\")]')\n",
    "    for more_btn in more_button_list:\n",
    "        driver.execute_script(\"arguments[0].scrollIntoView();\", more_btn)\n",
    "        sleep(1)\n",
    "        more_btn.click()\n",
    "        sleep(2)\n"
   ]
  },
  {
   "cell_type": "code",
   "execution_count": 496,
   "metadata": {},
   "outputs": [],
   "source": [
    "look_for_more_btn_and_click()"
   ]
  },
  {
   "cell_type": "code",
   "execution_count": 9,
   "metadata": {},
   "outputs": [
    {
     "data": {
      "text/plain": [
       "'https://stackoverflow.com/'"
      ]
     },
     "execution_count": 9,
     "metadata": {},
     "output_type": "execute_result"
    }
   ],
   "source": [
    "driver.current_url"
   ]
  },
  {
   "cell_type": "code",
   "execution_count": 13,
   "metadata": {},
   "outputs": [],
   "source": [
    "assert driver.current_url == 'https://stackoverflow.com/'"
   ]
  },
  {
   "cell_type": "code",
   "execution_count": 14,
   "metadata": {},
   "outputs": [],
   "source": [
    "driver.get('http://127.0.0.1:5000/user_list')"
   ]
  },
  {
   "cell_type": "code",
   "execution_count": 15,
   "metadata": {},
   "outputs": [],
   "source": [
    "source = driver.page_source"
   ]
  },
  {
   "cell_type": "code",
   "execution_count": 20,
   "metadata": {},
   "outputs": [
    {
     "data": {
      "text/plain": [
       "'<html platform=\"linux\" class=\"theme-light\" dir=\"ltr\"><head><meta http-equiv=\"Content-Security-Policy\" content=\"default-src \\'none\\' ; script-src resource:; \"><link rel=\"stylesheet\" type=\"text/css\" href=\"resource://devtools-client-jsonview/css/main.css\"><script type=\"text/javascript\" charset=\"utf-8\" async=\"\" data-requirecontext=\"_\" data-requiremodule=\"viewer-config\" src=\"resource://devtools-client-jsonview/viewer-config.js\"></script><script type=\"text/javascript\" charset=\"utf-8\" async=\"\" data-requirecontext=\"_\" data-requiremodule=\"json-viewer\" src=\"resource://devtools-client-jsonview/json-viewer.js\"></script><script type=\"text/javascript\" charset=\"utf-8\" async=\"\" data-requirecontext=\"_\" data-requiremodule=\"devtools/client/shared/vendor/react-dom\" src=\"resource://devtools-client-shared/vendor/react-dom.js\"></script><script type=\"text/javascript\" charset=\"utf-8\" async=\"\" data-requirecontext=\"_\" data-requiremodule=\"devtools/client/shared/react-utils\" src=\"resource://devtools-client-shared/react-utils.js\"></script><script type=\"text/javascript\" charset=\"utf-8\" async=\"\" data-requirecontext=\"_\" data-requiremodule=\"devtools/client/jsonview/components/MainTabbedArea\" src=\"resource://devtools-client-jsonview/components/MainTabbedArea.js\"></script><script type=\"text/javascript\" charset=\"utf-8\" async=\"\" data-requirecontext=\"_\" data-requiremodule=\"devtools/client/shared/components/tree/TreeView\" src=\"resource://devtools-client-shared/components/tree/TreeView.js\"></script><script type=\"text/javascript\" charset=\"utf-8\" async=\"\" data-requirecontext=\"_\" data-requiremodule=\"devtools/client/shared/vendor/react\" src=\"resource://devtools-client-shared/vendor/react.js\"></script><script type=\"text/javascript\" charset=\"utf-8\" async=\"\" data-requirecontext=\"_\" data-requiremodule=\"devtools/client/shared/vendor/react-prop-types\" src=\"resource://devtools-client-shared/vendor/react-prop-types.js\"></script><script type=\"text/javascript\" charset=\"utf-8\" async=\"\" data-requirecontext=\"_\" data-requiremodule=\"devtools/client/jsonview/components/JsonPanel\" src=\"resource://devtools-client-jsonview/components/JsonPanel.js\"></script><script type=\"text/javascript\" charset=\"utf-8\" async=\"\" data-requirecontext=\"_\" data-requiremodule=\"devtools/client/jsonview/components/TextPanel\" src=\"resource://devtools-client-jsonview/components/TextPanel.js\"></script><script type=\"text/javascript\" charset=\"utf-8\" async=\"\" data-requirecontext=\"_\" data-requiremodule=\"devtools/client/jsonview/components/HeadersPanel\" src=\"resource://devtools-client-jsonview/components/HeadersPanel.js\"></script><script type=\"text/javascript\" charset=\"utf-8\" async=\"\" data-requirecontext=\"_\" data-requiremodule=\"devtools/client/shared/components/tabs/Tabs\" src=\"resource://devtools-client-shared/components/tabs/Tabs.js\"></script><script type=\"text/javascript\" charset=\"utf-8\" async=\"\" data-requirecontext=\"_\" data-requiremodule=\"devtools/client/shared/vendor/react-dom-factories\" src=\"resource://devtools-client-shared/vendor/react-dom-factories.js\"></script><script type=\"text/javascript\" charset=\"utf-8\" async=\"\" data-requirecontext=\"_\" data-requiremodule=\"devtools/client/jsonview/components/JsonToolbar\" src=\"resource://devtools-client-jsonview/components/JsonToolbar.js\"></script><script type=\"text/javascript\" charset=\"utf-8\" async=\"\" data-requirecontext=\"_\" data-requiremodule=\"devtools/client/shared/components/reps/reps\" src=\"resource://devtools-client-shared/components/reps/reps.js\"></script><script type=\"text/javascript\" charset=\"utf-8\" async=\"\" data-requirecontext=\"_\" data-requiremodule=\"devtools/client/jsonview/components/TextToolbar\" src=\"resource://devtools-client-jsonview/components/TextToolbar.js\"></script><script type=\"text/javascript\" charset=\"utf-8\" async=\"\" data-requirecontext=\"_\" data-requiremodule=\"devtools/client/jsonview/components/LiveText\" src=\"resource://devtools-client-jsonview/components/LiveText.js\"></script><script type=\"text/javascript\" charset=\"utf-8\" async=\"\" data-requirecontext=\"_\" data-requiremodule=\"devtools/client/shared/components/tree/ObjectProvider\" src=\"resource://devtools-client-shared/components/tree/ObjectProvider.js\"></script><script type=\"text/javascript\" charset=\"utf-8\" async=\"\" data-requirecontext=\"_\" data-requiremodule=\"devtools/client/shared/components/tree/TreeRow\" src=\"resource://devtools-client-shared/components/tree/TreeRow.js\"></script><script type=\"text/javascript\" charset=\"utf-8\" async=\"\" data-requirecontext=\"_\" data-requiremodule=\"devtools/client/shared/components/tree/TreeHeader\" src=\"resource://devtools-client-shared/components/tree/TreeHeader.js\"></script><script type=\"text/javascript\" charset=\"utf-8\" async=\"\" data-requirecontext=\"_\" data-requiremodule=\"devtools/client/shared/scroll\" src=\"resource://devtools-client-shared/scroll.js\"></script><script type=\"text/javascript\" charset=\"utf-8\" async=\"\" data-requirecontext=\"_\" data-requiremodule=\"devtools/client/jsonview/components/Headers\" src=\"resource://devtools-client-jsonview/components/Headers.js\"></script><script type=\"text/javascript\" charset=\"utf-8\" async=\"\" data-requirecontext=\"_\" data-requiremodule=\"devtools/client/jsonview/components/HeadersToolbar\" src=\"resource://devtools-client-jsonview/components/HeadersToolbar.js\"></script><script type=\"text/javascript\" charset=\"utf-8\" async=\"\" data-requirecontext=\"_\" data-requiremodule=\"devtools/client/jsonview/components/SearchBox\" src=\"resource://devtools-client-jsonview/components/SearchBox.js\"></script><script type=\"text/javascript\" charset=\"utf-8\" async=\"\" data-requirecontext=\"_\" data-requiremodule=\"devtools/client/jsonview/components/reps/Toolbar\" src=\"resource://devtools-client-jsonview/components/reps/Toolbar.js\"></script><script type=\"text/javascript\" charset=\"utf-8\" async=\"\" data-requirecontext=\"_\" data-requiremodule=\"devtools/client/shared/components/tree/TreeCell\" src=\"resource://devtools-client-shared/components/tree/TreeCell.js\"></script><script type=\"text/javascript\" charset=\"utf-8\" async=\"\" data-requirecontext=\"_\" data-requiremodule=\"devtools/client/shared/components/tree/LabelCell\" src=\"resource://devtools-client-shared/components/tree/LabelCell.js\"></script><script type=\"text/javascript\" charset=\"utf-8\" async=\"\" data-requirecontext=\"_\" data-requiremodule=\"devtools/client/shared/focus\" src=\"resource://devtools-client-shared/focus.js\"></script><script type=\"text/javascript\" charset=\"utf-8\" async=\"\" data-requirecontext=\"_\" data-requiremodule=\"devtools/client/shared/vendor/react-redux\" src=\"resource://devtools-client-shared/vendor/react-redux.js\"></script><script type=\"text/javascript\" charset=\"utf-8\" async=\"\" data-requirecontext=\"_\" data-requiremodule=\"devtools/client/shared/vendor/redux\" src=\"resource://devtools-client-shared/vendor/redux.js\"></script></head><body><div id=\"content\"><div class=\"tabs \"><nav class=\"tabs-navigation\"><ul class=\"tabs-menu\" role=\"tablist\"><li class=\"tabs-menu-item json is-active\" role=\"presentation\"><span class=\"devtools-tab-line\"></span><a id=\"json-tab\" tabindex=\"0\" title=\"JSON\" aria-controls=\"json-panel\" aria-selected=\"true\" role=\"tab\">JSON</a></li><li class=\"tabs-menu-item rawdata \" role=\"presentation\"><span class=\"devtools-tab-line\"></span><a id=\"rawdata-tab\" tabindex=\"-1\" title=\"Raw Data\" aria-controls=\"rawdata-panel\" aria-selected=\"false\" role=\"tab\">Raw Data</a></li><li class=\"tabs-menu-item headers \" role=\"presentation\"><span class=\"devtools-tab-line\"></span><a id=\"headers-tab\" tabindex=\"-1\" title=\"Headers\" aria-controls=\"headers-panel\" aria-selected=\"false\" role=\"tab\">Headers</a></li></ul></nav><div class=\"panels\"><div id=\"json-panel\" style=\"visibility: visible; height: 100%;\" class=\"tab-panel-box\" role=\"tabpanel\" aria-labelledby=\"json-tab\"><div class=\"tab-panel json\"><div class=\"jsonPanelBox tab-panel-inner\"><div class=\"toolbar\"><button class=\"btn save\">Save</button><button class=\"btn copy\">Copy</button><button class=\"btn collapse\">Collapse All</button><button class=\"btn expand\">Expand All</button><div class=\"devtools-separator\"></div><input class=\"searchBox devtools-filterinput\" placeholder=\"Filter JSON\"></div><div class=\"panelContent\"><table class=\"treeTable\" role=\"tree\" tabindex=\"0\" aria-label=\"\" cellspacing=\"0\" cellpadding=\"0\"><thead role=\"presentation\"><tr class=\"\" role=\"presentation\"><td class=\"\" role=\"presentation\" id=\"default\"></td><td class=\"\" style=\"width: 100%;\" role=\"presentation\" id=\"value\"></td></tr></thead><tbody role=\"presentation\" tabindex=\"-1\"><tr id=\"/author_list\" role=\"treeitem\" aria-level=\"1\" aria-selected=\"false\" aria-expanded=\"true\" class=\"treeRow objectRow hasChildren opened\"><td class=\"treeLabelCell\" style=\"--tree-label-cell-indent:0px;\" role=\"presentation\"><span class=\"treeIcon theme-twisty open\" role=\"presentation\"></span><span class=\"treeLabel objectLabel\" aria-labelledby=\"default\" data-level=\"0\">author_list</span></td><td class=\"treeValueCell objectCell\" role=\"presentation\"><span aria-labelledby=\"value\"></span></td></tr><tr id=\"/author_list/0\" role=\"treeitem\" aria-level=\"2\" aria-selected=\"false\" class=\"treeRow stringRow opened\"><td class=\"treeLabelCell\" style=\"--tree-label-cell-indent:16px;\" role=\"presentation\"><span class=\"treeIcon open\" role=\"presentation\"></span><span class=\"treeLabel stringLabel\" aria-labelledby=\"default\" data-level=\"1\">0</span></td><td class=\"treeValueCell stringCell\" role=\"presentation\"><span aria-labelledby=\"value\"><span class=\"objectBox objectBox-string\">\"zaraa s\"</span></span></td></tr><tr id=\"/author_list/1\" role=\"treeitem\" aria-level=\"2\" aria-selected=\"false\" class=\"treeRow stringRow opened\"><td class=\"treeLabelCell\" style=\"--tree-label-cell-indent:16px;\" role=\"presentation\"><span class=\"treeIcon open\" role=\"presentation\"></span><span class=\"treeLabel stringLabel\" aria-labelledby=\"default\" data-level=\"1\">1</span></td><td class=\"treeValueCell stringCell\" role=\"presentation\"><span aria-labelledby=\"value\"><span class=\"objectBox objectBox-string\">\"CCCCos\"</span></span></td></tr><tr id=\"/author_list/2\" role=\"treeitem\" aria-level=\"2\" aria-selected=\"false\" class=\"treeRow stringRow opened\"><td class=\"treeLabelCell\" style=\"--tree-label-cell-indent:16px;\" role=\"presentation\"><span class=\"treeIcon open\" role=\"presentation\"></span><span class=\"treeLabel stringLabel\" aria-labelledby=\"default\" data-level=\"1\">2</span></td><td class=\"treeValueCell stringCell\" role=\"presentation\"><span aria-labelledby=\"value\"><span class=\"objectBox objectBox-string\">\"TensorFrozen\"</span></span></td></tr><tr id=\"/author_list/3\" role=\"treeitem\" aria-level=\"2\" aria-selected=\"false\" class=\"treeRow stringRow opened\"><td class=\"treeLabelCell\" style=\"--tree-label-cell-indent:16px;\" role=\"presentation\"><span class=\"treeIcon open\" role=\"presentation\"></span><span class=\"treeLabel stringLabel\" aria-labelledby=\"default\" data-level=\"1\">3</span></td><td class=\"treeValueCell stringCell\" role=\"presentation\"><span aria-labelledby=\"value\"><span class=\"objectBox objectBox-string\">\"victorcd\"</span></span></td></tr><tr id=\"/author_list/4\" role=\"treeitem\" aria-level=\"2\" aria-selected=\"false\" class=\"treeRow stringRow opened\"><td class=\"treeLabelCell\" style=\"--tree-label-cell-indent:16px;\" role=\"presentation\"><span class=\"treeIcon open\" role=\"presentation\"></span><span class=\"treeLabel stringLabel\" aria-labelledby=\"default\" data-level=\"1\">4</span></td><td class=\"treeValueCell stringCell\" role=\"presentation\"><span aria-labelledby=\"value\"><span class=\"objectBox objectBox-string\">\"abhinav\"</span></span></td></tr><tr id=\"/author_list/5\" role=\"treeitem\" aria-level=\"2\" aria-selected=\"false\" class=\"treeRow stringRow opened\"><td class=\"treeLabelCell\" style=\"--tree-label-cell-indent:16px;\" role=\"presentation\"><span class=\"treeIcon open\" role=\"presentation\"></span><span class=\"treeLabel stringLabel\" aria-labelledby=\"default\" data-level=\"1\">5</span></td><td class=\"treeValueCell stringCell\" role=\"presentation\"><span aria-labelledby=\"value\"><span class=\"objectBox objectBox-string\">\"Carlos\"</span></span></td></tr><tr id=\"/author_list/6\" role=\"treeitem\" aria-level=\"2\" aria-selected=\"false\" class=\"treeRow stringRow opened\"><td class=\"treeLabelCell\" style=\"--tree-label-cell-indent:16px;\" role=\"presentation\"><span class=\"treeIcon open\" role=\"presentation\"></span><span class=\"treeLabel stringLabel\" aria-labelledby=\"default\" data-level=\"1\">6</span></td><td class=\"treeValueCell stringCell\" role=\"presentation\"><span aria-labelledby=\"value\"><span class=\"objectBox objectBox-string\">\"Haztec\"</span></span></td></tr><tr id=\"/author_list/7\" role=\"treeitem\" aria-level=\"2\" aria-selected=\"false\" class=\"treeRow stringRow opened\"><td class=\"treeLabelCell\" style=\"--tree-label-cell-indent:16px;\" role=\"presentation\"><span class=\"treeIcon open\" role=\"presentation\"></span><span class=\"treeLabel stringLabel\" aria-labelledby=\"default\" data-level=\"1\">7</span></td><td class=\"treeValueCell stringCell\" role=\"presentation\"><span aria-labelledby=\"value\"><span class=\"objectBox objectBox-string\">\"JohanC\"</span></span></td></tr><tr id=\"/author_list/8\" role=\"treeitem\" aria-level=\"2\" aria-selected=\"false\" class=\"treeRow stringRow opened\"><td class=\"treeLabelCell\" style=\"--tree-label-cell-indent:16px;\" role=\"presentation\"><span class=\"treeIcon open\" role=\"presentation\"></span><span class=\"treeLabel stringLabel\" aria-labelledby=\"default\" data-level=\"1\">8</span></td><td class=\"treeValueCell stringCell\" role=\"presentation\"><span aria-labelledby=\"value\"><span class=\"objectBox objectBox-string\">\"Ing\"</span></span></td></tr><tr id=\"/author_list/9\" role=\"treeitem\" aria-level=\"2\" aria-selected=\"false\" class=\"treeRow stringRow opened\"><td class=\"treeLabelCell\" style=\"--tree-label-cell-indent:16px;\" role=\"presentation\"><span class=\"treeIcon open\" role=\"presentation\"></span><span class=\"treeLabel stringLabel\" aria-labelledby=\"default\" data-level=\"1\">9</span></td><td class=\"treeValueCell stringCell\" role=\"presentation\"><span aria-labelledby=\"value\"><span class=\"objectBox objectBox-string\">\"Vinay\"</span></span></td></tr><tr id=\"/author_list/10\" role=\"treeitem\" aria-level=\"2\" aria-selected=\"false\" class=\"treeRow stringRow opened\"><td class=\"treeLabelCell\" style=\"--tree-label-cell-indent:16px;\" role=\"presentation\"><span class=\"treeIcon open\" role=\"presentation\"></span><span class=\"treeLabel stringLabel\" aria-labelledby=\"default\" data-level=\"1\">10</span></td><td class=\"treeValueCell stringCell\" role=\"presentation\"><span aria-labelledby=\"value\"><span class=\"objectBox objectBox-string\">\"Techy Savage\"</span></span></td></tr><tr id=\"/author_list/11\" role=\"treeitem\" aria-level=\"2\" aria-selected=\"false\" class=\"treeRow stringRow opened\"><td class=\"treeLabelCell\" style=\"--tree-label-cell-indent:16px;\" role=\"presentation\"><span class=\"treeIcon open\" role=\"presentation\"></span><span class=\"treeLabel stringLabel\" aria-labelledby=\"default\" data-level=\"1\">11</span></td><td class=\"treeValueCell stringCell\" role=\"presentation\"><span aria-labelledby=\"value\"><span class=\"objectBox objectBox-string\">\"user12195705\"</span></span></td></tr><tr id=\"/author_list/12\" role=\"treeitem\" aria-level=\"2\" aria-selected=\"false\" class=\"treeRow stringRow opened\"><td class=\"treeLabelCell\" style=\"--tree-label-cell-indent:16px;\" role=\"presentation\"><span class=\"treeIcon open\" role=\"presentation\"></span><span class=\"treeLabel stringLabel\" aria-labelledby=\"default\" data-level=\"1\">12</span></td><td class=\"treeValueCell stringCell\" role=\"presentation\"><span aria-labelledby=\"value\"><span class=\"objectBox objectBox-string\">\"Carlos\"</span></span></td></tr><tr id=\"/author_list/13\" role=\"treeitem\" aria-level=\"2\" aria-selected=\"false\" class=\"treeRow stringRow opened\"><td class=\"treeLabelCell\" style=\"--tree-label-cell-indent:16px;\" role=\"presentation\"><span class=\"treeIcon open\" role=\"presentation\"></span><span class=\"treeLabel stringLabel\" aria-labelledby=\"default\" data-level=\"1\">13</span></td><td class=\"treeValueCell stringCell\" role=\"presentation\"><span aria-labelledby=\"value\"><span class=\"objectBox objectBox-string\">\"Carlos\"</span></span></td></tr><tr id=\"/author_list/14\" role=\"treeitem\" aria-level=\"2\" aria-selected=\"false\" class=\"treeRow stringRow opened\"><td class=\"treeLabelCell\" style=\"--tree-label-cell-indent:16px;\" role=\"presentation\"><span class=\"treeIcon open\" role=\"presentation\"></span><span class=\"treeLabel stringLabel\" aria-labelledby=\"default\" data-level=\"1\">14</span></td><td class=\"treeValueCell stringCell\" role=\"presentation\"><span aria-labelledby=\"value\"><span class=\"objectBox objectBox-string\">\"Kevin Su\"</span></span></td></tr><tr id=\"/author_list/15\" role=\"treeitem\" aria-level=\"2\" aria-selected=\"false\" class=\"treeRow stringRow opened\"><td class=\"treeLabelCell\" style=\"--tree-label-cell-indent:16px;\" role=\"presentation\"><span class=\"treeIcon open\" role=\"presentation\"></span><span class=\"treeLabel stringLabel\" aria-labelledby=\"default\" data-level=\"1\">15</span></td><td class=\"treeValueCell stringCell\" role=\"presentation\"><span aria-labelledby=\"value\"><span class=\"objectBox objectBox-string\">\"Pedro Pablo Severin Honorato\"</span></span></td></tr><tr id=\"/author_list/16\" role=\"treeitem\" aria-level=\"2\" aria-selected=\"false\" class=\"treeRow stringRow opened\"><td class=\"treeLabelCell\" style=\"--tree-label-cell-indent:16px;\" role=\"presentation\"><span class=\"treeIcon open\" role=\"presentation\"></span><span class=\"treeLabel stringLabel\" aria-labelledby=\"default\" data-level=\"1\">16</span></td><td class=\"treeValueCell stringCell\" role=\"presentation\"><span aria-labelledby=\"value\"><span class=\"objectBox objectBox-string\">\"Djerun\"</span></span></td></tr><tr id=\"/author_list/17\" role=\"treeitem\" aria-level=\"2\" aria-selected=\"false\" class=\"treeRow stringRow opened\"><td class=\"treeLabelCell\" style=\"--tree-label-cell-indent:16px;\" role=\"presentation\"><span class=\"treeIcon open\" role=\"presentation\"></span><span class=\"treeLabel stringLabel\" aria-labelledby=\"default\" data-level=\"1\">17</span></td><td class=\"treeValueCell stringCell\" role=\"presentation\"><span aria-labelledby=\"value\"><span class=\"objectBox objectBox-string\">\"FreedomToWin\"</span></span></td></tr><tr id=\"/author_list/18\" role=\"treeitem\" aria-level=\"2\" aria-selected=\"false\" class=\"treeRow stringRow opened\"><td class=\"treeLabelCell\" style=\"--tree-label-cell-indent:16px;\" role=\"presentation\"><span class=\"treeIcon open\" role=\"presentation\"></span><span class=\"treeLabel stringLabel\" aria-labelledby=\"default\" data-level=\"1\">18</span></td><td class=\"treeValueCell stringCell\" role=\"presentation\"><span aria-labelledby=\"value\"><span class=\"objectBox objectBox-string\">\"Mykl\"</span></span></td></tr><tr id=\"/author_list/19\" role=\"treeitem\" aria-level=\"2\" aria-selected=\"false\" class=\"treeRow stringRow opened\"><td class=\"treeLabelCell\" style=\"--tree-label-cell-indent:16px;\" role=\"presentation\"><span class=\"treeIcon open\" role=\"presentation\"></span><span class=\"treeLabel stringLabel\" aria-labelledby=\"default\" data-level=\"1\">19</span></td><td class=\"treeValueCell stringCell\" role=\"presentation\"><span aria-labelledby=\"value\"><span class=\"objectBox objectBox-string\">\"Mobeus Zoom\"</span></span></td></tr><tr id=\"/author_list/20\" role=\"treeitem\" aria-level=\"2\" aria-selected=\"false\" class=\"treeRow stringRow opened\"><td class=\"treeLabelCell\" style=\"--tree-label-cell-indent:16px;\" role=\"presentation\"><span class=\"treeIcon open\" role=\"presentation\"></span><span class=\"treeLabel stringLabel\" aria-labelledby=\"default\" data-level=\"1\">20</span></td><td class=\"treeValueCell stringCell\" role=\"presentation\"><span aria-labelledby=\"value\"><span class=\"objectBox objectBox-string\">\"Ramit Dour\"</span></span></td></tr><tr id=\"/author_list/21\" role=\"treeitem\" aria-level=\"2\" aria-selected=\"false\" class=\"treeRow stringRow opened\"><td class=\"treeLabelCell\" style=\"--tree-label-cell-indent:16px;\" role=\"presentation\"><span class=\"treeIcon open\" role=\"presentation\"></span><span class=\"treeLabel stringLabel\" aria-labelledby=\"default\" data-level=\"1\">21</span></td><td class=\"treeValueCell stringCell\" role=\"presentation\"><span aria-labelledby=\"value\"><span class=\"objectBox objectBox-string\">\"Barmar\"</span></span></td></tr><tr id=\"/author_list/22\" role=\"treeitem\" aria-level=\"2\" aria-selected=\"false\" class=\"treeRow stringRow opened\"><td class=\"treeLabelCell\" style=\"--tree-label-cell-indent:16px;\" role=\"presentation\"><span class=\"treeIcon open\" role=\"presentation\"></span><span class=\"treeLabel stringLabel\" aria-labelledby=\"default\" data-level=\"1\">22</span></td><td class=\"treeValueCell stringCell\" role=\"presentation\"><span aria-labelledby=\"value\"><span class=\"objectBox objectBox-string\">\"wizer_102\"</span></span></td></tr><tr id=\"/author_list/23\" role=\"treeitem\" aria-level=\"2\" aria-selected=\"false\" class=\"treeRow stringRow opened\"><td class=\"treeLabelCell\" style=\"--tree-label-cell-indent:16px;\" role=\"presentation\"><span class=\"treeIcon open\" role=\"presentation\"></span><span class=\"treeLabel stringLabel\" aria-labelledby=\"default\" data-level=\"1\">23</span></td><td class=\"treeValueCell stringCell\" role=\"presentation\"><span aria-labelledby=\"value\"><span class=\"objectBox objectBox-string\">\"Sreejan Das\"</span></span></td></tr><tr id=\"/author_list/24\" role=\"treeitem\" aria-level=\"2\" aria-selected=\"false\" class=\"treeRow stringRow opened\"><td class=\"treeLabelCell\" style=\"--tree-label-cell-indent:16px;\" role=\"presentation\"><span class=\"treeIcon open\" role=\"presentation\"></span><span class=\"treeLabel stringLabel\" aria-labelledby=\"default\" data-level=\"1\">24</span></td><td class=\"treeValueCell stringCell\" role=\"presentation\"><span aria-labelledby=\"value\"><span class=\"objectBox objectBox-string\">\"user13751020\"</span></span></td></tr><tr id=\"/author_list/25\" role=\"treeitem\" aria-level=\"2\" aria-selected=\"false\" class=\"treeRow stringRow opened\"><td class=\"treeLabelCell\" style=\"--tree-label-cell-indent:16px;\" role=\"presentation\"><span class=\"treeIcon open\" role=\"presentation\"></span><span class=\"treeLabel stringLabel\" aria-labelledby=\"default\" data-level=\"1\">25</span></td><td class=\"treeValueCell stringCell\" role=\"presentation\"><span aria-labelledby=\"value\"><span class=\"objectBox objectBox-string\">\"mkrieger1\"</span></span></td></tr><tr id=\"/author_list/26\" role=\"treeitem\" aria-level=\"2\" aria-selected=\"false\" class=\"treeRow stringRow opened\"><td class=\"treeLabelCell\" style=\"--tree-label-cell-indent:16px;\" role=\"presentation\"><span class=\"treeIcon open\" role=\"presentation\"></span><span class=\"treeLabel stringLabel\" aria-labelledby=\"default\" data-level=\"1\">26</span></td><td class=\"treeValueCell stringCell\" role=\"presentation\"><span aria-labelledby=\"value\"><span class=\"objectBox objectBox-string\">\"Viktor Oláh\"</span></span></td></tr><tr id=\"/author_list/27\" role=\"treeitem\" aria-level=\"2\" aria-selected=\"false\" class=\"treeRow stringRow opened\"><td class=\"treeLabelCell\" style=\"--tree-label-cell-indent:16px;\" role=\"presentation\"><span class=\"treeIcon open\" role=\"presentation\"></span><span class=\"treeLabel stringLabel\" aria-labelledby=\"default\" data-level=\"1\">27</span></td><td class=\"treeValueCell stringCell\" role=\"presentation\"><span aria-labelledby=\"value\"><span class=\"objectBox objectBox-string\">\"asieglin\"</span></span></td></tr><tr id=\"/author_list/28\" role=\"treeitem\" aria-level=\"2\" aria-selected=\"false\" class=\"treeRow stringRow opened\"><td class=\"treeLabelCell\" style=\"--tree-label-cell-indent:16px;\" role=\"presentation\"><span class=\"treeIcon open\" role=\"presentation\"></span><span class=\"treeLabel stringLabel\" aria-labelledby=\"default\" data-level=\"1\">28</span></td><td class=\"treeValueCell stringCell\" role=\"presentation\"><span aria-labelledby=\"value\"><span class=\"objectBox objectBox-string\">\"cesarteaser\"</span></span></td></tr><tr id=\"/author_list/29\" role=\"treeitem\" aria-level=\"2\" aria-selected=\"false\" class=\"treeRow stringRow opened\"><td class=\"treeLabelCell\" style=\"--tree-label-cell-indent:16px;\" role=\"presentation\"><span class=\"treeIcon open\" role=\"presentation\"></span><span class=\"treeLabel stringLabel\" aria-labelledby=\"default\" data-level=\"1\">29</span></td><td class=\"treeValueCell stringCell\" role=\"presentation\"><span aria-labelledby=\"value\"><span class=\"objectBox objectBox-string\">\"daisy\"</span></span></td></tr><tr id=\"/author_list/30\" role=\"treeitem\" aria-level=\"2\" aria-selected=\"false\" class=\"treeRow stringRow opened\"><td class=\"treeLabelCell\" style=\"--tree-label-cell-indent:16px;\" role=\"presentation\"><span class=\"treeIcon open\" role=\"presentation\"></span><span class=\"treeLabel stringLabel\" aria-labelledby=\"default\" data-level=\"1\">30</span></td><td class=\"treeValueCell stringCell\" role=\"presentation\"><span aria-labelledby=\"value\"><span class=\"objectBox objectBox-string\">\"SimonZen\"</span></span></td></tr><tr id=\"/author_list/31\" role=\"treeitem\" aria-level=\"2\" aria-selected=\"false\" class=\"treeRow stringRow opened\"><td class=\"treeLabelCell\" style=\"--tree-label-cell-indent:16px;\" role=\"presentation\"><span class=\"treeIcon open\" role=\"presentation\"></span><span class=\"treeLabel stringLabel\" aria-labelledby=\"default\" data-level=\"1\">31</span></td><td class=\"treeValueCell stringCell\" role=\"presentation\"><span aria-labelledby=\"value\"><span class=\"objectBox objectBox-string\">\"Ceadeus\"</span></span></td></tr><tr id=\"/author_list/32\" role=\"treeitem\" aria-level=\"2\" aria-selected=\"false\" class=\"treeRow stringRow opened\"><td class=\"treeLabelCell\" style=\"--tree-label-cell-indent:16px;\" role=\"presentation\"><span class=\"treeIcon open\" role=\"presentation\"></span><span class=\"treeLabel stringLabel\" aria-labelledby=\"default\" data-level=\"1\">32</span></td><td class=\"treeValueCell stringCell\" role=\"presentation\"><span aria-labelledby=\"value\"><span class=\"objectBox objectBox-string\">\"Ke Feng\"</span></span></td></tr><tr id=\"/author_list/33\" role=\"treeitem\" aria-level=\"2\" aria-selected=\"false\" class=\"treeRow stringRow opened\"><td class=\"treeLabelCell\" style=\"--tree-label-cell-indent:16px;\" role=\"presentation\"><span class=\"treeIcon open\" role=\"presentation\"></span><span class=\"treeLabel stringLabel\" aria-labelledby=\"default\" data-level=\"1\">33</span></td><td class=\"treeValueCell stringCell\" role=\"presentation\"><span aria-labelledby=\"value\"><span class=\"objectBox objectBox-string\">\"Jeff Boker\"</span></span></td></tr><tr id=\"/author_list/34\" role=\"treeitem\" aria-level=\"2\" aria-selected=\"false\" class=\"treeRow stringRow opened\"><td class=\"treeLabelCell\" style=\"--tree-label-cell-indent:16px;\" role=\"presentation\"><span class=\"treeIcon open\" role=\"presentation\"></span><span class=\"treeLabel stringLabel\" aria-labelledby=\"default\" data-level=\"1\">34</span></td><td class=\"treeValueCell stringCell\" role=\"presentation\"><span aria-labelledby=\"value\"><span class=\"objectBox objectBox-string\">\"user58008\"</span></span></td></tr><tr id=\"/author_list/35\" role=\"treeitem\" aria-level=\"2\" aria-selected=\"false\" class=\"treeRow stringRow opened\"><td class=\"treeLabelCell\" style=\"--tree-label-cell-indent:16px;\" role=\"presentation\"><span class=\"treeIcon open\" role=\"presentation\"></span><span class=\"treeLabel stringLabel\" aria-labelledby=\"default\" data-level=\"1\">35</span></td><td class=\"treeValueCell stringCell\" role=\"presentation\"><span aria-labelledby=\"value\"><span class=\"objectBox objectBox-string\">\"albertoivo\"</span></span></td></tr><tr id=\"/author_list/36\" role=\"treeitem\" aria-level=\"2\" aria-selected=\"false\" class=\"treeRow stringRow opened\"><td class=\"treeLabelCell\" style=\"--tree-label-cell-indent:16px;\" role=\"presentation\"><span class=\"treeIcon open\" role=\"presentation\"></span><span class=\"treeLabel stringLabel\" aria-labelledby=\"default\" data-level=\"1\">36</span></td><td class=\"treeValueCell stringCell\" role=\"presentation\"><span aria-labelledby=\"value\"><span class=\"objectBox objectBox-string\">\"Ignacio Correa\"</span></span></td></tr><tr id=\"/author_list/37\" role=\"treeitem\" aria-level=\"2\" aria-selected=\"false\" class=\"treeRow stringRow opened\"><td class=\"treeLabelCell\" style=\"--tree-label-cell-indent:16px;\" role=\"presentation\"><span class=\"treeIcon open\" role=\"presentation\"></span><span class=\"treeLabel stringLabel\" aria-labelledby=\"default\" data-level=\"1\">37</span></td><td class=\"treeValueCell stringCell\" role=\"presentation\"><span aria-labelledby=\"value\"><span class=\"objectBox objectBox-string\">\"Ada\"</span></span></td></tr><tr id=\"/author_list/38\" role=\"treeitem\" aria-level=\"2\" aria-selected=\"false\" class=\"treeRow stringRow opened\"><td class=\"treeLabelCell\" style=\"--tree-label-cell-indent:16px;\" role=\"presentation\"><span class=\"treeIcon open\" role=\"presentation\"></span><span class=\"treeLabel stringLabel\" aria-labelledby=\"default\" data-level=\"1\">38</span></td><td class=\"treeValueCell stringCell\" role=\"presentation\"><span aria-labelledby=\"value\"><span class=\"objectBox objectBox-string\">\"Smasher640\"</span></span></td></tr><tr id=\"/author_list/39\" role=\"treeitem\" aria-level=\"2\" aria-selected=\"false\" class=\"treeRow stringRow opened\"><td class=\"treeLabelCell\" style=\"--tree-label-cell-indent:16px;\" role=\"presentation\"><span class=\"treeIcon open\" role=\"presentation\"></span><span class=\"treeLabel stringLabel\" aria-labelledby=\"default\" data-level=\"1\">39</span></td><td class=\"treeValueCell stringCell\" role=\"presentation\"><span aria-labelledby=\"value\"><span class=\"objectBox objectBox-string\">\"sktguha\"</span></span></td></tr><tr id=\"/author_list/40\" role=\"treeitem\" aria-level=\"2\" aria-selected=\"false\" class=\"treeRow stringRow opened\"><td class=\"treeLabelCell\" style=\"--tree-label-cell-indent:16px;\" role=\"presentation\"><span class=\"treeIcon open\" role=\"presentation\"></span><span class=\"treeLabel stringLabel\" aria-labelledby=\"default\" data-level=\"1\">40</span></td><td class=\"treeValueCell stringCell\" role=\"presentation\"><span aria-labelledby=\"value\"><span class=\"objectBox objectBox-string\">\"Prasun Kumar Khan\"</span></span></td></tr><tr id=\"/author_list/41\" role=\"treeitem\" aria-level=\"2\" aria-selected=\"false\" class=\"treeRow stringRow opened\"><td class=\"treeLabelCell\" style=\"--tree-label-cell-indent:16px;\" role=\"presentation\"><span class=\"treeIcon open\" role=\"presentation\"></span><span class=\"treeLabel stringLabel\" aria-labelledby=\"default\" data-level=\"1\">41</span></td><td class=\"treeValueCell stringCell\" role=\"presentation\"><span aria-labelledby=\"value\"><span class=\"objectBox objectBox-string\">\"Ray Bell\"</span></span></td></tr><tr id=\"/author_list/42\" role=\"treeitem\" aria-level=\"2\" aria-selected=\"false\" class=\"treeRow stringRow opened\"><td class=\"treeLabelCell\" style=\"--tree-label-cell-indent:16px;\" role=\"presentation\"><span class=\"treeIcon open\" role=\"presentation\"></span><span class=\"treeLabel stringLabel\" aria-labelledby=\"default\" data-level=\"1\">42</span></td><td class=\"treeValueCell stringCell\" role=\"presentation\"><span aria-labelledby=\"value\"><span class=\"objectBox objectBox-string\">\"Gunter Herd\"</span></span></td></tr><tr id=\"/author_list/43\" role=\"treeitem\" aria-level=\"2\" aria-selected=\"false\" class=\"treeRow stringRow opened\"><td class=\"treeLabelCell\" style=\"--tree-label-cell-indent:16px;\" role=\"presentation\"><span class=\"treeIcon open\" role=\"presentation\"></span><span class=\"treeLabel stringLabel\" aria-labelledby=\"default\" data-level=\"1\">43</span></td><td class=\"treeValueCell stringCell\" role=\"presentation\"><span aria-labelledby=\"value\"><span class=\"objectBox objectBox-string\">\"olive007\"</span></span></td></tr><tr id=\"/author_list/44\" role=\"treeitem\" aria-level=\"2\" aria-selected=\"false\" class=\"treeRow stringRow opened\"><td class=\"treeLabelCell\" style=\"--tree-label-cell-indent:16px;\" role=\"presentation\"><span class=\"treeIcon open\" role=\"presentation\"></span><span class=\"treeLabel stringLabel\" aria-labelledby=\"default\" data-level=\"1\">44</span></td><td class=\"treeValueCell stringCell\" role=\"presentation\"><span aria-labelledby=\"value\"><span class=\"objectBox objectBox-string\">\"Joao  Vitorino\"</span></span></td></tr><tr id=\"/author_list/45\" role=\"treeitem\" aria-level=\"2\" aria-selected=\"false\" class=\"treeRow stringRow opened\"><td class=\"treeLabelCell\" style=\"--tree-label-cell-indent:16px;\" role=\"presentation\"><span class=\"treeIcon open\" role=\"presentation\"></span><span class=\"treeLabel stringLabel\" aria-labelledby=\"default\" data-level=\"1\">45</span></td><td class=\"treeValueCell stringCell\" role=\"presentation\"><span aria-labelledby=\"value\"><span class=\"objectBox objectBox-string\">\"augcarv\"</span></span></td></tr><tr id=\"/author_list/46\" role=\"treeitem\" aria-level=\"2\" aria-selected=\"false\" class=\"treeRow stringRow opened\"><td class=\"treeLabelCell\" style=\"--tree-label-cell-indent:16px;\" role=\"presentation\"><span class=\"treeIcon open\" role=\"presentation\"></span><span class=\"treeLabel stringLabel\" aria-labelledby=\"default\" data-level=\"1\">46</span></td><td class=\"treeValueCell stringCell\" role=\"presentation\"><span aria-labelledby=\"value\"><span class=\"objectBox objectBox-string\">\"silverwrath\"</span></span></td></tr><tr id=\"/author_list/47\" role=\"treeitem\" aria-level=\"2\" aria-selected=\"false\" class=\"treeRow stringRow opened\"><td class=\"treeLabelCell\" style=\"--tree-label-cell-indent:16px;\" role=\"presentation\"><span class=\"treeIcon open\" role=\"presentation\"></span><span class=\"treeLabel stringLabel\" aria-labelledby=\"default\" data-level=\"1\">47</span></td><td class=\"treeValueCell stringCell\" role=\"presentation\"><span aria-labelledby=\"value\"><span class=\"objectBox objectBox-string\">\"Astrian_72954\"</span></span></td></tr><tr id=\"/author_list/48\" role=\"treeitem\" aria-level=\"2\" aria-selected=\"false\" class=\"treeRow stringRow opened\"><td class=\"treeLabelCell\" style=\"--tree-label-cell-indent:16px;\" role=\"presentation\"><span class=\"treeIcon open\" role=\"presentation\"></span><span class=\"treeLabel stringLabel\" aria-labelledby=\"default\" data-level=\"1\">48</span></td><td class=\"treeValueCell stringCell\" role=\"presentation\"><span aria-labelledby=\"value\"><span class=\"objectBox objectBox-string\">\"J. Doe\"</span></span></td></tr><tr id=\"/author_list/49\" role=\"treeitem\" aria-level=\"2\" aria-selected=\"false\" class=\"treeRow stringRow opened\"><td class=\"treeLabelCell\" style=\"--tree-label-cell-indent:16px;\" role=\"presentation\"><span class=\"treeIcon open\" role=\"presentation\"></span><span class=\"treeLabel stringLabel\" aria-labelledby=\"default\" data-level=\"1\">49</span></td><td class=\"treeValueCell stringCell\" role=\"presentation\"><span aria-labelledby=\"value\"><span class=\"objectBox objectBox-string\">\"Jase\"</span></span></td></tr><tr id=\"/author_list/50\" role=\"treeitem\" aria-level=\"2\" aria-selected=\"false\" class=\"treeRow stringRow opened\"><td class=\"treeLabelCell\" style=\"--tree-label-cell-indent:16px;\" role=\"presentation\"><span class=\"treeIcon open\" role=\"presentation\"></span><span class=\"treeLabel stringLabel\" aria-labelledby=\"default\" data-level=\"1\">50</span></td><td class=\"treeValueCell stringCell\" role=\"presentation\"><span aria-labelledby=\"value\"><span class=\"objectBox objectBox-string\">\"Vinícius Alves\"</span></span></td></tr><tr id=\"/author_list/51\" role=\"treeitem\" aria-level=\"2\" aria-selected=\"false\" class=\"treeRow stringRow opened\"><td class=\"treeLabelCell\" style=\"--tree-label-cell-indent:16px;\" role=\"presentation\"><span class=\"treeIcon open\" role=\"presentation\"></span><span class=\"treeLabel stringLabel\" aria-labelledby=\"default\" data-level=\"1\">51</span></td><td class=\"treeValueCell stringCell\" role=\"presentation\"><span aria-labelledby=\"value\"><span class=\"objectBox objectBox-string\">\"Ross Symonds\"</span></span></td></tr><tr id=\"/author_list/52\" role=\"treeitem\" aria-level=\"2\" aria-selected=\"false\" class=\"treeRow stringRow opened\"><td class=\"treeLabelCell\" style=\"--tree-label-cell-indent:16px;\" role=\"presentation\"><span class=\"treeIcon open\" role=\"presentation\"></span><span class=\"treeLabel stringLabel\" aria-labelledby=\"default\" data-level=\"1\">52</span></td><td class=\"treeValueCell stringCell\" role=\"presentation\"><span aria-labelledby=\"value\"><span class=\"objectBox objectBox-string\">\"Elcid_91\"</span></span></td></tr><tr id=\"/author_list/53\" role=\"treeitem\" aria-level=\"2\" aria-selected=\"false\" class=\"treeRow stringRow opened\"><td class=\"treeLabelCell\" style=\"--tree-label-cell-indent:16px;\" role=\"presentation\"><span class=\"treeIcon open\" role=\"presentation\"></span><span class=\"treeLabel stringLabel\" aria-labelledby=\"default\" data-level=\"1\">53</span></td><td class=\"treeValueCell stringCell\" role=\"presentation\"><span aria-labelledby=\"value\"><span class=\"objectBox objectBox-string\">\"Math Noob\"</span></span></td></tr><tr id=\"/author_list/54\" role=\"treeitem\" aria-level=\"2\" aria-selected=\"false\" class=\"treeRow stringRow opened\"><td class=\"treeLabelCell\" style=\"--tree-label-cell-indent:16px;\" role=\"presentation\"><span class=\"treeIcon open\" role=\"presentation\"></span><span class=\"treeLabel stringLabel\" aria-labelledby=\"default\" data-level=\"1\">54</span></td><td class=\"treeValueCell stringCell\" role=\"presentation\"><span aria-labelledby=\"value\"><span class=\"objectBox objectBox-string\">\"Pranil\"</span></span></td></tr><tr id=\"/author_list/55\" role=\"treeitem\" aria-level=\"2\" aria-selected=\"false\" class=\"treeRow stringRow opened\"><td class=\"treeLabelCell\" style=\"--tree-label-cell-indent:16px;\" role=\"presentation\"><span class=\"treeIcon open\" role=\"presentation\"></span><span class=\"treeLabel stringLabel\" aria-labelledby=\"default\" data-level=\"1\">55</span></td><td class=\"treeValueCell stringCell\" role=\"presentation\"><span aria-labelledby=\"value\"><span class=\"objectBox objectBox-string\">\"Chan\"</span></span></td></tr><tr id=\"/author_list/56\" role=\"treeitem\" aria-level=\"2\" aria-selected=\"false\" class=\"treeRow stringRow opened\"><td class=\"treeLabelCell\" style=\"--tree-label-cell-indent:16px;\" role=\"presentation\"><span class=\"treeIcon open\" role=\"presentation\"></span><span class=\"treeLabel stringLabel\" aria-labelledby=\"default\" data-level=\"1\">56</span></td><td class=\"treeValueCell stringCell\" role=\"presentation\"><span aria-labelledby=\"value\"><span class=\"objectBox objectBox-string\">\"Mega Players\"</span></span></td></tr><tr id=\"/author_list/57\" role=\"treeitem\" aria-level=\"2\" aria-selected=\"false\" class=\"treeRow stringRow opened\"><td class=\"treeLabelCell\" style=\"--tree-label-cell-indent:16px;\" role=\"presentation\"><span class=\"treeIcon open\" role=\"presentation\"></span><span class=\"treeLabel stringLabel\" aria-labelledby=\"default\" data-level=\"1\">57</span></td><td class=\"treeValueCell stringCell\" role=\"presentation\"><span aria-labelledby=\"value\"><span class=\"objectBox objectBox-string\">\"Johnny_Mali39\"</span></span></td></tr><tr id=\"/author_list/58\" role=\"treeitem\" aria-level=\"2\" aria-selected=\"false\" class=\"treeRow stringRow opened\"><td class=\"treeLabelCell\" style=\"--tree-label-cell-indent:16px;\" role=\"presentation\"><span class=\"treeIcon open\" role=\"presentation\"></span><span class=\"treeLabel stringLabel\" aria-labelledby=\"default\" data-level=\"1\">58</span></td><td class=\"treeValueCell stringCell\" role=\"presentation\"><span aria-labelledby=\"value\"><span class=\"objectBox objectBox-string\">\"ezgi\"</span></span></td></tr><tr id=\"/author_list/59\" role=\"treeitem\" aria-level=\"2\" aria-selected=\"false\" class=\"treeRow stringRow opened\"><td class=\"treeLabelCell\" style=\"--tree-label-cell-indent:16px;\" role=\"presentation\"><span class=\"treeIcon open\" role=\"presentation\"></span><span class=\"treeLabel stringLabel\" aria-labelledby=\"default\" data-level=\"1\">59</span></td><td class=\"treeValueCell stringCell\" role=\"presentation\"><span aria-labelledby=\"value\"><span class=\"objectBox objectBox-string\">\"questions\"</span></span></td></tr><tr id=\"/author_list/60\" role=\"treeitem\" aria-level=\"2\" aria-selected=\"false\" class=\"treeRow stringRow opened\"><td class=\"treeLabelCell\" style=\"--tree-label-cell-indent:16px;\" role=\"presentation\"><span class=\"treeIcon open\" role=\"presentation\"></span><span class=\"treeLabel stringLabel\" aria-labelledby=\"default\" data-level=\"1\">60</span></td><td class=\"treeValueCell stringCell\" role=\"presentation\"><span aria-labelledby=\"value\"><span class=\"objectBox objectBox-string\">\"Mig B\"</span></span></td></tr><tr id=\"/author_list/61\" role=\"treeitem\" aria-level=\"2\" aria-selected=\"false\" class=\"treeRow stringRow opened\"><td class=\"treeLabelCell\" style=\"--tree-label-cell-indent:16px;\" role=\"presentation\"><span class=\"treeIcon open\" role=\"presentation\"></span><span class=\"treeLabel stringLabel\" aria-labelledby=\"default\" data-level=\"1\">61</span></td><td class=\"treeValueCell stringCell\" role=\"presentation\"><span aria-labelledby=\"value\"><span class=\"objectBox objectBox-string\">\"Divyessh\"</span></span></td></tr><tr id=\"/author_list/62\" role=\"treeitem\" aria-level=\"2\" aria-selected=\"false\" class=\"treeRow stringRow opened\"><td class=\"treeLabelCell\" style=\"--tree-label-cell-indent:16px;\" role=\"presentation\"><span class=\"treeIcon open\" role=\"presentation\"></span><span class=\"treeLabel stringLabel\" aria-labelledby=\"default\" data-level=\"1\">62</span></td><td class=\"treeValueCell stringCell\" role=\"presentation\"><span aria-labelledby=\"value\"><span class=\"objectBox objectBox-string\">\"dani\"</span></span></td></tr><tr id=\"/author_list/63\" role=\"treeitem\" aria-level=\"2\" aria-selected=\"false\" class=\"treeRow stringRow opened\"><td class=\"treeLabelCell\" style=\"--tree-label-cell-indent:16px;\" role=\"presentation\"><span class=\"treeIcon open\" role=\"presentation\"></span><span class=\"treeLabel stringLabel\" aria-labelledby=\"default\" data-level=\"1\">63</span></td><td class=\"treeValueCell stringCell\" role=\"presentation\"><span aria-labelledby=\"value\"><span class=\"objectBox objectBox-string\">\"Ahmet Tavli\"</span></span></td></tr><tr id=\"/author_list/64\" role=\"treeitem\" aria-level=\"2\" aria-selected=\"false\" class=\"treeRow stringRow opened\"><td class=\"treeLabelCell\" style=\"--tree-label-cell-indent:16px;\" role=\"presentation\"><span class=\"treeIcon open\" role=\"presentation\"></span><span class=\"treeLabel stringLabel\" aria-labelledby=\"default\" data-level=\"1\">64</span></td><td class=\"treeValueCell stringCell\" role=\"presentation\"><span aria-labelledby=\"value\"><span class=\"objectBox objectBox-string\">\"Wes Tomer\"</span></span></td></tr><tr id=\"/author_list/65\" role=\"treeitem\" aria-level=\"2\" aria-selected=\"false\" class=\"treeRow stringRow opened\"><td class=\"treeLabelCell\" style=\"--tree-label-cell-indent:16px;\" role=\"presentation\"><span class=\"treeIcon open\" role=\"presentation\"></span><span class=\"treeLabel stringLabel\" aria-labelledby=\"default\" data-level=\"1\">65</span></td><td class=\"treeValueCell stringCell\" role=\"presentation\"><span aria-labelledby=\"value\"><span class=\"objectBox objectBox-string\">\"Suman NayOo\"</span></span></td></tr><tr id=\"/author_list/66\" role=\"treeitem\" aria-level=\"2\" aria-selected=\"false\" class=\"treeRow stringRow opened\"><td class=\"treeLabelCell\" style=\"--tree-label-cell-indent:16px;\" role=\"presentation\"><span class=\"treeIcon open\" role=\"presentation\"></span><span class=\"treeLabel stringLabel\" aria-labelledby=\"default\" data-level=\"1\">66</span></td><td class=\"treeValueCell stringCell\" role=\"presentation\"><span aria-labelledby=\"value\"><span class=\"objectBox objectBox-string\">\"Rafael Higa\"</span></span></td></tr><tr id=\"/author_list/67\" role=\"treeitem\" aria-level=\"2\" aria-selected=\"false\" class=\"treeRow stringRow opened\"><td class=\"treeLabelCell\" style=\"--tree-label-cell-indent:16px;\" role=\"presentation\"><span class=\"treeIcon open\" role=\"presentation\"></span><span class=\"treeLabel stringLabel\" aria-labelledby=\"default\" data-level=\"1\">67</span></td><td class=\"treeValueCell stringCell\" role=\"presentation\"><span aria-labelledby=\"value\"><span class=\"objectBox objectBox-string\">\"Ryabchenko Alexander\"</span></span></td></tr><tr id=\"/author_list/68\" role=\"treeitem\" aria-level=\"2\" aria-selected=\"false\" class=\"treeRow stringRow opened\"><td class=\"treeLabelCell\" style=\"--tree-label-cell-indent:16px;\" role=\"presentation\"><span class=\"treeIcon open\" role=\"presentation\"></span><span class=\"treeLabel stringLabel\" aria-labelledby=\"default\" data-level=\"1\">68</span></td><td class=\"treeValueCell stringCell\" role=\"presentation\"><span aria-labelledby=\"value\"><span class=\"objectBox objectBox-string\">\"develarist\"</span></span></td></tr><tr id=\"/author_list/69\" role=\"treeitem\" aria-level=\"2\" aria-selected=\"false\" class=\"treeRow stringRow opened\"><td class=\"treeLabelCell\" style=\"--tree-label-cell-indent:16px;\" role=\"presentation\"><span class=\"treeIcon open\" role=\"presentation\"></span><span class=\"treeLabel stringLabel\" aria-labelledby=\"default\" data-level=\"1\">69</span></td><td class=\"treeValueCell stringCell\" role=\"presentation\"><span aria-labelledby=\"value\"><span class=\"objectBox objectBox-string\">\"David Owens\"</span></span></td></tr><tr id=\"/author_list/70\" role=\"treeitem\" aria-level=\"2\" aria-selected=\"false\" class=\"treeRow stringRow opened\"><td class=\"treeLabelCell\" style=\"--tree-label-cell-indent:16px;\" role=\"presentation\"><span class=\"treeIcon open\" role=\"presentation\"></span><span class=\"treeLabel stringLabel\" aria-labelledby=\"default\" data-level=\"1\">70</span></td><td class=\"treeValueCell stringCell\" role=\"presentation\"><span aria-labelledby=\"value\"><span class=\"objectBox objectBox-string\">\"Jack R-G\"</span></span></td></tr><tr id=\"/author_list/71\" role=\"treeitem\" aria-level=\"2\" aria-selected=\"false\" class=\"treeRow stringRow opened\"><td class=\"treeLabelCell\" style=\"--tree-label-cell-indent:16px;\" role=\"presentation\"><span class=\"treeIcon open\" role=\"presentation\"></span><span class=\"treeLabel stringLabel\" aria-labelledby=\"default\" data-level=\"1\">71</span></td><td class=\"treeValueCell stringCell\" role=\"presentation\"><span aria-labelledby=\"value\"><span class=\"objectBox objectBox-string\">\"Bharath\"</span></span></td></tr><tr id=\"/author_list/72\" role=\"treeitem\" aria-level=\"2\" aria-selected=\"false\" class=\"treeRow stringRow opened\"><td class=\"treeLabelCell\" style=\"--tree-label-cell-indent:16px;\" role=\"presentation\"><span class=\"treeIcon open\" role=\"presentation\"></span><span class=\"treeLabel stringLabel\" aria-labelledby=\"default\" data-level=\"1\">72</span></td><td class=\"treeValueCell stringCell\" role=\"presentation\"><span aria-labelledby=\"value\"><span class=\"objectBox objectBox-string\">\"Ooo\"</span></span></td></tr><tr id=\"/author_list/73\" role=\"treeitem\" aria-level=\"2\" aria-selected=\"false\" class=\"treeRow stringRow opened\"><td class=\"treeLabelCell\" style=\"--tree-label-cell-indent:16px;\" role=\"presentation\"><span class=\"treeIcon open\" role=\"presentation\"></span><span class=\"treeLabel stringLabel\" aria-labelledby=\"default\" data-level=\"1\">73</span></td><td class=\"treeValueCell stringCell\" role=\"presentation\"><span aria-labelledby=\"value\"><span class=\"objectBox objectBox-string\">\"BookishWolf\"</span></span></td></tr><tr id=\"/author_list/74\" role=\"treeitem\" aria-level=\"2\" aria-selected=\"false\" class=\"treeRow stringRow opened\"><td class=\"treeLabelCell\" style=\"--tree-label-cell-indent:16px;\" role=\"presentation\"><span class=\"treeIcon open\" role=\"presentation\"></span><span class=\"treeLabel stringLabel\" aria-labelledby=\"default\" data-level=\"1\">74</span></td><td class=\"treeValueCell stringCell\" role=\"presentation\"><span aria-labelledby=\"value\"><span class=\"objectBox objectBox-string\">\"AlexS1\"</span></span></td></tr><tr id=\"/author_list/75\" role=\"treeitem\" aria-level=\"2\" aria-selected=\"false\" class=\"treeRow stringRow opened\"><td class=\"treeLabelCell\" style=\"--tree-label-cell-indent:16px;\" role=\"presentation\"><span class=\"treeIcon open\" role=\"presentation\"></span><span class=\"treeLabel stringLabel\" aria-labelledby=\"default\" data-level=\"1\">75</span></td><td class=\"treeValueCell stringCell\" role=\"presentation\"><span aria-labelledby=\"value\"><span class=\"objectBox objectBox-string\">\"Sandeep Kadapa\"</span></span></td></tr><tr id=\"/author_list/76\" role=\"treeitem\" aria-level=\"2\" aria-selected=\"false\" class=\"treeRow stringRow opened\"><td class=\"treeLabelCell\" style=\"--tree-label-cell-indent:16px;\" role=\"presentation\"><span class=\"treeIcon open\" role=\"presentation\"></span><span class=\"treeLabel stringLabel\" aria-labelledby=\"default\" data-level=\"1\">76</span></td><td class=\"treeValueCell stringCell\" role=\"presentation\"><span aria-labelledby=\"value\"><span class=\"objectBox objectBox-string\">\"GetRektOrElse\"</span></span></td></tr><tr id=\"/author_list/77\" role=\"treeitem\" aria-level=\"2\" aria-selected=\"false\" class=\"treeRow stringRow opened\"><td class=\"treeLabelCell\" style=\"--tree-label-cell-indent:16px;\" role=\"presentation\"><span class=\"treeIcon open\" role=\"presentation\"></span><span class=\"treeLabel stringLabel\" aria-labelledby=\"default\" data-level=\"1\">77</span></td><td class=\"treeValueCell stringCell\" role=\"presentation\"><span aria-labelledby=\"value\"><span class=\"objectBox objectBox-string\">\"orie\"</span></span></td></tr><tr id=\"/author_list/78\" role=\"treeitem\" aria-level=\"2\" aria-selected=\"false\" class=\"treeRow stringRow opened\"><td class=\"treeLabelCell\" style=\"--tree-label-cell-indent:16px;\" role=\"presentation\"><span class=\"treeIcon open\" role=\"presentation\"></span><span class=\"treeLabel stringLabel\" aria-labelledby=\"default\" data-level=\"1\">78</span></td><td class=\"treeValueCell stringCell\" role=\"presentation\"><span aria-labelledby=\"value\"><span class=\"objectBox objectBox-string\">\"witiw25151\"</span></span></td></tr><tr id=\"/author_list/79\" role=\"treeitem\" aria-level=\"2\" aria-selected=\"false\" class=\"treeRow stringRow opened\"><td class=\"treeLabelCell\" style=\"--tree-label-cell-indent:16px;\" role=\"presentation\"><span class=\"treeIcon open\" role=\"presentation\"></span><span class=\"treeLabel stringLabel\" aria-labelledby=\"default\" data-level=\"1\">79</span></td><td class=\"treeValueCell stringCell\" role=\"presentation\"><span aria-labelledby=\"value\"><span class=\"objectBox objectBox-string\">\"user14049704\"</span></span></td></tr><tr id=\"/author_list/80\" role=\"treeitem\" aria-level=\"2\" aria-selected=\"false\" class=\"treeRow stringRow opened\"><td class=\"treeLabelCell\" style=\"--tree-label-cell-indent:16px;\" role=\"presentation\"><span class=\"treeIcon open\" role=\"presentation\"></span><span class=\"treeLabel stringLabel\" aria-labelledby=\"default\" data-level=\"1\">80</span></td><td class=\"treeValueCell stringCell\" role=\"presentation\"><span aria-labelledby=\"value\"><span class=\"objectBox objectBox-string\">\"Prabal Mukherjee\"</span></span></td></tr><tr id=\"/author_list/81\" role=\"treeitem\" aria-level=\"2\" aria-selected=\"false\" class=\"treeRow stringRow opened\"><td class=\"treeLabelCell\" style=\"--tree-label-cell-indent:16px;\" role=\"presentation\"><span class=\"treeIcon open\" role=\"presentation\"></span><span class=\"treeLabel stringLabel\" aria-labelledby=\"default\" data-level=\"1\">81</span></td><td class=\"treeValueCell stringCell\" role=\"presentation\"><span aria-labelledby=\"value\"><span class=\"objectBox objectBox-string\">\"carciofinospinoso\"</span></span></td></tr><tr id=\"/author_list/82\" role=\"treeitem\" aria-level=\"2\" aria-selected=\"false\" class=\"treeRow stringRow opened\"><td class=\"treeLabelCell\" style=\"--tree-label-cell-indent:16px;\" role=\"presentation\"><span class=\"treeIcon open\" role=\"presentation\"></span><span class=\"treeLabel stringLabel\" aria-labelledby=\"default\" data-level=\"1\">82</span></td><td class=\"treeValueCell stringCell\" role=\"presentation\"><span aria-labelledby=\"value\"><span class=\"objectBox objectBox-string\">\"vis10\"</span></span></td></tr><tr id=\"/author_list/83\" role=\"treeitem\" aria-level=\"2\" aria-selected=\"false\" class=\"treeRow stringRow opened\"><td class=\"treeLabelCell\" style=\"--tree-label-cell-indent:16px;\" role=\"presentation\"><span class=\"treeIcon open\" role=\"presentation\"></span><span class=\"treeLabel stringLabel\" aria-labelledby=\"default\" data-level=\"1\">83</span></td><td class=\"treeValueCell stringCell\" role=\"presentation\"><span aria-labelledby=\"value\"><span class=\"objectBox objectBox-string\">\"ole\"</span></span></td></tr><tr id=\"/author_list/84\" role=\"treeitem\" aria-level=\"2\" aria-selected=\"false\" class=\"treeRow stringRow opened\"><td class=\"treeLabelCell\" style=\"--tree-label-cell-indent:16px;\" role=\"presentation\"><span class=\"treeIcon open\" role=\"presentation\"></span><span class=\"treeLabel stringLabel\" aria-labelledby=\"default\" data-level=\"1\">84</span></td><td class=\"treeValueCell stringCell\" role=\"presentation\"><span aria-labelledby=\"value\"><span class=\"objectBox objectBox-string\">\"Patrick Parker\"</span></span></td></tr><tr id=\"/author_list/85\" role=\"treeitem\" aria-level=\"2\" aria-selected=\"false\" class=\"treeRow stringRow opened\"><td class=\"treeLabelCell\" style=\"--tree-label-cell-indent:16px;\" role=\"presentation\"><span class=\"treeIcon open\" role=\"presentation\"></span><span class=\"treeLabel stringLabel\" aria-labelledby=\"default\" data-level=\"1\">85</span></td><td class=\"treeValueCell stringCell\" role=\"presentation\"><span aria-labelledby=\"value\"><span class=\"objectBox objectBox-string\">\"Josh Fontaine\"</span></span></td></tr><tr id=\"/author_list/86\" role=\"treeitem\" aria-level=\"2\" aria-selected=\"false\" class=\"treeRow stringRow opened\"><td class=\"treeLabelCell\" style=\"--tree-label-cell-indent:16px;\" role=\"presentation\"><span class=\"treeIcon open\" role=\"presentation\"></span><span class=\"treeLabel stringLabel\" aria-labelledby=\"default\" data-level=\"1\">86</span></td><td class=\"treeValueCell stringCell\" role=\"presentation\"><span aria-labelledby=\"value\"><span class=\"objectBox objectBox-string\">\"calypso\"</span></span></td></tr><tr id=\"/author_list/87\" role=\"treeitem\" aria-level=\"2\" aria-selected=\"false\" class=\"treeRow stringRow opened\"><td class=\"treeLabelCell\" style=\"--tree-label-cell-indent:16px;\" role=\"presentation\"><span class=\"treeIcon open\" role=\"presentation\"></span><span class=\"treeLabel stringLabel\" aria-labelledby=\"default\" data-level=\"1\">87</span></td><td class=\"treeValueCell stringCell\" role=\"presentation\"><span aria-labelledby=\"value\"><span class=\"objectBox objectBox-string\">\"blockhead\"</span></span></td></tr><tr id=\"/author_list/88\" role=\"treeitem\" aria-level=\"2\" aria-selected=\"false\" class=\"treeRow stringRow opened\"><td class=\"treeLabelCell\" style=\"--tree-label-cell-indent:16px;\" role=\"presentation\"><span class=\"treeIcon open\" role=\"presentation\"></span><span class=\"treeLabel stringLabel\" aria-labelledby=\"default\" data-level=\"1\">88</span></td><td class=\"treeValueCell stringCell\" role=\"presentation\"><span aria-labelledby=\"value\"><span class=\"objectBox objectBox-string\">\"martineau\"</span></span></td></tr><tr id=\"/author_list/89\" role=\"treeitem\" aria-level=\"2\" aria-selected=\"false\" class=\"treeRow stringRow opened\"><td class=\"treeLabelCell\" style=\"--tree-label-cell-indent:16px;\" role=\"presentation\"><span class=\"treeIcon open\" role=\"presentation\"></span><span class=\"treeLabel stringLabel\" aria-labelledby=\"default\" data-level=\"1\">89</span></td><td class=\"treeValueCell stringCell\" role=\"presentation\"><span aria-labelledby=\"value\"><span class=\"objectBox objectBox-string\">\"martineau\"</span></span></td></tr><tr id=\"/author_list/90\" role=\"treeitem\" aria-level=\"2\" aria-selected=\"false\" class=\"treeRow stringRow opened\"><td class=\"treeLabelCell\" style=\"--tree-label-cell-indent:16px;\" role=\"presentation\"><span class=\"treeIcon open\" role=\"presentation\"></span><span class=\"treeLabel stringLabel\" aria-labelledby=\"default\" data-level=\"1\">90</span></td><td class=\"treeValueCell stringCell\" role=\"presentation\"><span aria-labelledby=\"value\"><span class=\"objectBox objectBox-string\">\"Sam Dillard\"</span></span></td></tr><tr id=\"/author_list/91\" role=\"treeitem\" aria-level=\"2\" aria-selected=\"false\" class=\"treeRow stringRow opened\"><td class=\"treeLabelCell\" style=\"--tree-label-cell-indent:16px;\" role=\"presentation\"><span class=\"treeIcon open\" role=\"presentation\"></span><span class=\"treeLabel stringLabel\" aria-labelledby=\"default\" data-level=\"1\">91</span></td><td class=\"treeValueCell stringCell\" role=\"presentation\"><span aria-labelledby=\"value\"><span class=\"objectBox objectBox-string\">\"SOM Tube\"</span></span></td></tr><tr id=\"/author_list/92\" role=\"treeitem\" aria-level=\"2\" aria-selected=\"false\" class=\"treeRow stringRow opened\"><td class=\"treeLabelCell\" style=\"--tree-label-cell-indent:16px;\" role=\"presentation\"><span class=\"treeIcon open\" role=\"presentation\"></span><span class=\"treeLabel stringLabel\" aria-labelledby=\"default\" data-level=\"1\">92</span></td><td class=\"treeValueCell stringCell\" role=\"presentation\"><span aria-labelledby=\"value\"><span class=\"objectBox objectBox-string\">\"Eddie McGolrick\"</span></span></td></tr><tr id=\"/author_list/93\" role=\"treeitem\" aria-level=\"2\" aria-selected=\"false\" class=\"treeRow stringRow opened\"><td class=\"treeLabelCell\" style=\"--tree-label-cell-indent:16px;\" role=\"presentation\"><span class=\"treeIcon open\" role=\"presentation\"></span><span class=\"treeLabel stringLabel\" aria-labelledby=\"default\" data-level=\"1\">93</span></td><td class=\"treeValueCell stringCell\" role=\"presentation\"><span aria-labelledby=\"value\"><span class=\"objectBox objectBox-string\">\"Kalindu Prabash\"</span></span></td></tr><tr id=\"/author_list/94\" role=\"treeitem\" aria-level=\"2\" aria-selected=\"false\" class=\"treeRow stringRow opened\"><td class=\"treeLabelCell\" style=\"--tree-label-cell-indent:16px;\" role=\"presentation\"><span class=\"treeIcon open\" role=\"presentation\"></span><span class=\"treeLabel stringLabel\" aria-labelledby=\"default\" data-level=\"1\">94</span></td><td class=\"treeValueCell stringCell\" role=\"presentation\"><span aria-labelledby=\"value\"><span class=\"objectBox objectBox-string\">\"Tewfik\"</span></span></td></tr><tr id=\"/author_list/95\" role=\"treeitem\" aria-level=\"2\" aria-selected=\"false\" class=\"treeRow stringRow opened\"><td class=\"treeLabelCell\" style=\"--tree-label-cell-indent:16px;\" role=\"presentation\"><span class=\"treeIcon open\" role=\"presentation\"></span><span class=\"treeLabel stringLabel\" aria-labelledby=\"default\" data-level=\"1\">95</span></td><td class=\"treeValueCell stringCell\" role=\"presentation\"><span aria-labelledby=\"value\"><span class=\"objectBox objectBox-string\">\"FNTE\"</span></span></td></tr><tr id=\"/author_list/96\" role=\"treeitem\" aria-level=\"2\" aria-selected=\"false\" class=\"treeRow stringRow opened\"><td class=\"treeLabelCell\" style=\"--tree-label-cell-indent:16px;\" role=\"presentation\"><span class=\"treeIcon open\" role=\"presentation\"></span><span class=\"treeLabel stringLabel\" aria-labelledby=\"default\" data-level=\"1\">96</span></td><td class=\"treeValueCell stringCell\" role=\"presentation\"><span aria-labelledby=\"value\"><span class=\"objectBox objectBox-string\">\"Asocia\"</span></span></td></tr><tr id=\"/author_list/97\" role=\"treeitem\" aria-level=\"2\" aria-selected=\"false\" class=\"treeRow stringRow opened\"><td class=\"treeLabelCell\" style=\"--tree-label-cell-indent:16px;\" role=\"presentation\"><span class=\"treeIcon open\" role=\"presentation\"></span><span class=\"treeLabel stringLabel\" aria-labelledby=\"default\" data-level=\"1\">97</span></td><td class=\"treeValueCell stringCell\" role=\"presentation\"><span aria-labelledby=\"value\"><span class=\"objectBox objectBox-string\">\"Gauthier Buttez\"</span></span></td></tr><tr id=\"/author_list/98\" role=\"treeitem\" aria-level=\"2\" aria-selected=\"false\" class=\"treeRow stringRow opened\"><td class=\"treeLabelCell\" style=\"--tree-label-cell-indent:16px;\" role=\"presentation\"><span class=\"treeIcon open\" role=\"presentation\"></span><span class=\"treeLabel stringLabel\" aria-labelledby=\"default\" data-level=\"1\">98</span></td><td class=\"treeValueCell stringCell\" role=\"presentation\"><span aria-labelledby=\"value\"><span class=\"objectBox objectBox-string\">\"Mostafa Ghadimi\"</span></span></td></tr><tr id=\"/author_list/99\" role=\"treeitem\" aria-level=\"2\" aria-selected=\"false\" class=\"treeRow stringRow opened\"><td class=\"treeLabelCell\" style=\"--tree-label-cell-indent:16px;\" role=\"presentation\"><span class=\"treeIcon open\" role=\"presentation\"></span><span class=\"treeLabel stringLabel\" aria-labelledby=\"default\" data-level=\"1\">99</span></td><td class=\"treeValueCell stringCell\" role=\"presentation\"><span aria-labelledby=\"value\"><span class=\"objectBox objectBox-string\">\"user3847934\"</span></span></td></tr><tr id=\"/author_list/100\" role=\"treeitem\" aria-level=\"2\" aria-selected=\"false\" class=\"treeRow stringRow opened\"><td class=\"treeLabelCell\" style=\"--tree-label-cell-indent:16px;\" role=\"presentation\"><span class=\"treeIcon open\" role=\"presentation\"></span><span class=\"treeLabel stringLabel\" aria-labelledby=\"default\" data-level=\"1\">100</span></td><td class=\"treeValueCell stringCell\" role=\"presentation\"><span aria-labelledby=\"value\"><span class=\"objectBox objectBox-string\">\"DebanjanB\"</span></span></td></tr><tr id=\"/author_list/101\" role=\"treeitem\" aria-level=\"2\" aria-selected=\"false\" class=\"treeRow stringRow opened\"><td class=\"treeLabelCell\" style=\"--tree-label-cell-indent:16px;\" role=\"presentation\"><span class=\"treeIcon open\" role=\"presentation\"></span><span class=\"treeLabel stringLabel\" aria-labelledby=\"default\" data-level=\"1\">101</span></td><td class=\"treeValueCell stringCell\" role=\"presentation\"><span aria-labelledby=\"value\"><span class=\"objectBox objectBox-string\">\"Jonathan\"</span></span></td></tr><tr id=\"/author_list/102\" role=\"treeitem\" aria-level=\"2\" aria-selected=\"false\" class=\"treeRow stringRow opened\"><td class=\"treeLabelCell\" style=\"--tree-label-cell-indent:16px;\" role=\"presentation\"><span class=\"treeIcon open\" role=\"presentation\"></span><span class=\"treeLabel stringLabel\" aria-labelledby=\"default\" data-level=\"1\">102</span></td><td class=\"treeValueCell stringCell\" role=\"presentation\"><span aria-labelledby=\"value\"><span class=\"objectBox objectBox-string\">\"deadshot\"</span></span></td></tr><tr id=\"/author_list/103\" role=\"treeitem\" aria-level=\"2\" aria-selected=\"false\" class=\"treeRow stringRow opened\"><td class=\"treeLabelCell\" style=\"--tree-label-cell-indent:16px;\" role=\"presentation\"><span class=\"treeIcon open\" role=\"presentation\"></span><span class=\"treeLabel stringLabel\" aria-labelledby=\"default\" data-level=\"1\">103</span></td><td class=\"treeValueCell stringCell\" role=\"presentation\"><span aria-labelledby=\"value\"><span class=\"objectBox objectBox-string\">\"Sascha\"</span></span></td></tr><tr id=\"/author_list/104\" role=\"treeitem\" aria-level=\"2\" aria-selected=\"false\" class=\"treeRow stringRow opened\"><td class=\"treeLabelCell\" style=\"--tree-label-cell-indent:16px;\" role=\"presentation\"><span class=\"treeIcon open\" role=\"presentation\"></span><span class=\"treeLabel stringLabel\" aria-labelledby=\"default\" data-level=\"1\">104</span></td><td class=\"treeValueCell stringCell\" role=\"presentation\"><span aria-labelledby=\"value\"><span class=\"objectBox objectBox-string\">\"Supergamer5465\"</span></span></td></tr><tr id=\"/author_list/105\" role=\"treeitem\" aria-level=\"2\" aria-selected=\"false\" class=\"treeRow stringRow opened\"><td class=\"treeLabelCell\" style=\"--tree-label-cell-indent:16px;\" role=\"presentation\"><span class=\"treeIcon open\" role=\"presentation\"></span><span class=\"treeLabel stringLabel\" aria-labelledby=\"default\" data-level=\"1\">105</span></td><td class=\"treeValueCell stringCell\" role=\"presentation\"><span aria-labelledby=\"value\"><span class=\"objectBox objectBox-string\">\"Sjcarlso\"</span></span></td></tr><tr id=\"/author_list/106\" role=\"treeitem\" aria-level=\"2\" aria-selected=\"false\" class=\"treeRow stringRow opened\"><td class=\"treeLabelCell\" style=\"--tree-label-cell-indent:16px;\" role=\"presentation\"><span class=\"treeIcon open\" role=\"presentation\"></span><span class=\"treeLabel stringLabel\" aria-labelledby=\"default\" data-level=\"1\">106</span></td><td class=\"treeValueCell stringCell\" role=\"presentation\"><span aria-labelledby=\"value\"><span class=\"objectBox objectBox-string\">\"eyllanesc\"</span></span></td></tr><tr id=\"/author_list/107\" role=\"treeitem\" aria-level=\"2\" aria-selected=\"false\" class=\"treeRow stringRow opened\"><td class=\"treeLabelCell\" style=\"--tree-label-cell-indent:16px;\" role=\"presentation\"><span class=\"treeIcon open\" role=\"presentation\"></span><span class=\"treeLabel stringLabel\" aria-labelledby=\"default\" data-level=\"1\">107</span></td><td class=\"treeValueCell stringCell\" role=\"presentation\"><span aria-labelledby=\"value\"><span class=\"objectBox objectBox-string\">\"Air Stalk3r\"</span></span></td></tr><tr id=\"/author_list/108\" role=\"treeitem\" aria-level=\"2\" aria-selected=\"false\" class=\"treeRow stringRow opened\"><td class=\"treeLabelCell\" style=\"--tree-label-cell-indent:16px;\" role=\"presentation\"><span class=\"treeIcon open\" role=\"presentation\"></span><span class=\"treeLabel stringLabel\" aria-labelledby=\"default\" data-level=\"1\">108</span></td><td class=\"treeValueCell stringCell\" role=\"presentation\"><span aria-labelledby=\"value\"><span class=\"objectBox objectBox-string\">\"Trenton McKinney\"</span></span></td></tr><tr id=\"/author_list/109\" role=\"treeitem\" aria-level=\"2\" aria-selected=\"false\" class=\"treeRow stringRow opened\"><td class=\"treeLabelCell\" style=\"--tree-label-cell-indent:16px;\" role=\"presentation\"><span class=\"treeIcon open\" role=\"presentation\"></span><span class=\"treeLabel stringLabel\" aria-labelledby=\"default\" data-level=\"1\">109</span></td><td class=\"treeValueCell stringCell\" role=\"presentation\"><span aria-labelledby=\"value\"><span class=\"objectBox objectBox-string\">\"martineau\"</span></span></td></tr><tr id=\"/author_list/110\" role=\"treeitem\" aria-level=\"2\" aria-selected=\"false\" class=\"treeRow stringRow opened\"><td class=\"treeLabelCell\" style=\"--tree-label-cell-indent:16px;\" role=\"presentation\"><span class=\"treeIcon open\" role=\"presentation\"></span><span class=\"treeLabel stringLabel\" aria-labelledby=\"default\" data-level=\"1\">110</span></td><td class=\"treeValueCell stringCell\" role=\"presentation\"><span aria-labelledby=\"value\"><span class=\"objectBox objectBox-string\">\"Joey Ashcroft\"</span></span></td></tr><tr id=\"/author_list/111\" role=\"treeitem\" aria-level=\"2\" aria-selected=\"false\" class=\"treeRow stringRow opened\"><td class=\"treeLabelCell\" style=\"--tree-label-cell-indent:16px;\" role=\"presentation\"><span class=\"treeIcon open\" role=\"presentation\"></span><span class=\"treeLabel stringLabel\" aria-labelledby=\"default\" data-level=\"1\">111</span></td><td class=\"treeValueCell stringCell\" role=\"presentation\"><span aria-labelledby=\"value\"><span class=\"objectBox objectBox-string\">\"Andy\"</span></span></td></tr><tr id=\"/author_list/112\" role=\"treeitem\" aria-level=\"2\" aria-selected=\"false\" class=\"treeRow stringRow opened\"><td class=\"treeLabelCell\" style=\"--tree-label-cell-indent:16px;\" role=\"presentation\"><span class=\"treeIcon open\" role=\"presentation\"></span><span class=\"treeLabel stringLabel\" aria-labelledby=\"default\" data-level=\"1\">112</span></td><td class=\"treeValueCell stringCell\" role=\"presentation\"><span aria-labelledby=\"value\"><span class=\"objectBox objectBox-string\">\"Jordan Ford\"</span></span></td></tr><tr id=\"/author_list/113\" role=\"treeitem\" aria-level=\"2\" aria-selected=\"false\" class=\"treeRow stringRow opened\"><td class=\"treeLabelCell\" style=\"--tree-label-cell-indent:16px;\" role=\"presentation\"><span class=\"treeIcon open\" role=\"presentation\"></span><span class=\"treeLabel stringLabel\" aria-labelledby=\"default\" data-level=\"1\">113</span></td><td class=\"treeValueCell stringCell\" role=\"presentation\"><span aria-labelledby=\"value\"><span class=\"objectBox objectBox-string\">\"Ashlyn Roice\"</span></span></td></tr><tr id=\"/author_list/114\" role=\"treeitem\" aria-level=\"2\" aria-selected=\"false\" class=\"treeRow stringRow opened\"><td class=\"treeLabelCell\" style=\"--tree-label-cell-indent:16px;\" role=\"presentation\"><span class=\"treeIcon open\" role=\"presentation\"></span><span class=\"treeLabel stringLabel\" aria-labelledby=\"default\" data-level=\"1\">114</span></td><td class=\"treeValueCell stringCell\" role=\"presentation\"><span aria-labelledby=\"value\"><span class=\"objectBox objectBox-string\">\"supercool\"</span></span></td></tr><tr id=\"/author_list/115\" role=\"treeitem\" aria-level=\"2\" aria-selected=\"false\" class=\"treeRow stringRow opened\"><td class=\"treeLabelCell\" style=\"--tree-label-cell-indent:16px;\" role=\"presentation\"><span class=\"treeIcon open\" role=\"presentation\"></span><span class=\"treeLabel stringLabel\" aria-labelledby=\"default\" data-level=\"1\">115</span></td><td class=\"treeValueCell stringCell\" role=\"presentation\"><span aria-labelledby=\"value\"><span class=\"objectBox objectBox-string\">\"Merakel\"</span></span></td></tr><tr id=\"/author_list/116\" role=\"treeitem\" aria-level=\"2\" aria-selected=\"false\" class=\"treeRow stringRow opened\"><td class=\"treeLabelCell\" style=\"--tree-label-cell-indent:16px;\" role=\"presentation\"><span class=\"treeIcon open\" role=\"presentation\"></span><span class=\"treeLabel stringLabel\" aria-labelledby=\"default\" data-level=\"1\">116</span></td><td class=\"treeValueCell stringCell\" role=\"presentation\"><span aria-labelledby=\"value\"><span class=\"objectBox objectBox-string\">\"martineau\"</span></span></td></tr><tr id=\"/author_list/117\" role=\"treeitem\" aria-level=\"2\" aria-selected=\"false\" class=\"treeRow stringRow opened\"><td class=\"treeLabelCell\" style=\"--tree-label-cell-indent:16px;\" role=\"presentation\"><span class=\"treeIcon open\" role=\"presentation\"></span><span class=\"treeLabel stringLabel\" aria-labelledby=\"default\" data-level=\"1\">117</span></td><td class=\"treeValueCell stringCell\" role=\"presentation\"><span aria-labelledby=\"value\"><span class=\"objectBox objectBox-string\">\"Anshul Verma\"</span></span></td></tr><tr id=\"/author_list/118\" role=\"treeitem\" aria-level=\"2\" aria-selected=\"false\" class=\"treeRow stringRow opened\"><td class=\"treeLabelCell\" style=\"--tree-label-cell-indent:16px;\" role=\"presentation\"><span class=\"treeIcon open\" role=\"presentation\"></span><span class=\"treeLabel stringLabel\" aria-labelledby=\"default\" data-level=\"1\">118</span></td><td class=\"treeValueCell stringCell\" role=\"presentation\"><span aria-labelledby=\"value\"><span class=\"objectBox objectBox-string\">\"basilisk\"</span></span></td></tr><tr id=\"/author_list/119\" role=\"treeitem\" aria-level=\"2\" aria-selected=\"false\" class=\"treeRow stringRow opened\"><td class=\"treeLabelCell\" style=\"--tree-label-cell-indent:16px;\" role=\"presentation\"><span class=\"treeIcon open\" role=\"presentation\"></span><span class=\"treeLabel stringLabel\" aria-labelledby=\"default\" data-level=\"1\">119</span></td><td class=\"treeValueCell stringCell\" role=\"presentation\"><span aria-labelledby=\"value\"><span class=\"objectBox objectBox-string\">\"curlypie99\"</span></span></td></tr><tr id=\"/author_list/120\" role=\"treeitem\" aria-level=\"2\" aria-selected=\"false\" class=\"treeRow stringRow opened\"><td class=\"treeLabelCell\" style=\"--tree-label-cell-indent:16px;\" role=\"presentation\"><span class=\"treeIcon open\" role=\"presentation\"></span><span class=\"treeLabel stringLabel\" aria-labelledby=\"default\" data-level=\"1\">120</span></td><td class=\"treeValueCell stringCell\" role=\"presentation\"><span aria-labelledby=\"value\"><span class=\"objectBox objectBox-string\">\"Steel\"</span></span></td></tr><tr id=\"/author_list/121\" role=\"treeitem\" aria-level=\"2\" aria-selected=\"false\" class=\"treeRow stringRow opened\"><td class=\"treeLabelCell\" style=\"--tree-label-cell-indent:16px;\" role=\"presentation\"><span class=\"treeIcon open\" role=\"presentation\"></span><span class=\"treeLabel stringLabel\" aria-labelledby=\"default\" data-level=\"1\">121</span></td><td class=\"treeValueCell stringCell\" role=\"presentation\"><span aria-labelledby=\"value\"><span class=\"objectBox objectBox-string\">\"Mykola Zotko\"</span></span></td></tr><tr id=\"/author_list/122\" role=\"treeitem\" aria-level=\"2\" aria-selected=\"false\" class=\"treeRow stringRow opened\"><td class=\"treeLabelCell\" style=\"--tree-label-cell-indent:16px;\" role=\"presentation\"><span class=\"treeIcon open\" role=\"presentation\"></span><span class=\"treeLabel stringLabel\" aria-labelledby=\"default\" data-level=\"1\">122</span></td><td class=\"treeValueCell stringCell\" role=\"presentation\"><span aria-labelledby=\"value\"><span class=\"objectBox objectBox-string\">\"User2020\"</span></span></td></tr><tr id=\"/author_list/123\" role=\"treeitem\" aria-level=\"2\" aria-selected=\"false\" class=\"treeRow stringRow opened\"><td class=\"treeLabelCell\" style=\"--tree-label-cell-indent:16px;\" role=\"presentation\"><span class=\"treeIcon open\" role=\"presentation\"></span><span class=\"treeLabel stringLabel\" aria-labelledby=\"default\" data-level=\"1\">123</span></td><td class=\"treeValueCell stringCell\" role=\"presentation\"><span aria-labelledby=\"value\"><span class=\"objectBox objectBox-string\">\"M-Chen-3\"</span></span></td></tr><tr id=\"/author_list/124\" role=\"treeitem\" aria-level=\"2\" aria-selected=\"false\" class=\"treeRow stringRow opened\"><td class=\"treeLabelCell\" style=\"--tree-label-cell-indent:16px;\" role=\"presentation\"><span class=\"treeIcon open\" role=\"presentation\"></span><span class=\"treeLabel stringLabel\" aria-labelledby=\"default\" data-level=\"1\">124</span></td><td class=\"treeValueCell stringCell\" role=\"presentation\"><span aria-labelledby=\"value\"><span class=\"objectBox objectBox-string\">\"Null Pointer\"</span></span></td></tr><tr id=\"/author_list/125\" role=\"treeitem\" aria-level=\"2\" aria-selected=\"false\" class=\"treeRow stringRow opened\"><td class=\"treeLabelCell\" style=\"--tree-label-cell-indent:16px;\" role=\"presentation\"><span class=\"treeIcon open\" role=\"presentation\"></span><span class=\"treeLabel stringLabel\" aria-labelledby=\"default\" data-level=\"1\">125</span></td><td class=\"treeValueCell stringCell\" role=\"presentation\"><span aria-labelledby=\"value\"><span class=\"objectBox objectBox-string\">\"hmit\"</span></span></td></tr><tr id=\"/author_list/126\" role=\"treeitem\" aria-level=\"2\" aria-selected=\"false\" class=\"treeRow stringRow opened\"><td class=\"treeLabelCell\" style=\"--tree-label-cell-indent:16px;\" role=\"presentation\"><span class=\"treeIcon open\" role=\"presentation\"></span><span class=\"treeLabel stringLabel\" aria-labelledby=\"default\" data-level=\"1\">126</span></td><td class=\"treeValueCell stringCell\" role=\"presentation\"><span aria-labelledby=\"value\"><span class=\"objectBox objectBox-string\">\"martineau\"</span></span></td></tr><tr id=\"/author_list/127\" role=\"treeitem\" aria-level=\"2\" aria-selected=\"false\" class=\"treeRow stringRow opened\"><td class=\"treeLabelCell\" style=\"--tree-label-cell-indent:16px;\" role=\"presentation\"><span class=\"treeIcon open\" role=\"presentation\"></span><span class=\"treeLabel stringLabel\" aria-labelledby=\"default\" data-level=\"1\">127</span></td><td class=\"treeValueCell stringCell\" role=\"presentation\"><span aria-labelledby=\"value\"><span class=\"objectBox objectBox-string\">\"DebanjanB\"</span></span></td></tr><tr id=\"/author_list/128\" role=\"treeitem\" aria-level=\"2\" aria-selected=\"false\" class=\"treeRow stringRow opened\"><td class=\"treeLabelCell\" style=\"--tree-label-cell-indent:16px;\" role=\"presentation\"><span class=\"treeIcon open\" role=\"presentation\"></span><span class=\"treeLabel stringLabel\" aria-labelledby=\"default\" data-level=\"1\">128</span></td><td class=\"treeValueCell stringCell\" role=\"presentation\"><span aria-labelledby=\"value\"><span class=\"objectBox objectBox-string\">\"Sidali Smaili\"</span></span></td></tr><tr id=\"/author_list/129\" role=\"treeitem\" aria-level=\"2\" aria-selected=\"false\" class=\"treeRow stringRow opened\"><td class=\"treeLabelCell\" style=\"--tree-label-cell-indent:16px;\" role=\"presentation\"><span class=\"treeIcon open\" role=\"presentation\"></span><span class=\"treeLabel stringLabel\" aria-labelledby=\"default\" data-level=\"1\">129</span></td><td class=\"treeValueCell stringCell\" role=\"presentation\"><span aria-labelledby=\"value\"><span class=\"objectBox objectBox-string\">\"jonrsharpe\"</span></span></td></tr><tr id=\"/author_list/130\" role=\"treeitem\" aria-level=\"2\" aria-selected=\"false\" class=\"treeRow stringRow opened\"><td class=\"treeLabelCell\" style=\"--tree-label-cell-indent:16px;\" role=\"presentation\"><span class=\"treeIcon open\" role=\"presentation\"></span><span class=\"treeLabel stringLabel\" aria-labelledby=\"default\" data-level=\"1\">130</span></td><td class=\"treeValueCell stringCell\" role=\"presentation\"><span aria-labelledby=\"value\"><span class=\"objectBox objectBox-string\">\"Gauthier Buttez\"</span></span></td></tr><tr id=\"/author_list/131\" role=\"treeitem\" aria-level=\"2\" aria-selected=\"false\" class=\"treeRow stringRow opened\"><td class=\"treeLabelCell\" style=\"--tree-label-cell-indent:16px;\" role=\"presentation\"><span class=\"treeIcon open\" role=\"presentation\"></span><span class=\"treeLabel stringLabel\" aria-labelledby=\"default\" data-level=\"1\">131</span></td><td class=\"treeValueCell stringCell\" role=\"presentation\"><span aria-labelledby=\"value\"><span class=\"objectBox objectBox-string\">\"Emi-N-M\"</span></span></td></tr><tr id=\"/author_list/132\" role=\"treeitem\" aria-level=\"2\" aria-selected=\"false\" class=\"treeRow stringRow opened\"><td class=\"treeLabelCell\" style=\"--tree-label-cell-indent:16px;\" role=\"presentation\"><span class=\"treeIcon open\" role=\"presentation\"></span><span class=\"treeLabel stringLabel\" aria-labelledby=\"default\" data-level=\"1\">132</span></td><td class=\"treeValueCell stringCell\" role=\"presentation\"><span aria-labelledby=\"value\"><span class=\"objectBox objectBox-string\">\"martineau\"</span></span></td></tr><tr id=\"/author_list/133\" role=\"treeitem\" aria-level=\"2\" aria-selected=\"false\" class=\"treeRow stringRow opened\"><td class=\"treeLabelCell\" style=\"--tree-label-cell-indent:16px;\" role=\"presentation\"><span class=\"treeIcon open\" role=\"presentation\"></span><span class=\"treeLabel stringLabel\" aria-labelledby=\"default\" data-level=\"1\">133</span></td><td class=\"treeValueCell stringCell\" role=\"presentation\"><span aria-labelledby=\"value\"><span class=\"objectBox objectBox-string\">\"Eric Shingleton-Smith\"</span></span></td></tr><tr id=\"/author_list/134\" role=\"treeitem\" aria-level=\"2\" aria-selected=\"false\" class=\"treeRow stringRow opened\"><td class=\"treeLabelCell\" style=\"--tree-label-cell-indent:16px;\" role=\"presentation\"><span class=\"treeIcon open\" role=\"presentation\"></span><span class=\"treeLabel stringLabel\" aria-labelledby=\"default\" data-level=\"1\">134</span></td><td class=\"treeValueCell stringCell\" role=\"presentation\"><span aria-labelledby=\"value\"><span class=\"objectBox objectBox-string\">\"super_ask\"</span></span></td></tr><tr id=\"/author_list/135\" role=\"treeitem\" aria-level=\"2\" aria-selected=\"false\" class=\"treeRow stringRow opened\"><td class=\"treeLabelCell\" style=\"--tree-label-cell-indent:16px;\" role=\"presentation\"><span class=\"treeIcon open\" role=\"presentation\"></span><span class=\"treeLabel stringLabel\" aria-labelledby=\"default\" data-level=\"1\">135</span></td><td class=\"treeValueCell stringCell\" role=\"presentation\"><span aria-labelledby=\"value\"><span class=\"objectBox objectBox-string\">\"Ratnapal Shende\"</span></span></td></tr><tr id=\"/author_list/136\" role=\"treeitem\" aria-level=\"2\" aria-selected=\"false\" class=\"treeRow stringRow opened\"><td class=\"treeLabelCell\" style=\"--tree-label-cell-indent:16px;\" role=\"presentation\"><span class=\"treeIcon open\" role=\"presentation\"></span><span class=\"treeLabel stringLabel\" aria-labelledby=\"default\" data-level=\"1\">136</span></td><td class=\"treeValueCell stringCell\" role=\"presentation\"><span aria-labelledby=\"value\"><span class=\"objectBox objectBox-string\">\"F0urAt\"</span></span></td></tr><tr id=\"/author_list/137\" role=\"treeitem\" aria-level=\"2\" aria-selected=\"false\" class=\"treeRow stringRow opened\"><td class=\"treeLabelCell\" style=\"--tree-label-cell-indent:16px;\" role=\"presentation\"><span class=\"treeIcon open\" role=\"presentation\"></span><span class=\"treeLabel stringLabel\" aria-labelledby=\"default\" data-level=\"1\">137</span></td><td class=\"treeValueCell stringCell\" role=\"presentation\"><span aria-labelledby=\"value\"><span class=\"objectBox objectBox-string\">\"queueofquestions\"</span></span></td></tr><tr id=\"/author_list/138\" role=\"treeitem\" aria-level=\"2\" aria-selected=\"false\" class=\"treeRow stringRow opened\"><td class=\"treeLabelCell\" style=\"--tree-label-cell-indent:16px;\" role=\"presentation\"><span class=\"treeIcon open\" role=\"presentation\"></span><span class=\"treeLabel stringLabel\" aria-labelledby=\"default\" data-level=\"1\">138</span></td><td class=\"treeValueCell stringCell\" role=\"presentation\"><span aria-labelledby=\"value\"><span class=\"objectBox objectBox-string\">\"June\"</span></span></td></tr><tr id=\"/author_list/139\" role=\"treeitem\" aria-level=\"2\" aria-selected=\"false\" class=\"treeRow stringRow opened\"><td class=\"treeLabelCell\" style=\"--tree-label-cell-indent:16px;\" role=\"presentation\"><span class=\"treeIcon open\" role=\"presentation\"></span><span class=\"treeLabel stringLabel\" aria-labelledby=\"default\" data-level=\"1\">139</span></td><td class=\"treeValueCell stringCell\" role=\"presentation\"><span aria-labelledby=\"value\"><span class=\"objectBox objectBox-string\">\"Mark Wekking\"</span></span></td></tr><tr id=\"/author_list/140\" role=\"treeitem\" aria-level=\"2\" aria-selected=\"false\" class=\"treeRow stringRow opened\"><td class=\"treeLabelCell\" style=\"--tree-label-cell-indent:16px;\" role=\"presentation\"><span class=\"treeIcon open\" role=\"presentation\"></span><span class=\"treeLabel stringLabel\" aria-labelledby=\"default\" data-level=\"1\">140</span></td><td class=\"treeValueCell stringCell\" role=\"presentation\"><span aria-labelledby=\"value\"><span class=\"objectBox objectBox-string\">\"Taguar 258\"</span></span></td></tr><tr id=\"/author_list/141\" role=\"treeitem\" aria-level=\"2\" aria-selected=\"false\" class=\"treeRow stringRow opened\"><td class=\"treeLabelCell\" style=\"--tree-label-cell-indent:16px;\" role=\"presentation\"><span class=\"treeIcon open\" role=\"presentation\"></span><span class=\"treeLabel stringLabel\" aria-labelledby=\"default\" data-level=\"1\">141</span></td><td class=\"treeValueCell stringCell\" role=\"presentation\"><span aria-labelledby=\"value\"><span class=\"objectBox objectBox-string\">\"Zmrzka\"</span></span></td></tr><tr id=\"/author_list/142\" role=\"treeitem\" aria-level=\"2\" aria-selected=\"false\" class=\"treeRow stringRow opened\"><td class=\"treeLabelCell\" style=\"--tree-label-cell-indent:16px;\" role=\"presentation\"><span class=\"treeIcon open\" role=\"presentation\"></span><span class=\"treeLabel stringLabel\" aria-labelledby=\"default\" data-level=\"1\">142</span></td><td class=\"treeValueCell stringCell\" role=\"presentation\"><span aria-labelledby=\"value\"><span class=\"objectBox objectBox-string\">\"Inkblot\"</span></span></td></tr><tr id=\"/author_list/143\" role=\"treeitem\" aria-level=\"2\" aria-selected=\"false\" class=\"treeRow stringRow opened\"><td class=\"treeLabelCell\" style=\"--tree-label-cell-indent:16px;\" role=\"presentation\"><span class=\"treeIcon open\" role=\"presentation\"></span><span class=\"treeLabel stringLabel\" aria-labelledby=\"default\" data-level=\"1\">143</span></td><td class=\"treeValueCell stringCell\" role=\"presentation\"><span aria-labelledby=\"value\"><span class=\"objectBox objectBox-string\">\"John\"</span></span></td></tr><tr id=\"/author_list/144\" role=\"treeitem\" aria-level=\"2\" aria-selected=\"false\" class=\"treeRow stringRow opened\"><td class=\"treeLabelCell\" style=\"--tree-label-cell-indent:16px;\" role=\"presentation\"><span class=\"treeIcon open\" role=\"presentation\"></span><span class=\"treeLabel stringLabel\" aria-labelledby=\"default\" data-level=\"1\">144</span></td><td class=\"treeValueCell stringCell\" role=\"presentation\"><span aria-labelledby=\"value\"><span class=\"objectBox objectBox-string\">\"Hercislife\"</span></span></td></tr><tr id=\"/author_list/145\" role=\"treeitem\" aria-level=\"2\" aria-selected=\"false\" class=\"treeRow stringRow opened\"><td class=\"treeLabelCell\" style=\"--tree-label-cell-indent:16px;\" role=\"presentation\"><span class=\"treeIcon open\" role=\"presentation\"></span><span class=\"treeLabel stringLabel\" aria-labelledby=\"default\" data-level=\"1\">145</span></td><td class=\"treeValueCell stringCell\" role=\"presentation\"><span aria-labelledby=\"value\"><span class=\"objectBox objectBox-string\">\"SydV\"</span></span></td></tr><tr id=\"/author_list/146\" role=\"treeitem\" aria-level=\"2\" aria-selected=\"false\" class=\"treeRow stringRow opened\"><td class=\"treeLabelCell\" style=\"--tree-label-cell-indent:16px;\" role=\"presentation\"><span class=\"treeIcon open\" role=\"presentation\"></span><span class=\"treeLabel stringLabel\" aria-labelledby=\"default\" data-level=\"1\">146</span></td><td class=\"treeValueCell stringCell\" role=\"presentation\"><span aria-labelledby=\"value\"><span class=\"objectBox objectBox-string\">\"kaktus_car\"</span></span></td></tr><tr id=\"/author_list/147\" role=\"treeitem\" aria-level=\"2\" aria-selected=\"false\" class=\"treeRow stringRow opened\"><td class=\"treeLabelCell\" style=\"--tree-label-cell-indent:16px;\" role=\"presentation\"><span class=\"treeIcon open\" role=\"presentation\"></span><span class=\"treeLabel stringLabel\" aria-labelledby=\"default\" data-level=\"1\">147</span></td><td class=\"treeValueCell stringCell\" role=\"presentation\"><span aria-labelledby=\"value\"><span class=\"objectBox objectBox-string\">\"grafeno30\"</span></span></td></tr><tr id=\"/author_list/148\" role=\"treeitem\" aria-level=\"2\" aria-selected=\"false\" class=\"treeRow stringRow opened\"><td class=\"treeLabelCell\" style=\"--tree-label-cell-indent:16px;\" role=\"presentation\"><span class=\"treeIcon open\" role=\"presentation\"></span><span class=\"treeLabel stringLabel\" aria-labelledby=\"default\" data-level=\"1\">148</span></td><td class=\"treeValueCell stringCell\" role=\"presentation\"><span aria-labelledby=\"value\"><span class=\"objectBox objectBox-string\">\"holamynameisbob6\"</span></span></td></tr><tr id=\"/author_list/149\" role=\"treeitem\" aria-level=\"2\" aria-selected=\"false\" class=\"treeRow stringRow opened\"><td class=\"treeLabelCell\" style=\"--tree-label-cell-indent:16px;\" role=\"presentation\"><span class=\"treeIcon open\" role=\"presentation\"></span><span class=\"treeLabel stringLabel\" aria-labelledby=\"default\" data-level=\"1\">149</span></td><td class=\"treeValueCell stringCell\" role=\"presentation\"><span aria-labelledby=\"value\"><span class=\"objectBox objectBox-string\">\"suresh hp\"</span></span></td></tr></tbody></table></div></div></div></div><div id=\"rawdata-panel\" style=\"visibility: hidden; height: 0px;\" class=\"tab-panel-box hidden\" role=\"tabpanel\" aria-labelledby=\"rawdata-tab\"></div><div id=\"headers-panel\" style=\"visibility: hidden; height: 0px;\" class=\"tab-panel-box hidden\" role=\"tabpanel\" aria-labelledby=\"headers-tab\"></div></div></div></div><script src=\"resource://devtools-client-jsonview/lib/require.js\" data-main=\"resource://devtools-client-jsonview/viewer-config.js\"></script></body></html>'"
      ]
     },
     "execution_count": 20,
     "metadata": {},
     "output_type": "execute_result"
    }
   ],
   "source": [
    "source"
   ]
  },
  {
   "cell_type": "code",
   "execution_count": 16,
   "metadata": {},
   "outputs": [],
   "source": [
    "page6 = Selector(source)"
   ]
  },
  {
   "cell_type": "code",
   "execution_count": 24,
   "metadata": {},
   "outputs": [],
   "source": [
    "import json"
   ]
  },
  {
   "cell_type": "code",
   "execution_count": 26,
   "metadata": {},
   "outputs": [
    {
     "data": {
      "text/plain": [
       "['JSON',\n",
       " 'Raw Data',\n",
       " 'Headers',\n",
       " 'Save',\n",
       " 'Copy',\n",
       " 'Collapse All',\n",
       " 'Expand All',\n",
       " 'author_list',\n",
       " '0',\n",
       " '\"zaraa s\"',\n",
       " '1',\n",
       " '\"CCCCos\"',\n",
       " '2',\n",
       " '\"TensorFrozen\"',\n",
       " '3',\n",
       " '\"victorcd\"',\n",
       " '4',\n",
       " '\"abhinav\"',\n",
       " '5',\n",
       " '\"Carlos\"',\n",
       " '6',\n",
       " '\"Haztec\"',\n",
       " '7',\n",
       " '\"JohanC\"',\n",
       " '8',\n",
       " '\"Ing\"',\n",
       " '9',\n",
       " '\"Vinay\"',\n",
       " '10',\n",
       " '\"Techy Savage\"',\n",
       " '11',\n",
       " '\"user12195705\"',\n",
       " '12',\n",
       " '\"Carlos\"',\n",
       " '13',\n",
       " '\"Carlos\"',\n",
       " '14',\n",
       " '\"Kevin Su\"',\n",
       " '15',\n",
       " '\"Pedro Pablo Severin Honorato\"',\n",
       " '16',\n",
       " '\"Djerun\"',\n",
       " '17',\n",
       " '\"FreedomToWin\"',\n",
       " '18',\n",
       " '\"Mykl\"',\n",
       " '19',\n",
       " '\"Mobeus Zoom\"',\n",
       " '20',\n",
       " '\"Ramit Dour\"',\n",
       " '21',\n",
       " '\"Barmar\"',\n",
       " '22',\n",
       " '\"wizer_102\"',\n",
       " '23',\n",
       " '\"Sreejan Das\"',\n",
       " '24',\n",
       " '\"user13751020\"',\n",
       " '25',\n",
       " '\"mkrieger1\"',\n",
       " '26',\n",
       " '\"Viktor Oláh\"',\n",
       " '27',\n",
       " '\"asieglin\"',\n",
       " '28',\n",
       " '\"cesarteaser\"',\n",
       " '29',\n",
       " '\"daisy\"',\n",
       " '30',\n",
       " '\"SimonZen\"',\n",
       " '31',\n",
       " '\"Ceadeus\"',\n",
       " '32',\n",
       " '\"Ke Feng\"',\n",
       " '33',\n",
       " '\"Jeff Boker\"',\n",
       " '34',\n",
       " '\"user58008\"',\n",
       " '35',\n",
       " '\"albertoivo\"',\n",
       " '36',\n",
       " '\"Ignacio Correa\"',\n",
       " '37',\n",
       " '\"Ada\"',\n",
       " '38',\n",
       " '\"Smasher640\"',\n",
       " '39',\n",
       " '\"sktguha\"',\n",
       " '40',\n",
       " '\"Prasun Kumar Khan\"',\n",
       " '41',\n",
       " '\"Ray Bell\"',\n",
       " '42',\n",
       " '\"Gunter Herd\"',\n",
       " '43',\n",
       " '\"olive007\"',\n",
       " '44',\n",
       " '\"Joao  Vitorino\"',\n",
       " '45',\n",
       " '\"augcarv\"',\n",
       " '46',\n",
       " '\"silverwrath\"',\n",
       " '47',\n",
       " '\"Astrian_72954\"',\n",
       " '48',\n",
       " '\"J. Doe\"',\n",
       " '49',\n",
       " '\"Jase\"',\n",
       " '50',\n",
       " '\"Vinícius Alves\"',\n",
       " '51',\n",
       " '\"Ross Symonds\"',\n",
       " '52',\n",
       " '\"Elcid_91\"',\n",
       " '53',\n",
       " '\"Math Noob\"',\n",
       " '54',\n",
       " '\"Pranil\"',\n",
       " '55',\n",
       " '\"Chan\"',\n",
       " '56',\n",
       " '\"Mega Players\"',\n",
       " '57',\n",
       " '\"Johnny_Mali39\"',\n",
       " '58',\n",
       " '\"ezgi\"',\n",
       " '59',\n",
       " '\"questions\"',\n",
       " '60',\n",
       " '\"Mig B\"',\n",
       " '61',\n",
       " '\"Divyessh\"',\n",
       " '62',\n",
       " '\"dani\"',\n",
       " '63',\n",
       " '\"Ahmet Tavli\"',\n",
       " '64',\n",
       " '\"Wes Tomer\"',\n",
       " '65',\n",
       " '\"Suman NayOo\"',\n",
       " '66',\n",
       " '\"Rafael Higa\"',\n",
       " '67',\n",
       " '\"Ryabchenko Alexander\"',\n",
       " '68',\n",
       " '\"develarist\"',\n",
       " '69',\n",
       " '\"David Owens\"',\n",
       " '70',\n",
       " '\"Jack R-G\"',\n",
       " '71',\n",
       " '\"Bharath\"',\n",
       " '72',\n",
       " '\"Ooo\"',\n",
       " '73',\n",
       " '\"BookishWolf\"',\n",
       " '74',\n",
       " '\"AlexS1\"',\n",
       " '75',\n",
       " '\"Sandeep Kadapa\"',\n",
       " '76',\n",
       " '\"GetRektOrElse\"',\n",
       " '77',\n",
       " '\"orie\"',\n",
       " '78',\n",
       " '\"witiw25151\"',\n",
       " '79',\n",
       " '\"user14049704\"',\n",
       " '80',\n",
       " '\"Prabal Mukherjee\"',\n",
       " '81',\n",
       " '\"carciofinospinoso\"',\n",
       " '82',\n",
       " '\"vis10\"',\n",
       " '83',\n",
       " '\"ole\"',\n",
       " '84',\n",
       " '\"Patrick Parker\"',\n",
       " '85',\n",
       " '\"Josh Fontaine\"',\n",
       " '86',\n",
       " '\"calypso\"',\n",
       " '87',\n",
       " '\"blockhead\"',\n",
       " '88',\n",
       " '\"martineau\"',\n",
       " '89',\n",
       " '\"martineau\"',\n",
       " '90',\n",
       " '\"Sam Dillard\"',\n",
       " '91',\n",
       " '\"SOM Tube\"',\n",
       " '92',\n",
       " '\"Eddie McGolrick\"',\n",
       " '93',\n",
       " '\"Kalindu Prabash\"',\n",
       " '94',\n",
       " '\"Tewfik\"',\n",
       " '95',\n",
       " '\"FNTE\"',\n",
       " '96',\n",
       " '\"Asocia\"',\n",
       " '97',\n",
       " '\"Gauthier Buttez\"',\n",
       " '98',\n",
       " '\"Mostafa Ghadimi\"',\n",
       " '99',\n",
       " '\"user3847934\"',\n",
       " '100',\n",
       " '\"DebanjanB\"',\n",
       " '101',\n",
       " '\"Jonathan\"',\n",
       " '102',\n",
       " '\"deadshot\"',\n",
       " '103',\n",
       " '\"Sascha\"',\n",
       " '104',\n",
       " '\"Supergamer5465\"',\n",
       " '105',\n",
       " '\"Sjcarlso\"',\n",
       " '106',\n",
       " '\"eyllanesc\"',\n",
       " '107',\n",
       " '\"Air Stalk3r\"',\n",
       " '108',\n",
       " '\"Trenton McKinney\"',\n",
       " '109',\n",
       " '\"martineau\"',\n",
       " '110',\n",
       " '\"Joey Ashcroft\"',\n",
       " '111',\n",
       " '\"Andy\"',\n",
       " '112',\n",
       " '\"Jordan Ford\"',\n",
       " '113',\n",
       " '\"Ashlyn Roice\"',\n",
       " '114',\n",
       " '\"supercool\"',\n",
       " '115',\n",
       " '\"Merakel\"',\n",
       " '116',\n",
       " '\"martineau\"',\n",
       " '117',\n",
       " '\"Anshul Verma\"',\n",
       " '118',\n",
       " '\"basilisk\"',\n",
       " '119',\n",
       " '\"curlypie99\"',\n",
       " '120',\n",
       " '\"Steel\"',\n",
       " '121',\n",
       " '\"Mykola Zotko\"',\n",
       " '122',\n",
       " '\"User2020\"',\n",
       " '123',\n",
       " '\"M-Chen-3\"',\n",
       " '124',\n",
       " '\"Null Pointer\"',\n",
       " '125',\n",
       " '\"hmit\"',\n",
       " '126',\n",
       " '\"martineau\"',\n",
       " '127',\n",
       " '\"DebanjanB\"',\n",
       " '128',\n",
       " '\"Sidali Smaili\"',\n",
       " '129',\n",
       " '\"jonrsharpe\"',\n",
       " '130',\n",
       " '\"Gauthier Buttez\"',\n",
       " '131',\n",
       " '\"Emi-N-M\"',\n",
       " '132',\n",
       " '\"martineau\"',\n",
       " '133',\n",
       " '\"Eric Shingleton-Smith\"',\n",
       " '134',\n",
       " '\"super_ask\"',\n",
       " '135',\n",
       " '\"Ratnapal Shende\"',\n",
       " '136',\n",
       " '\"F0urAt\"',\n",
       " '137',\n",
       " '\"queueofquestions\"',\n",
       " '138',\n",
       " '\"June\"',\n",
       " '139',\n",
       " '\"Mark Wekking\"',\n",
       " '140',\n",
       " '\"Taguar 258\"',\n",
       " '141',\n",
       " '\"Zmrzka\"',\n",
       " '142',\n",
       " '\"Inkblot\"',\n",
       " '143',\n",
       " '\"John\"',\n",
       " '144',\n",
       " '\"Hercislife\"',\n",
       " '145',\n",
       " '\"SydV\"',\n",
       " '146',\n",
       " '\"kaktus_car\"',\n",
       " '147',\n",
       " '\"grafeno30\"',\n",
       " '148',\n",
       " '\"holamynameisbob6\"',\n",
       " '149',\n",
       " '\"suresh hp\"']"
      ]
     },
     "execution_count": 26,
     "metadata": {},
     "output_type": "execute_result"
    }
   ],
   "source": [
    "page6.xpath('//body//text()')"
   ]
  },
  {
   "cell_type": "code",
   "execution_count": 29,
   "metadata": {},
   "outputs": [
    {
     "ename": "AttributeError",
     "evalue": "'str' object has no attribute 'read'",
     "output_type": "error",
     "traceback": [
      "\u001b[0;31m---------------------------------------------------------------------------\u001b[0m",
      "\u001b[0;31mAttributeError\u001b[0m                            Traceback (most recent call last)",
      "\u001b[0;32m<ipython-input-29-0ca5fc5d0191>\u001b[0m in \u001b[0;36m<module>\u001b[0;34m\u001b[0m\n\u001b[0;32m----> 1\u001b[0;31m \u001b[0mjson\u001b[0m\u001b[0;34m.\u001b[0m\u001b[0mload\u001b[0m\u001b[0;34m(\u001b[0m\u001b[0mpage6\u001b[0m\u001b[0;34m.\u001b[0m\u001b[0mxpath\u001b[0m\u001b[0;34m(\u001b[0m\u001b[0;34m'//body//text()'\u001b[0m\u001b[0;34m)\u001b[0m\u001b[0;34m.\u001b[0m\u001b[0mget\u001b[0m\u001b[0;34m(\u001b[0m\u001b[0;34m)\u001b[0m\u001b[0;34m)\u001b[0m\u001b[0;34m\u001b[0m\u001b[0;34m\u001b[0m\u001b[0m\n\u001b[0m",
      "\u001b[0;32m~/anaconda3/lib/python3.7/json/__init__.py\u001b[0m in \u001b[0;36mload\u001b[0;34m(fp, cls, object_hook, parse_float, parse_int, parse_constant, object_pairs_hook, **kw)\u001b[0m\n\u001b[1;32m    291\u001b[0m     \u001b[0mkwarg\u001b[0m\u001b[0;34m;\u001b[0m \u001b[0motherwise\u001b[0m\u001b[0;31m \u001b[0m\u001b[0;31m`\u001b[0m\u001b[0;31m`\u001b[0m\u001b[0mJSONDecoder\u001b[0m\u001b[0;31m`\u001b[0m\u001b[0;31m`\u001b[0m \u001b[0;32mis\u001b[0m \u001b[0mused\u001b[0m\u001b[0;34m.\u001b[0m\u001b[0;34m\u001b[0m\u001b[0;34m\u001b[0m\u001b[0m\n\u001b[1;32m    292\u001b[0m     \"\"\"\n\u001b[0;32m--> 293\u001b[0;31m     return loads(fp.read(),\n\u001b[0m\u001b[1;32m    294\u001b[0m         \u001b[0mcls\u001b[0m\u001b[0;34m=\u001b[0m\u001b[0mcls\u001b[0m\u001b[0;34m,\u001b[0m \u001b[0mobject_hook\u001b[0m\u001b[0;34m=\u001b[0m\u001b[0mobject_hook\u001b[0m\u001b[0;34m,\u001b[0m\u001b[0;34m\u001b[0m\u001b[0;34m\u001b[0m\u001b[0m\n\u001b[1;32m    295\u001b[0m         \u001b[0mparse_float\u001b[0m\u001b[0;34m=\u001b[0m\u001b[0mparse_float\u001b[0m\u001b[0;34m,\u001b[0m \u001b[0mparse_int\u001b[0m\u001b[0;34m=\u001b[0m\u001b[0mparse_int\u001b[0m\u001b[0;34m,\u001b[0m\u001b[0;34m\u001b[0m\u001b[0;34m\u001b[0m\u001b[0m\n",
      "\u001b[0;31mAttributeError\u001b[0m: 'str' object has no attribute 'read'"
     ]
    }
   ],
   "source": [
    "json.load(page6.xpath('//body//text()').get())"
   ]
  },
  {
   "cell_type": "code",
   "execution_count": 30,
   "metadata": {},
   "outputs": [],
   "source": [
    "import requests"
   ]
  },
  {
   "cell_type": "code",
   "execution_count": 32,
   "metadata": {},
   "outputs": [],
   "source": [
    "response = requests.get('http://127.0.0.1:5000/user_list')"
   ]
  },
  {
   "cell_type": "code",
   "execution_count": 37,
   "metadata": {},
   "outputs": [
    {
     "data": {
      "text/plain": [
       "{'author_list': ['zaraa s',\n",
       "  'CCCCos',\n",
       "  'TensorFrozen',\n",
       "  'victorcd',\n",
       "  'abhinav',\n",
       "  'Carlos',\n",
       "  'Haztec',\n",
       "  'JohanC',\n",
       "  'Ing',\n",
       "  'Vinay',\n",
       "  'Techy Savage',\n",
       "  'user12195705',\n",
       "  'Carlos',\n",
       "  'Carlos',\n",
       "  'Kevin Su',\n",
       "  'Pedro Pablo Severin Honorato',\n",
       "  'Djerun',\n",
       "  'FreedomToWin',\n",
       "  'Mykl',\n",
       "  'Mobeus Zoom',\n",
       "  'Ramit Dour',\n",
       "  'Barmar',\n",
       "  'wizer_102',\n",
       "  'Sreejan Das',\n",
       "  'user13751020',\n",
       "  'mkrieger1',\n",
       "  'Viktor Oláh',\n",
       "  'asieglin',\n",
       "  'cesarteaser',\n",
       "  'daisy',\n",
       "  'SimonZen',\n",
       "  'Ceadeus',\n",
       "  'Ke Feng',\n",
       "  'Jeff Boker',\n",
       "  'user58008',\n",
       "  'albertoivo',\n",
       "  'Ignacio Correa',\n",
       "  'Ada',\n",
       "  'Smasher640',\n",
       "  'sktguha',\n",
       "  'Prasun Kumar Khan',\n",
       "  'Ray Bell',\n",
       "  'Gunter Herd',\n",
       "  'olive007',\n",
       "  'Joao  Vitorino',\n",
       "  'augcarv',\n",
       "  'silverwrath',\n",
       "  'Astrian_72954',\n",
       "  'J. Doe',\n",
       "  'Jase',\n",
       "  'Vinícius Alves',\n",
       "  'Ross Symonds',\n",
       "  'Elcid_91',\n",
       "  'Math Noob',\n",
       "  'Pranil',\n",
       "  'Chan',\n",
       "  'Mega Players',\n",
       "  'Johnny_Mali39',\n",
       "  'ezgi',\n",
       "  'questions',\n",
       "  'Mig B',\n",
       "  'Divyessh',\n",
       "  'dani',\n",
       "  'Ahmet Tavli',\n",
       "  'Wes Tomer',\n",
       "  'Suman NayOo',\n",
       "  'Rafael Higa',\n",
       "  'Ryabchenko Alexander',\n",
       "  'develarist',\n",
       "  'David Owens',\n",
       "  'Jack R-G',\n",
       "  'Bharath',\n",
       "  'Ooo',\n",
       "  'BookishWolf',\n",
       "  'AlexS1',\n",
       "  'Sandeep Kadapa',\n",
       "  'GetRektOrElse',\n",
       "  'orie',\n",
       "  'witiw25151',\n",
       "  'user14049704',\n",
       "  'Prabal Mukherjee',\n",
       "  'carciofinospinoso',\n",
       "  'vis10',\n",
       "  'ole',\n",
       "  'Patrick Parker',\n",
       "  'Josh Fontaine',\n",
       "  'calypso',\n",
       "  'blockhead',\n",
       "  'martineau',\n",
       "  'martineau',\n",
       "  'Sam Dillard',\n",
       "  'SOM Tube',\n",
       "  'Eddie McGolrick',\n",
       "  'Kalindu Prabash',\n",
       "  'Tewfik',\n",
       "  'FNTE',\n",
       "  'Asocia',\n",
       "  'Gauthier Buttez',\n",
       "  'Mostafa Ghadimi',\n",
       "  'user3847934',\n",
       "  'DebanjanB',\n",
       "  'Jonathan',\n",
       "  'deadshot',\n",
       "  'Sascha',\n",
       "  'Supergamer5465',\n",
       "  'Sjcarlso',\n",
       "  'eyllanesc',\n",
       "  'Air Stalk3r',\n",
       "  'Trenton McKinney',\n",
       "  'martineau',\n",
       "  'Joey Ashcroft',\n",
       "  'Andy',\n",
       "  'Jordan Ford',\n",
       "  'Ashlyn Roice',\n",
       "  'supercool',\n",
       "  'Merakel',\n",
       "  'martineau',\n",
       "  'Anshul Verma',\n",
       "  'basilisk',\n",
       "  'curlypie99',\n",
       "  'Steel',\n",
       "  'Mykola Zotko',\n",
       "  'User2020',\n",
       "  'M-Chen-3',\n",
       "  'Null Pointer',\n",
       "  'hmit',\n",
       "  'martineau',\n",
       "  'DebanjanB',\n",
       "  'Sidali Smaili',\n",
       "  'jonrsharpe',\n",
       "  'Gauthier Buttez',\n",
       "  'Emi-N-M',\n",
       "  'martineau',\n",
       "  'Eric Shingleton-Smith',\n",
       "  'super_ask',\n",
       "  'Ratnapal Shende',\n",
       "  'F0urAt',\n",
       "  'queueofquestions',\n",
       "  'June',\n",
       "  'Mark Wekking',\n",
       "  'Taguar 258',\n",
       "  'Zmrzka',\n",
       "  'Inkblot',\n",
       "  'John',\n",
       "  'Hercislife',\n",
       "  'SydV',\n",
       "  'kaktus_car',\n",
       "  'grafeno30',\n",
       "  'holamynameisbob6',\n",
       "  'suresh hp']}"
      ]
     },
     "execution_count": 37,
     "metadata": {},
     "output_type": "execute_result"
    }
   ],
   "source": [
    "response.json()"
   ]
  },
  {
   "cell_type": "code",
   "execution_count": 36,
   "metadata": {},
   "outputs": [
    {
     "data": {
      "text/plain": [
       "False"
      ]
     },
     "execution_count": 36,
     "metadata": {},
     "output_type": "execute_result"
    }
   ],
   "source": [
    "'CCCCos' in response.json()"
   ]
  },
  {
   "cell_type": "code",
   "execution_count": 4,
   "metadata": {},
   "outputs": [],
   "source": [
    "driver.get('https://stackoverflow.com/questions/49547/how-do-we-control-web-page-caching-across-all-browsers/2068407#2068407')"
   ]
  },
  {
   "cell_type": "code",
   "execution_count": null,
   "metadata": {},
   "outputs": [],
   "source": []
  }
 ],
 "metadata": {
  "kernelspec": {
   "display_name": "analysis",
   "language": "python",
   "name": "analysis"
  },
  "language_info": {
   "codemirror_mode": {
    "name": "ipython",
    "version": 3
   },
   "file_extension": ".py",
   "mimetype": "text/x-python",
   "name": "python",
   "nbconvert_exporter": "python",
   "pygments_lexer": "ipython3",
   "version": "3.7.3"
  }
 },
 "nbformat": 4,
 "nbformat_minor": 2
}
