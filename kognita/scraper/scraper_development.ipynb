{
 "cells": [
  {
   "cell_type": "code",
   "execution_count": 35,
   "metadata": {},
   "outputs": [],
   "source": [
    "from selenium import webdriver\n",
    "from selenium.webdriver.common.keys import Keys\n",
    "from parsel import Selector\n",
    "import pathlib\n",
    "import os"
   ]
  },
  {
   "cell_type": "code",
   "execution_count": 22,
   "metadata": {},
   "outputs": [],
   "source": [
    "# PATH = pathlib.Path(__file__).parent\n",
    "# path_to_driver = PATH.joinpath('geckodriver').resolve().__str__()\n",
    "path_to_driver = '/home/baltasar/Desktop/ScrapyBoy/kognita/kognita/scraper/geckodriver'\n",
    "driver = webdriver.Firefox(executable_path=path_to_driver)"
   ]
  },
  {
   "cell_type": "code",
   "execution_count": 23,
   "metadata": {},
   "outputs": [],
   "source": [
    "driver.get('https://stackoverflow.com/')"
   ]
  },
  {
   "cell_type": "code",
   "execution_count": 31,
   "metadata": {},
   "outputs": [],
   "source": [
    "# search bar, click and write\n",
    "driver.find_element_by_xpath('//input[@name=\"q\"]').click()\n",
    "driver.find_element_by_xpath('//input[@name=\"q\"]').send_keys('python')\n",
    "driver.find_element_by_xpath('//input[@name=\"q\"]').send_keys(Keys.ENTER)"
   ]
  },
  {
   "cell_type": "code",
   "execution_count": 32,
   "metadata": {},
   "outputs": [],
   "source": [
    "# data structure\n",
    "data = {\"initial_search\": {\"search_query\": \"\"\n",
    "                           \"search_title\": \"\",\n",
    "                           \"search_text\": \"\",       \n",
    "        \"all_questions\": [{ \"question_title\": \"\",\n",
    "                            \"question_preview_text\": \"\",\n",
    "                            \"question_text\": \"\",\n",
    "                            \"question_autor\": \"\",\n",
    "                            \"question_data\": \"\", \n",
    "                            \"question_tags\": \"\" \n",
    "                            \"question_comments\": [{ \"comment\": \"\",\n",
    "                                                    \"comment_author\":\"\",                                                    \n",
    "                                                    \"comment_data\": \"\" }]\n",
    "                           \"answer_text\": \"\",\n",
    "                           \"answer_author\": \"\",\n",
    "                           \"answer_data\": \"\",\n",
    "                           \"answer_comments\": [{ \"comment\": \"\",\n",
    "                                                    \"comment_author\":\"\",                                                    \n",
    "                                                    \"comment_data\": \"\" }]\n",
    "                        \n",
    "                        }]\n",
    "                        }\n",
    "        }"
   ]
  },
  {
   "cell_type": "code",
   "execution_count": 33,
   "metadata": {},
   "outputs": [],
   "source": [
    "# for each question in the page get and parse\n",
    "# for each comment in the question parse\n",
    "# for each answer in the question parse\n",
    "# for each comment in the answer parse\n",
    "# if page is > 2 break"
   ]
  },
  {
   "cell_type": "code",
   "execution_count": 36,
   "metadata": {},
   "outputs": [],
   "source": [
    "page = Selector(driver.page_source)"
   ]
  },
  {
   "cell_type": "code",
   "execution_count": 43,
   "metadata": {},
   "outputs": [],
   "source": [
    "questions_links = page.xpath(\"//a[@class='question-hyperlink']/@href\").getall()"
   ]
  },
  {
   "cell_type": "code",
   "execution_count": 49,
   "metadata": {},
   "outputs": [],
   "source": [
    "full_links = ['https://stackoverflow.com' + questions_links[i] for i in range(len(questions_links))]"
   ]
  },
  {
   "cell_type": "code",
   "execution_count": 50,
   "metadata": {},
   "outputs": [
    {
     "name": "stdout",
     "output_type": "stream",
     "text": [
      "https://stackoverflow.com/questions/54388685/issues-when-attaching-and-detaching-external-app-from-qdockwidget\n",
      "https://stackoverflow.com/questions/51649672/accepting-output-of-the-socket-generated-by-python-in-mql5\n",
      "https://stackoverflow.com/questions/49083680/how-are-the-new-tf-contrib-summary-summaries-in-tensorflow-evaluated\n",
      "https://stackoverflow.com/questions/57087498/aws-lambda-openblas-warning-could-not-determine-the-l2-cache-size-on-this-sy\n",
      "https://stackoverflow.com/questions/22990696/getting-all-task-ids-from-nested-chains-and-chords\n",
      "https://stackoverflow.com/questions/51653865/run-django-viewflow-update-node\n",
      "https://stackoverflow.com/questions/62783262/why-is-numpy-with-ryzen-threadripper-so-much-slower-than-xeon\n",
      "https://stackoverflow.com/questions/45868645/mayavi-colorbar-in-traitsui-creating-blank-window\n",
      "https://stackoverflow.com/questions/50399547/tensorflow-custom-tflite-java-lang-nullpointerexception-cannot-allocate-memory\n",
      "https://stackoverflow.com/questions/49430040/how-to-avoid-overlapping-when-theres-hundreds-of-nodes-in-networkx\n",
      "https://stackoverflow.com/questions/46688822/preload-whole-dataset-on-gpu-for-training-keras-model\n",
      "https://stackoverflow.com/questions/17406954/is-it-possible-to-directly-apply-an-affine-transformation-matrix-to-a-mayavi-ima\n",
      "https://stackoverflow.com/questions/46691638/how-to-disable-pycharm-from-automatically-updating-python-interpreter-on-startup\n",
      "https://stackoverflow.com/questions/52558519/bluez-profile-registration\n",
      "https://stackoverflow.com/questions/52087571/layering-a-contourf-plot-and-surface-plot-in-matplotlib\n"
     ]
    }
   ],
   "source": [
    "for i in full_links:\n",
    "    print(i)"
   ]
  },
  {
   "cell_type": "code",
   "execution_count": null,
   "metadata": {},
   "outputs": [],
   "source": [
    "next_page = '//a[@rel=\"next\"]'"
   ]
  },
  {
   "cell_type": "code",
   "execution_count": 56,
   "metadata": {},
   "outputs": [
    {
     "data": {
      "text/plain": [
       "'Questions tagged [python]'"
      ]
     },
     "execution_count": 56,
     "metadata": {},
     "output_type": "execute_result"
    }
   ],
   "source": [
    "page.xpath('//h1//text()').get().strip()"
   ]
  },
  {
   "cell_type": "code",
   "execution_count": 83,
   "metadata": {},
   "outputs": [],
   "source": [
    "grid = page.xpath('//div[@class=\"mb24\"]')"
   ]
  },
  {
   "cell_type": "code",
   "execution_count": 81,
   "metadata": {},
   "outputs": [
    {
     "data": {
      "text/plain": [
       "[<Selector xpath='//div[@class=\"mb24\"]' data='<div class=\"mb24\">\\n                    <'>]"
      ]
     },
     "execution_count": 81,
     "metadata": {},
     "output_type": "execute_result"
    }
   ],
   "source": [
    "grid"
   ]
  },
  {
   "cell_type": "code",
   "execution_count": 86,
   "metadata": {},
   "outputs": [
    {
     "data": {
      "text/plain": [
       "'\\nPython is a multi-paradigm, dynamically typed, multipurpose programming language. It is designed to be quick to learn, understand, and use, and enforce a clean and uniform syntax. Please note that Python 2 is officially out of support as of 01-01-2020. Still, for version-specific Python questions, add the [python-2.7] or [python-3.x] tag. When using a Python variant or library (e.g. Jython, PyPy, Pandas, Numpy), please include it in the tags.                    '"
      ]
     },
     "execution_count": 86,
     "metadata": {},
     "output_type": "execute_result"
    }
   ],
   "source": [
    "''.join([p.get() for p in grid.xpath('.//p//text()')])"
   ]
  },
  {
   "cell_type": "code",
   "execution_count": 88,
   "metadata": {},
   "outputs": [
    {
     "data": {
      "text/plain": [
       "'\\nPython is a multi-paradigm, dynamically typed, multipurpose programming language. It is designed to be quick to learn, understand, and use, and enforce a clean and uniform syntax. Please note that Python 2 is officially out of support as of 01-01-2020. Still, for version-specific Python questions, add the [python-2.7] or [python-3.x] tag. When using a Python variant or library (e.g. Jython, PyPy, Pandas, Numpy), please include it in the tags.                    '"
      ]
     },
     "execution_count": 88,
     "metadata": {},
     "output_type": "execute_result"
    }
   ],
   "source": [
    "page.xpath('//div[@class=\"mb24\"]').xpath('.//p//text()').get()"
   ]
  },
  {
   "cell_type": "code",
   "execution_count": 90,
   "metadata": {},
   "outputs": [
    {
     "data": {
      "text/plain": [
       "'1'"
      ]
     },
     "execution_count": 90,
     "metadata": {},
     "output_type": "execute_result"
    }
   ],
   "source": [
    "page.xpath('//div[contains(@class, \"s-pagination--item is-selected\")]//text()').get()"
   ]
  },
  {
   "cell_type": "code",
   "execution_count": 91,
   "metadata": {},
   "outputs": [
    {
     "data": {
      "text/plain": [
       "'https://stackoverflow.com//questions/tagged/python?tab=unanswered&page=3&pagesize=15\" ]'"
      ]
     },
     "execution_count": 91,
     "metadata": {},
     "output_type": "execute_result"
    }
   ],
   "source": [
    "'https://stackoverflow.com//questions/tagged/python?tab=unanswered&page=3&pagesize=15\" ]'"
   ]
  },
  {
   "cell_type": "code",
   "execution_count": 96,
   "metadata": {},
   "outputs": [
    {
     "data": {
      "text/plain": [
       "'/questions/tagged/python?tab=unanswered&page=2&pagesize=15'"
      ]
     },
     "execution_count": 96,
     "metadata": {},
     "output_type": "execute_result"
    }
   ],
   "source": [
    "page.xpath('//a[@rel=\"next\"]//@href').get()"
   ]
  },
  {
   "cell_type": "code",
   "execution_count": 99,
   "metadata": {},
   "outputs": [],
   "source": [
    "driver.get('https://stackoverflow.com/questions/54388685/issues-when-attaching-and-detaching-external-app-from-qdockwidget')"
   ]
  },
  {
   "cell_type": "code",
   "execution_count": 102,
   "metadata": {},
   "outputs": [],
   "source": [
    "page2 = Selector(driver.page_source)"
   ]
  },
  {
   "cell_type": "code",
   "execution_count": 106,
   "metadata": {},
   "outputs": [
    {
     "data": {
      "text/plain": [
       "[<Selector xpath='//pre/code//text()' data='import'>,\n",
       " <Selector xpath='//pre/code//text()' data=' subprocess\\n'>,\n",
       " <Selector xpath='//pre/code//text()' data='import'>,\n",
       " <Selector xpath='//pre/code//text()' data=' win32gui\\n'>,\n",
       " <Selector xpath='//pre/code//text()' data='import'>,\n",
       " <Selector xpath='//pre/code//text()' data=' win32con\\n'>,\n",
       " <Selector xpath='//pre/code//text()' data='import'>,\n",
       " <Selector xpath='//pre/code//text()' data=' time\\n'>,\n",
       " <Selector xpath='//pre/code//text()' data='import'>,\n",
       " <Selector xpath='//pre/code//text()' data=' sys\\n'>,\n",
       " <Selector xpath='//pre/code//text()' data='from'>,\n",
       " <Selector xpath='//pre/code//text()' data=' '>,\n",
       " <Selector xpath='//pre/code//text()' data='PyQt5'>,\n",
       " <Selector xpath='//pre/code//text()' data='.'>,\n",
       " <Selector xpath='//pre/code//text()' data='Qt'>,\n",
       " <Selector xpath='//pre/code//text()' data=' '>,\n",
       " <Selector xpath='//pre/code//text()' data='import'>,\n",
       " <Selector xpath='//pre/code//text()' data=' '>,\n",
       " <Selector xpath='//pre/code//text()' data='*'>,\n",
       " <Selector xpath='//pre/code//text()' data='  '>,\n",
       " <Selector xpath='//pre/code//text()' data='# noqa'>,\n",
       " <Selector xpath='//pre/code//text()' data='\\n\\n\\n'>,\n",
       " <Selector xpath='//pre/code//text()' data='class'>,\n",
       " <Selector xpath='//pre/code//text()' data=' '>,\n",
       " <Selector xpath='//pre/code//text()' data='Mcve'>,\n",
       " <Selector xpath='//pre/code//text()' data='('>,\n",
       " <Selector xpath='//pre/code//text()' data='QMainWindow'>,\n",
       " <Selector xpath='//pre/code//text()' data='):'>,\n",
       " <Selector xpath='//pre/code//text()' data='\\n\\n    '>,\n",
       " <Selector xpath='//pre/code//text()' data='def'>,\n",
       " <Selector xpath='//pre/code//text()' data=' __init__'>,\n",
       " <Selector xpath='//pre/code//text()' data='('>,\n",
       " <Selector xpath='//pre/code//text()' data='self'>,\n",
       " <Selector xpath='//pre/code//text()' data=','>,\n",
       " <Selector xpath='//pre/code//text()' data=' path_exe'>,\n",
       " <Selector xpath='//pre/code//text()' data='):'>,\n",
       " <Selector xpath='//pre/code//text()' data='\\n        '>,\n",
       " <Selector xpath='//pre/code//text()' data='super'>,\n",
       " <Selector xpath='//pre/code//text()' data='().'>,\n",
       " <Selector xpath='//pre/code//text()' data='__init__'>,\n",
       " <Selector xpath='//pre/code//text()' data='()'>,\n",
       " <Selector xpath='//pre/code//text()' data='\\n\\n        menu '>,\n",
       " <Selector xpath='//pre/code//text()' data='='>,\n",
       " <Selector xpath='//pre/code//text()' data=' '>,\n",
       " <Selector xpath='//pre/code//text()' data='self'>,\n",
       " <Selector xpath='//pre/code//text()' data='.'>,\n",
       " <Selector xpath='//pre/code//text()' data='menuBar'>,\n",
       " <Selector xpath='//pre/code//text()' data='()'>,\n",
       " <Selector xpath='//pre/code//text()' data='\\n\\n        attach_action '>,\n",
       " <Selector xpath='//pre/code//text()' data='='>,\n",
       " <Selector xpath='//pre/code//text()' data=' '>,\n",
       " <Selector xpath='//pre/code//text()' data='QAction'>,\n",
       " <Selector xpath='//pre/code//text()' data='('>,\n",
       " <Selector xpath='//pre/code//text()' data=\"'Attach'\">,\n",
       " <Selector xpath='//pre/code//text()' data=','>,\n",
       " <Selector xpath='//pre/code//text()' data=' '>,\n",
       " <Selector xpath='//pre/code//text()' data='self'>,\n",
       " <Selector xpath='//pre/code//text()' data=')'>,\n",
       " <Selector xpath='//pre/code//text()' data='\\n        attach_action'>,\n",
       " <Selector xpath='//pre/code//text()' data='.'>,\n",
       " <Selector xpath='//pre/code//text()' data='triggered'>,\n",
       " <Selector xpath='//pre/code//text()' data='.'>,\n",
       " <Selector xpath='//pre/code//text()' data='connect'>,\n",
       " <Selector xpath='//pre/code//text()' data='('>,\n",
       " <Selector xpath='//pre/code//text()' data='self'>,\n",
       " <Selector xpath='//pre/code//text()' data='.'>,\n",
       " <Selector xpath='//pre/code//text()' data='attach'>,\n",
       " <Selector xpath='//pre/code//text()' data=')'>,\n",
       " <Selector xpath='//pre/code//text()' data='\\n        menu'>,\n",
       " <Selector xpath='//pre/code//text()' data='.'>,\n",
       " <Selector xpath='//pre/code//text()' data='addAction'>,\n",
       " <Selector xpath='//pre/code//text()' data='('>,\n",
       " <Selector xpath='//pre/code//text()' data='attach_action'>,\n",
       " <Selector xpath='//pre/code//text()' data=')'>,\n",
       " <Selector xpath='//pre/code//text()' data='\\n\\n        detach_action '>,\n",
       " <Selector xpath='//pre/code//text()' data='='>,\n",
       " <Selector xpath='//pre/code//text()' data=' '>,\n",
       " <Selector xpath='//pre/code//text()' data='QAction'>,\n",
       " <Selector xpath='//pre/code//text()' data='('>,\n",
       " <Selector xpath='//pre/code//text()' data=\"'Detach'\">,\n",
       " <Selector xpath='//pre/code//text()' data=','>,\n",
       " <Selector xpath='//pre/code//text()' data=' '>,\n",
       " <Selector xpath='//pre/code//text()' data='self'>,\n",
       " <Selector xpath='//pre/code//text()' data=')'>,\n",
       " <Selector xpath='//pre/code//text()' data='\\n        detach_action'>,\n",
       " <Selector xpath='//pre/code//text()' data='.'>,\n",
       " <Selector xpath='//pre/code//text()' data='triggered'>,\n",
       " <Selector xpath='//pre/code//text()' data='.'>,\n",
       " <Selector xpath='//pre/code//text()' data='connect'>,\n",
       " <Selector xpath='//pre/code//text()' data='('>,\n",
       " <Selector xpath='//pre/code//text()' data='self'>,\n",
       " <Selector xpath='//pre/code//text()' data='.'>,\n",
       " <Selector xpath='//pre/code//text()' data='detach'>,\n",
       " <Selector xpath='//pre/code//text()' data=')'>,\n",
       " <Selector xpath='//pre/code//text()' data='\\n        menu'>,\n",
       " <Selector xpath='//pre/code//text()' data='.'>,\n",
       " <Selector xpath='//pre/code//text()' data='addAction'>,\n",
       " <Selector xpath='//pre/code//text()' data='('>,\n",
       " <Selector xpath='//pre/code//text()' data='detach_action'>,\n",
       " <Selector xpath='//pre/code//text()' data=')'>,\n",
       " <Selector xpath='//pre/code//text()' data='\\n\\n        '>,\n",
       " <Selector xpath='//pre/code//text()' data='self'>,\n",
       " <Selector xpath='//pre/code//text()' data='.'>,\n",
       " <Selector xpath='//pre/code//text()' data='dock '>,\n",
       " <Selector xpath='//pre/code//text()' data='='>,\n",
       " <Selector xpath='//pre/code//text()' data=' '>,\n",
       " <Selector xpath='//pre/code//text()' data='QDockWidget'>,\n",
       " <Selector xpath='//pre/code//text()' data='('>,\n",
       " <Selector xpath='//pre/code//text()' data='\"Attach window\"'>,\n",
       " <Selector xpath='//pre/code//text()' data=','>,\n",
       " <Selector xpath='//pre/code//text()' data=' '>,\n",
       " <Selector xpath='//pre/code//text()' data='self'>,\n",
       " <Selector xpath='//pre/code//text()' data=')'>,\n",
       " <Selector xpath='//pre/code//text()' data='\\n        '>,\n",
       " <Selector xpath='//pre/code//text()' data='self'>,\n",
       " <Selector xpath='//pre/code//text()' data='.'>,\n",
       " <Selector xpath='//pre/code//text()' data='addDockWidget'>,\n",
       " <Selector xpath='//pre/code//text()' data='('>,\n",
       " <Selector xpath='//pre/code//text()' data='Qt'>,\n",
       " <Selector xpath='//pre/code//text()' data='.'>,\n",
       " <Selector xpath='//pre/code//text()' data='RightDockWidgetArea'>,\n",
       " <Selector xpath='//pre/code//text()' data=','>,\n",
       " <Selector xpath='//pre/code//text()' data=' '>,\n",
       " <Selector xpath='//pre/code//text()' data='self'>,\n",
       " <Selector xpath='//pre/code//text()' data='.'>,\n",
       " <Selector xpath='//pre/code//text()' data='dock'>,\n",
       " <Selector xpath='//pre/code//text()' data=')'>,\n",
       " <Selector xpath='//pre/code//text()' data='\\n\\n        p '>,\n",
       " <Selector xpath='//pre/code//text()' data='='>,\n",
       " <Selector xpath='//pre/code//text()' data=' subprocess'>,\n",
       " <Selector xpath='//pre/code//text()' data='.'>,\n",
       " <Selector xpath='//pre/code//text()' data='Popen'>,\n",
       " <Selector xpath='//pre/code//text()' data='('>,\n",
       " <Selector xpath='//pre/code//text()' data='path_exe'>,\n",
       " <Selector xpath='//pre/code//text()' data=')'>,\n",
       " <Selector xpath='//pre/code//text()' data='\\n        time'>,\n",
       " <Selector xpath='//pre/code//text()' data='.'>,\n",
       " <Selector xpath='//pre/code//text()' data='sleep'>,\n",
       " <Selector xpath='//pre/code//text()' data='('>,\n",
       " <Selector xpath='//pre/code//text()' data='0.5'>,\n",
       " <Selector xpath='//pre/code//text()' data=')'>,\n",
       " <Selector xpath='//pre/code//text()' data='  '>,\n",
       " <Selector xpath='//pre/code//text()' data=\"# Give enough time so FindWindowEx won't\">,\n",
       " <Selector xpath='//pre/code//text()' data='\\n        '>,\n",
       " <Selector xpath='//pre/code//text()' data='self'>,\n",
       " <Selector xpath='//pre/code//text()' data='.'>,\n",
       " <Selector xpath='//pre/code//text()' data='hwnd '>,\n",
       " <Selector xpath='//pre/code//text()' data='='>,\n",
       " <Selector xpath='//pre/code//text()' data=' win32gui'>,\n",
       " <Selector xpath='//pre/code//text()' data='.'>,\n",
       " <Selector xpath='//pre/code//text()' data='FindWindowEx'>,\n",
       " <Selector xpath='//pre/code//text()' data='('>,\n",
       " <Selector xpath='//pre/code//text()' data='0'>,\n",
       " <Selector xpath='//pre/code//text()' data=','>,\n",
       " <Selector xpath='//pre/code//text()' data=' '>,\n",
       " <Selector xpath='//pre/code//text()' data='0'>,\n",
       " <Selector xpath='//pre/code//text()' data=','>,\n",
       " <Selector xpath='//pre/code//text()' data=' '>,\n",
       " <Selector xpath='//pre/code//text()' data='\"CalcFrame\"'>,\n",
       " <Selector xpath='//pre/code//text()' data=','>,\n",
       " <Selector xpath='//pre/code//text()' data=' '>,\n",
       " <Selector xpath='//pre/code//text()' data='None'>,\n",
       " <Selector xpath='//pre/code//text()' data=')'>,\n",
       " <Selector xpath='//pre/code//text()' data='\\n        '>,\n",
       " <Selector xpath='//pre/code//text()' data='if'>,\n",
       " <Selector xpath='//pre/code//text()' data=' '>,\n",
       " <Selector xpath='//pre/code//text()' data='self'>,\n",
       " <Selector xpath='//pre/code//text()' data='.'>,\n",
       " <Selector xpath='//pre/code//text()' data='hwnd '>,\n",
       " <Selector xpath='//pre/code//text()' data='=='>,\n",
       " <Selector xpath='//pre/code//text()' data=' '>,\n",
       " <Selector xpath='//pre/code//text()' data='0'>,\n",
       " <Selector xpath='//pre/code//text()' data=':'>,\n",
       " <Selector xpath='//pre/code//text()' data='\\n            '>,\n",
       " <Selector xpath='//pre/code//text()' data='raise'>,\n",
       " <Selector xpath='//pre/code//text()' data=' '>,\n",
       " <Selector xpath='//pre/code//text()' data='Exception'>,\n",
       " <Selector xpath='//pre/code//text()' data='('>,\n",
       " <Selector xpath='//pre/code//text()' data='\"Process not found\"'>,\n",
       " <Selector xpath='//pre/code//text()' data=')'>,\n",
       " <Selector xpath='//pre/code//text()' data='\\n\\n    '>,\n",
       " <Selector xpath='//pre/code//text()' data='def'>,\n",
       " <Selector xpath='//pre/code//text()' data=' detach'>,\n",
       " <Selector xpath='//pre/code//text()' data='('>,\n",
       " <Selector xpath='//pre/code//text()' data='self'>,\n",
       " <Selector xpath='//pre/code//text()' data='):'>,\n",
       " <Selector xpath='//pre/code//text()' data='\\n        '>,\n",
       " <Selector xpath='//pre/code//text()' data='try'>,\n",
       " <Selector xpath='//pre/code//text()' data=':'>,\n",
       " <Selector xpath='//pre/code//text()' data='\\n            '>,\n",
       " <Selector xpath='//pre/code//text()' data='self'>,\n",
       " <Selector xpath='//pre/code//text()' data='.'>,\n",
       " <Selector xpath='//pre/code//text()' data='_window'>,\n",
       " <Selector xpath='//pre/code//text()' data='.'>,\n",
       " <Selector xpath='//pre/code//text()' data='setParent'>,\n",
       " <Selector xpath='//pre/code//text()' data='('>,\n",
       " <Selector xpath='//pre/code//text()' data='None'>,\n",
       " <Selector xpath='//pre/code//text()' data=')'>,\n",
       " <Selector xpath='//pre/code//text()' data='\\n            '>,\n",
       " <Selector xpath='//pre/code//text()' data='# win32gui.SetWindowLong(self.hwnd, win3'>,\n",
       " <Selector xpath='//pre/code//text()' data='\\n            '>,\n",
       " <Selector xpath='//pre/code//text()' data='self'>,\n",
       " <Selector xpath='//pre/code//text()' data='.'>,\n",
       " <Selector xpath='//pre/code//text()' data='_window'>,\n",
       " <Selector xpath='//pre/code//text()' data='.'>,\n",
       " <Selector xpath='//pre/code//text()' data='show'>,\n",
       " <Selector xpath='//pre/code//text()' data='()'>,\n",
       " <Selector xpath='//pre/code//text()' data='\\n            '>,\n",
       " <Selector xpath='//pre/code//text()' data='self'>,\n",
       " <Selector xpath='//pre/code//text()' data='.'>,\n",
       " <Selector xpath='//pre/code//text()' data='dock'>,\n",
       " <Selector xpath='//pre/code//text()' data='.'>,\n",
       " <Selector xpath='//pre/code//text()' data='setWidget'>,\n",
       " <Selector xpath='//pre/code//text()' data='('>,\n",
       " <Selector xpath='//pre/code//text()' data='None'>,\n",
       " <Selector xpath='//pre/code//text()' data=')'>,\n",
       " <Selector xpath='//pre/code//text()' data='\\n            '>,\n",
       " <Selector xpath='//pre/code//text()' data='self'>,\n",
       " <Selector xpath='//pre/code//text()' data='.'>,\n",
       " <Selector xpath='//pre/code//text()' data='_widget '>,\n",
       " <Selector xpath='//pre/code//text()' data='='>,\n",
       " <Selector xpath='//pre/code//text()' data=' '>,\n",
       " <Selector xpath='//pre/code//text()' data='None'>,\n",
       " <Selector xpath='//pre/code//text()' data='\\n            '>,\n",
       " <Selector xpath='//pre/code//text()' data='self'>,\n",
       " <Selector xpath='//pre/code//text()' data='.'>,\n",
       " <Selector xpath='//pre/code//text()' data='_window '>,\n",
       " <Selector xpath='//pre/code//text()' data='='>,\n",
       " <Selector xpath='//pre/code//text()' data=' '>,\n",
       " <Selector xpath='//pre/code//text()' data='None'>,\n",
       " <Selector xpath='//pre/code//text()' data='\\n        '>,\n",
       " <Selector xpath='//pre/code//text()' data='except'>,\n",
       " <Selector xpath='//pre/code//text()' data=' '>,\n",
       " <Selector xpath='//pre/code//text()' data='Exception'>,\n",
       " <Selector xpath='//pre/code//text()' data=' '>,\n",
       " <Selector xpath='//pre/code//text()' data='as'>,\n",
       " <Selector xpath='//pre/code//text()' data=' e'>,\n",
       " <Selector xpath='//pre/code//text()' data=':'>,\n",
       " <Selector xpath='//pre/code//text()' data='\\n            '>,\n",
       " <Selector xpath='//pre/code//text()' data='import'>,\n",
       " <Selector xpath='//pre/code//text()' data=' traceback\\n            traceback'>,\n",
       " <Selector xpath='//pre/code//text()' data='.'>,\n",
       " <Selector xpath='//pre/code//text()' data='print_exc'>,\n",
       " <Selector xpath='//pre/code//text()' data='()'>,\n",
       " <Selector xpath='//pre/code//text()' data='\\n\\n    '>,\n",
       " <Selector xpath='//pre/code//text()' data='def'>,\n",
       " <Selector xpath='//pre/code//text()' data=' attach'>,\n",
       " <Selector xpath='//pre/code//text()' data='('>,\n",
       " <Selector xpath='//pre/code//text()' data='self'>,\n",
       " <Selector xpath='//pre/code//text()' data='):'>,\n",
       " <Selector xpath='//pre/code//text()' data='\\n        '>,\n",
       " <Selector xpath='//pre/code//text()' data='# self._style = win32gui.GetWindowLong(s'>,\n",
       " <Selector xpath='//pre/code//text()' data='\\n        '>,\n",
       " <Selector xpath='//pre/code//text()' data='self'>,\n",
       " <Selector xpath='//pre/code//text()' data='.'>,\n",
       " <Selector xpath='//pre/code//text()' data='_window '>,\n",
       " <Selector xpath='//pre/code//text()' data='='>,\n",
       " <Selector xpath='//pre/code//text()' data=' '>,\n",
       " <Selector xpath='//pre/code//text()' data='QWindow'>,\n",
       " <Selector xpath='//pre/code//text()' data='.'>,\n",
       " <Selector xpath='//pre/code//text()' data='fromWinId'>,\n",
       " <Selector xpath='//pre/code//text()' data='('>,\n",
       " <Selector xpath='//pre/code//text()' data='self'>,\n",
       " <Selector xpath='//pre/code//text()' data='.'>,\n",
       " <Selector xpath='//pre/code//text()' data='hwnd'>,\n",
       " <Selector xpath='//pre/code//text()' data=')'>,\n",
       " <Selector xpath='//pre/code//text()' data='\\n        '>,\n",
       " <Selector xpath='//pre/code//text()' data='self'>,\n",
       " <Selector xpath='//pre/code//text()' data='.'>,\n",
       " <Selector xpath='//pre/code//text()' data='_widget '>,\n",
       " <Selector xpath='//pre/code//text()' data='='>,\n",
       " <Selector xpath='//pre/code//text()' data=' '>,\n",
       " <Selector xpath='//pre/code//text()' data='self'>,\n",
       " <Selector xpath='//pre/code//text()' data='.'>,\n",
       " <Selector xpath='//pre/code//text()' data='createWindowContainer'>,\n",
       " <Selector xpath='//pre/code//text()' data='('>,\n",
       " <Selector xpath='//pre/code//text()' data='self'>,\n",
       " <Selector xpath='//pre/code//text()' data='.'>,\n",
       " <Selector xpath='//pre/code//text()' data='_window'>,\n",
       " <Selector xpath='//pre/code//text()' data=')'>,\n",
       " <Selector xpath='//pre/code//text()' data='\\n        '>,\n",
       " <Selector xpath='//pre/code//text()' data='self'>,\n",
       " <Selector xpath='//pre/code//text()' data='.'>,\n",
       " <Selector xpath='//pre/code//text()' data='dock'>,\n",
       " <Selector xpath='//pre/code//text()' data='.'>,\n",
       " <Selector xpath='//pre/code//text()' data='setWidget'>,\n",
       " <Selector xpath='//pre/code//text()' data='('>,\n",
       " <Selector xpath='//pre/code//text()' data='self'>,\n",
       " <Selector xpath='//pre/code//text()' data='.'>,\n",
       " <Selector xpath='//pre/code//text()' data='_widget'>,\n",
       " <Selector xpath='//pre/code//text()' data=')'>,\n",
       " <Selector xpath='//pre/code//text()' data='\\n\\n\\n'>,\n",
       " <Selector xpath='//pre/code//text()' data='if'>,\n",
       " <Selector xpath='//pre/code//text()' data=' __name__ '>,\n",
       " <Selector xpath='//pre/code//text()' data='=='>,\n",
       " <Selector xpath='//pre/code//text()' data=' '>,\n",
       " <Selector xpath='//pre/code//text()' data=\"'__main__'\">,\n",
       " <Selector xpath='//pre/code//text()' data=':'>,\n",
       " <Selector xpath='//pre/code//text()' data='\\n    app '>,\n",
       " <Selector xpath='//pre/code//text()' data='='>,\n",
       " <Selector xpath='//pre/code//text()' data=' '>,\n",
       " <Selector xpath='//pre/code//text()' data='QApplication'>,\n",
       " <Selector xpath='//pre/code//text()' data='('>,\n",
       " <Selector xpath='//pre/code//text()' data='sys'>,\n",
       " <Selector xpath='//pre/code//text()' data='.'>,\n",
       " <Selector xpath='//pre/code//text()' data='argv'>,\n",
       " <Selector xpath='//pre/code//text()' data=')'>,\n",
       " <Selector xpath='//pre/code//text()' data='\\n    w '>,\n",
       " <Selector xpath='//pre/code//text()' data='='>,\n",
       " <Selector xpath='//pre/code//text()' data=' '>,\n",
       " <Selector xpath='//pre/code//text()' data='Mcve'>,\n",
       " <Selector xpath='//pre/code//text()' data='('>,\n",
       " <Selector xpath='//pre/code//text()' data='\"C:\\\\\\\\Windows\\\\\\\\system32\\\\\\\\calc.exe\"'>,\n",
       " <Selector xpath='//pre/code//text()' data=')'>,\n",
       " <Selector xpath='//pre/code//text()' data='\\n    w'>,\n",
       " <Selector xpath='//pre/code//text()' data='.'>,\n",
       " <Selector xpath='//pre/code//text()' data='show'>,\n",
       " <Selector xpath='//pre/code//text()' data='()'>,\n",
       " <Selector xpath='//pre/code//text()' data='\\n    sys'>,\n",
       " <Selector xpath='//pre/code//text()' data='.'>,\n",
       " <Selector xpath='//pre/code//text()' data='exit'>,\n",
       " <Selector xpath='//pre/code//text()' data='('>,\n",
       " <Selector xpath='//pre/code//text()' data='app'>,\n",
       " <Selector xpath='//pre/code//text()' data='.'>,\n",
       " <Selector xpath='//pre/code//text()' data='exec_'>,\n",
       " <Selector xpath='//pre/code//text()' data='())'>]"
      ]
     },
     "execution_count": 106,
     "metadata": {},
     "output_type": "execute_result"
    }
   ],
   "source": [
    "page2.xpath('//pre/code//text()')"
   ]
  },
  {
   "cell_type": "code",
   "execution_count": null,
   "metadata": {},
   "outputs": [],
   "source": []
  }
 ],
 "metadata": {
  "kernelspec": {
   "display_name": "analysis",
   "language": "python",
   "name": "analysis"
  },
  "language_info": {
   "codemirror_mode": {
    "name": "ipython",
    "version": 3
   },
   "file_extension": ".py",
   "mimetype": "text/x-python",
   "name": "python",
   "nbconvert_exporter": "python",
   "pygments_lexer": "ipython3",
   "version": "3.7.3"
  }
 },
 "nbformat": 4,
 "nbformat_minor": 2
}
