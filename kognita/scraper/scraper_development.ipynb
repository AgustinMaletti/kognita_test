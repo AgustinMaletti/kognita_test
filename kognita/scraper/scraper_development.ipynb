{
 "cells": [
  {
   "cell_type": "code",
   "execution_count": 113,
   "metadata": {},
   "outputs": [],
   "source": [
    "from selenium import webdriver\n",
    "from selenium.webdriver.common.keys import Keys\n",
    "from parsel import Selector\n",
    "import pathlib\n",
    "import os\n",
    "from pprint import pprint"
   ]
  },
  {
   "cell_type": "code",
   "execution_count": 22,
   "metadata": {},
   "outputs": [],
   "source": [
    "# PATH = pathlib.Path(__file__).parent\n",
    "# path_to_driver = PATH.joinpath('geckodriver').resolve().__str__()\n",
    "path_to_driver = '/home/baltasar/Desktop/ScrapyBoy/kognita/kognita/scraper/geckodriver'\n",
    "driver = webdriver.Firefox(executable_path=path_to_driver)"
   ]
  },
  {
   "cell_type": "code",
   "execution_count": 23,
   "metadata": {},
   "outputs": [],
   "source": [
    "driver.get('https://stackoverflow.com/')"
   ]
  },
  {
   "cell_type": "code",
   "execution_count": 31,
   "metadata": {},
   "outputs": [],
   "source": [
    "# search bar, click and write\n",
    "driver.find_element_by_xpath('//input[@name=\"q\"]').click()\n",
    "driver.find_element_by_xpath('//input[@name=\"q\"]').send_keys('python')\n",
    "driver.find_element_by_xpath('//input[@name=\"q\"]').send_keys(Keys.ENTER)"
   ]
  },
  {
   "cell_type": "code",
   "execution_count": 32,
   "metadata": {},
   "outputs": [],
   "source": [
    "# data structure\n",
    "data = {\"initial_search\": {\"search_query\": \"\"\n",
    "                           \"search_title\": \"\",\n",
    "                           \"search_text\": \"\",       \n",
    "        \"all_questions\": [{ \"question_title\": \"\",\n",
    "                            \"question_preview_text\": \"\",\n",
    "                            \"question_text\": \"\",\n",
    "                            \"question_autor\": \"\",\n",
    "                            \"question_data\": \"\", \n",
    "                            \"question_tags\": \"\" \n",
    "                            \"question_comments\": [{ \"comment\": \"\",\n",
    "                                                    \"comment_author\":\"\",                                                    \n",
    "                                                    \"comment_data\": \"\" }]\n",
    "                           \"answer_text\": \"\",\n",
    "                           \"answer_author\": \"\",\n",
    "                           \"answer_data\": \"\",\n",
    "                           \"answer_comments\": [{ \"comment\": \"\",\n",
    "                                                    \"comment_author\":\"\",                                                    \n",
    "                                                    \"comment_data\": \"\" }]\n",
    "                        \n",
    "                        }]\n",
    "                        }\n",
    "        }"
   ]
  },
  {
   "cell_type": "code",
   "execution_count": 33,
   "metadata": {},
   "outputs": [],
   "source": [
    "# for each question in the page get and parse\n",
    "# for each comment in the question parse\n",
    "# for each answer in the question parse\n",
    "# for each comment in the answer parse\n",
    "# if page is > 2 break"
   ]
  },
  {
   "cell_type": "code",
   "execution_count": 36,
   "metadata": {},
   "outputs": [],
   "source": [
    "page = Selector(driver.page_source)"
   ]
  },
  {
   "cell_type": "code",
   "execution_count": 43,
   "metadata": {},
   "outputs": [],
   "source": [
    "questions_links = page.xpath(\"//a[@class='question-hyperlink']/@href\").getall()"
   ]
  },
  {
   "cell_type": "code",
   "execution_count": 49,
   "metadata": {},
   "outputs": [],
   "source": [
    "full_links = ['https://stackoverflow.com' + questions_links[i] for i in range(len(questions_links))]"
   ]
  },
  {
   "cell_type": "code",
   "execution_count": 50,
   "metadata": {},
   "outputs": [
    {
     "name": "stdout",
     "output_type": "stream",
     "text": [
      "https://stackoverflow.com/questions/54388685/issues-when-attaching-and-detaching-external-app-from-qdockwidget\n",
      "https://stackoverflow.com/questions/51649672/accepting-output-of-the-socket-generated-by-python-in-mql5\n",
      "https://stackoverflow.com/questions/49083680/how-are-the-new-tf-contrib-summary-summaries-in-tensorflow-evaluated\n",
      "https://stackoverflow.com/questions/57087498/aws-lambda-openblas-warning-could-not-determine-the-l2-cache-size-on-this-sy\n",
      "https://stackoverflow.com/questions/22990696/getting-all-task-ids-from-nested-chains-and-chords\n",
      "https://stackoverflow.com/questions/51653865/run-django-viewflow-update-node\n",
      "https://stackoverflow.com/questions/62783262/why-is-numpy-with-ryzen-threadripper-so-much-slower-than-xeon\n",
      "https://stackoverflow.com/questions/45868645/mayavi-colorbar-in-traitsui-creating-blank-window\n",
      "https://stackoverflow.com/questions/50399547/tensorflow-custom-tflite-java-lang-nullpointerexception-cannot-allocate-memory\n",
      "https://stackoverflow.com/questions/49430040/how-to-avoid-overlapping-when-theres-hundreds-of-nodes-in-networkx\n",
      "https://stackoverflow.com/questions/46688822/preload-whole-dataset-on-gpu-for-training-keras-model\n",
      "https://stackoverflow.com/questions/17406954/is-it-possible-to-directly-apply-an-affine-transformation-matrix-to-a-mayavi-ima\n",
      "https://stackoverflow.com/questions/46691638/how-to-disable-pycharm-from-automatically-updating-python-interpreter-on-startup\n",
      "https://stackoverflow.com/questions/52558519/bluez-profile-registration\n",
      "https://stackoverflow.com/questions/52087571/layering-a-contourf-plot-and-surface-plot-in-matplotlib\n"
     ]
    }
   ],
   "source": [
    "for i in full_links:\n",
    "    print(i)"
   ]
  },
  {
   "cell_type": "code",
   "execution_count": null,
   "metadata": {},
   "outputs": [],
   "source": [
    "next_page = '//a[@rel=\"next\"]'"
   ]
  },
  {
   "cell_type": "code",
   "execution_count": 56,
   "metadata": {},
   "outputs": [
    {
     "data": {
      "text/plain": [
       "'Questions tagged [python]'"
      ]
     },
     "execution_count": 56,
     "metadata": {},
     "output_type": "execute_result"
    }
   ],
   "source": [
    "page.xpath('//h1//text()').get().strip()"
   ]
  },
  {
   "cell_type": "code",
   "execution_count": 83,
   "metadata": {},
   "outputs": [],
   "source": [
    "grid = page.xpath('//div[@class=\"mb24\"]')"
   ]
  },
  {
   "cell_type": "code",
   "execution_count": 81,
   "metadata": {},
   "outputs": [
    {
     "data": {
      "text/plain": [
       "[<Selector xpath='//div[@class=\"mb24\"]' data='<div class=\"mb24\">\\n                    <'>]"
      ]
     },
     "execution_count": 81,
     "metadata": {},
     "output_type": "execute_result"
    }
   ],
   "source": [
    "grid"
   ]
  },
  {
   "cell_type": "code",
   "execution_count": 86,
   "metadata": {},
   "outputs": [
    {
     "data": {
      "text/plain": [
       "'\\nPython is a multi-paradigm, dynamically typed, multipurpose programming language. It is designed to be quick to learn, understand, and use, and enforce a clean and uniform syntax. Please note that Python 2 is officially out of support as of 01-01-2020. Still, for version-specific Python questions, add the [python-2.7] or [python-3.x] tag. When using a Python variant or library (e.g. Jython, PyPy, Pandas, Numpy), please include it in the tags.                    '"
      ]
     },
     "execution_count": 86,
     "metadata": {},
     "output_type": "execute_result"
    }
   ],
   "source": [
    "''.join([p.get() for p in grid.xpath('.//p//text()')])"
   ]
  },
  {
   "cell_type": "code",
   "execution_count": 88,
   "metadata": {},
   "outputs": [
    {
     "data": {
      "text/plain": [
       "'\\nPython is a multi-paradigm, dynamically typed, multipurpose programming language. It is designed to be quick to learn, understand, and use, and enforce a clean and uniform syntax. Please note that Python 2 is officially out of support as of 01-01-2020. Still, for version-specific Python questions, add the [python-2.7] or [python-3.x] tag. When using a Python variant or library (e.g. Jython, PyPy, Pandas, Numpy), please include it in the tags.                    '"
      ]
     },
     "execution_count": 88,
     "metadata": {},
     "output_type": "execute_result"
    }
   ],
   "source": [
    "page.xpath('//div[@class=\"mb24\"]').xpath('.//p//text()').get()"
   ]
  },
  {
   "cell_type": "code",
   "execution_count": 90,
   "metadata": {},
   "outputs": [
    {
     "data": {
      "text/plain": [
       "'1'"
      ]
     },
     "execution_count": 90,
     "metadata": {},
     "output_type": "execute_result"
    }
   ],
   "source": [
    "page.xpath('//div[contains(@class, \"s-pagination--item is-selected\")]//text()').get()"
   ]
  },
  {
   "cell_type": "code",
   "execution_count": 91,
   "metadata": {},
   "outputs": [
    {
     "data": {
      "text/plain": [
       "'https://stackoverflow.com//questions/tagged/python?tab=unanswered&page=3&pagesize=15\" ]'"
      ]
     },
     "execution_count": 91,
     "metadata": {},
     "output_type": "execute_result"
    }
   ],
   "source": [
    "'https://stackoverflow.com//questions/tagged/python?tab=unanswered&page=3&pagesize=15\" ]'"
   ]
  },
  {
   "cell_type": "code",
   "execution_count": 96,
   "metadata": {},
   "outputs": [
    {
     "data": {
      "text/plain": [
       "'/questions/tagged/python?tab=unanswered&page=2&pagesize=15'"
      ]
     },
     "execution_count": 96,
     "metadata": {},
     "output_type": "execute_result"
    }
   ],
   "source": [
    "page.xpath('//a[@rel=\"next\"]//@href').get()"
   ]
  },
  {
   "cell_type": "code",
   "execution_count": 99,
   "metadata": {},
   "outputs": [],
   "source": [
    "driver.get('https://stackoverflow.com/questions/54388685/issues-when-attaching-and-detaching-external-app-from-qdockwidget')"
   ]
  },
  {
   "cell_type": "code",
   "execution_count": 102,
   "metadata": {},
   "outputs": [],
   "source": [
    "page2 = Selector(driver.page_source)"
   ]
  },
  {
   "cell_type": "code",
   "execution_count": 158,
   "metadata": {},
   "outputs": [],
   "source": [
    "post2 = page2.xpath('//div[@class=\"post-text\"]')"
   ]
  },
  {
   "cell_type": "code",
   "execution_count": 195,
   "metadata": {},
   "outputs": [
    {
     "data": {
      "text/plain": [
       "'\\n                    \\nConsider this little piece of code:\\n\\nimport subprocess\\nimport win32gui\\nimport win32con\\nimport time\\nimport sys\\nfrom PyQt5.Qt import *  # noqa\\n\\n\\nclass Mcve(QMainWindow):\\n\\n    def __init__(self, path_exe):\\n        super().__init__()\\n\\n        menu = self.menuBar()\\n\\n        attach_action = QAction(\\'Attach\\', self)\\n        attach_action.triggered.connect(self.attach)\\n        menu.addAction(attach_action)\\n\\n        detach_action = QAction(\\'Detach\\', self)\\n        detach_action.triggered.connect(self.detach)\\n        menu.addAction(detach_action)\\n\\n        self.dock = QDockWidget(\"Attach window\", self)\\n        self.addDockWidget(Qt.RightDockWidgetArea, self.dock)\\n\\n        p = subprocess.Popen(path_exe)\\n        time.sleep(0.5)  # Give enough time so FindWindowEx won\\'t return 0\\n        self.hwnd = win32gui.FindWindowEx(0, 0, \"CalcFrame\", None)\\n        if self.hwnd == 0:\\n            raise Exception(\"Process not found\")\\n\\n    def detach(self):\\n        try:\\n            self._window.setParent(None)\\n            # win32gui.SetWindowLong(self.hwnd, win32con.GWL_EXSTYLE, self._style)\\n            self._window.show()\\n            self.dock.setWidget(None)\\n            self._widget = None\\n            self._window = None\\n        except Exception as e:\\n            import traceback\\n            traceback.print_exc()\\n\\n    def attach(self):\\n        # self._style = win32gui.GetWindowLong(self.hwnd, win32con.GWL_EXSTYLE)\\n        self._window = QWindow.fromWinId(self.hwnd)\\n        self._widget = self.createWindowContainer(self._window)\\n        self.dock.setWidget(self._widget)\\n\\n\\nif __name__ == \\'__main__\\':\\n    app = QApplication(sys.argv)\\n    w = Mcve(\"C:\\\\\\\\Windows\\\\\\\\system32\\\\\\\\calc.exe\")\\n    w.show()\\n    sys.exit(app.exec_())\\n\\nThe goal here is to fix the code so the window attaching/detaching into a QDockWidget will be made properly. Right now the code has 2 important issues.\\n\\nIssue1\\n\\nStyle of the original window is screwed up:\\n\\na) Before attaching (the calculator has a menu bar)\\n\\n\\n\\nb) When attached (the calculator menu bar is gone)\\n\\n\\n\\nc) When detached (the menu bar hasn\\'t been restored properly)\\n\\n\\n\\nI\\'ve already tried using flags/setFlags qt functions or getWindowLong/setWindowLong bit I haven\\'t had luck with all my attempts\\n\\nIssue2\\n\\nIf you have attached and detached the calculator to the mainwindow and then you decide to close the mainwindow you definitely want everything (pyqt process) to be closed and cleaned properly, right now that won\\'t be the case, why?\\n\\nIn fact, when you\\'ve attached/detached the calculator to the mainwindow the python process will hold and you\\'ll need to force the termination of the process manually (ie: ctrl+break conemu, ctrl+c cmd prompt)... which indicates the code is not doing things correctly when parenting/deparenting\\n\\nAdditional notes:\\n\\n\\nhttp://doc.qt.io/qt-5/qwindow.html#fromWinId\\nhttp://doc.qt.io/qt-5/qwidget.html#createWindowContainer\\nIn the above minimal code I\\'m spawning calc.exe as a child process but you can assume calc.exe is an existing non-child process spawned by let\\'s say explorer.exe\\n\\n    '"
      ]
     },
     "execution_count": 195,
     "metadata": {},
     "output_type": "execute_result"
    }
   ],
   "source": [
    "''.join(page2.xpath('//div[@class=\"post-text\"]').xpath('.//text()').getall())"
   ]
  },
  {
   "cell_type": "code",
   "execution_count": 159,
   "metadata": {},
   "outputs": [
    {
     "data": {
      "text/plain": [
       "['\\n                    \\n',\n",
       " 'Consider this little piece of code:',\n",
       " '\\n\\n',\n",
       " 'import',\n",
       " ' subprocess\\n',\n",
       " 'import',\n",
       " ' win32gui\\n',\n",
       " 'import',\n",
       " ' win32con\\n',\n",
       " 'import',\n",
       " ' time\\n',\n",
       " 'import',\n",
       " ' sys\\n',\n",
       " 'from',\n",
       " ' ',\n",
       " 'PyQt5',\n",
       " '.',\n",
       " 'Qt',\n",
       " ' ',\n",
       " 'import',\n",
       " ' ',\n",
       " '*',\n",
       " '  ',\n",
       " '# noqa',\n",
       " '\\n\\n\\n',\n",
       " 'class',\n",
       " ' ',\n",
       " 'Mcve',\n",
       " '(',\n",
       " 'QMainWindow',\n",
       " '):',\n",
       " '\\n\\n    ',\n",
       " 'def',\n",
       " ' __init__',\n",
       " '(',\n",
       " 'self',\n",
       " ',',\n",
       " ' path_exe',\n",
       " '):',\n",
       " '\\n        ',\n",
       " 'super',\n",
       " '().',\n",
       " '__init__',\n",
       " '()',\n",
       " '\\n\\n        menu ',\n",
       " '=',\n",
       " ' ',\n",
       " 'self',\n",
       " '.',\n",
       " 'menuBar',\n",
       " '()',\n",
       " '\\n\\n        attach_action ',\n",
       " '=',\n",
       " ' ',\n",
       " 'QAction',\n",
       " '(',\n",
       " \"'Attach'\",\n",
       " ',',\n",
       " ' ',\n",
       " 'self',\n",
       " ')',\n",
       " '\\n        attach_action',\n",
       " '.',\n",
       " 'triggered',\n",
       " '.',\n",
       " 'connect',\n",
       " '(',\n",
       " 'self',\n",
       " '.',\n",
       " 'attach',\n",
       " ')',\n",
       " '\\n        menu',\n",
       " '.',\n",
       " 'addAction',\n",
       " '(',\n",
       " 'attach_action',\n",
       " ')',\n",
       " '\\n\\n        detach_action ',\n",
       " '=',\n",
       " ' ',\n",
       " 'QAction',\n",
       " '(',\n",
       " \"'Detach'\",\n",
       " ',',\n",
       " ' ',\n",
       " 'self',\n",
       " ')',\n",
       " '\\n        detach_action',\n",
       " '.',\n",
       " 'triggered',\n",
       " '.',\n",
       " 'connect',\n",
       " '(',\n",
       " 'self',\n",
       " '.',\n",
       " 'detach',\n",
       " ')',\n",
       " '\\n        menu',\n",
       " '.',\n",
       " 'addAction',\n",
       " '(',\n",
       " 'detach_action',\n",
       " ')',\n",
       " '\\n\\n        ',\n",
       " 'self',\n",
       " '.',\n",
       " 'dock ',\n",
       " '=',\n",
       " ' ',\n",
       " 'QDockWidget',\n",
       " '(',\n",
       " '\"Attach window\"',\n",
       " ',',\n",
       " ' ',\n",
       " 'self',\n",
       " ')',\n",
       " '\\n        ',\n",
       " 'self',\n",
       " '.',\n",
       " 'addDockWidget',\n",
       " '(',\n",
       " 'Qt',\n",
       " '.',\n",
       " 'RightDockWidgetArea',\n",
       " ',',\n",
       " ' ',\n",
       " 'self',\n",
       " '.',\n",
       " 'dock',\n",
       " ')',\n",
       " '\\n\\n        p ',\n",
       " '=',\n",
       " ' subprocess',\n",
       " '.',\n",
       " 'Popen',\n",
       " '(',\n",
       " 'path_exe',\n",
       " ')',\n",
       " '\\n        time',\n",
       " '.',\n",
       " 'sleep',\n",
       " '(',\n",
       " '0.5',\n",
       " ')',\n",
       " '  ',\n",
       " \"# Give enough time so FindWindowEx won't return 0\",\n",
       " '\\n        ',\n",
       " 'self',\n",
       " '.',\n",
       " 'hwnd ',\n",
       " '=',\n",
       " ' win32gui',\n",
       " '.',\n",
       " 'FindWindowEx',\n",
       " '(',\n",
       " '0',\n",
       " ',',\n",
       " ' ',\n",
       " '0',\n",
       " ',',\n",
       " ' ',\n",
       " '\"CalcFrame\"',\n",
       " ',',\n",
       " ' ',\n",
       " 'None',\n",
       " ')',\n",
       " '\\n        ',\n",
       " 'if',\n",
       " ' ',\n",
       " 'self',\n",
       " '.',\n",
       " 'hwnd ',\n",
       " '==',\n",
       " ' ',\n",
       " '0',\n",
       " ':',\n",
       " '\\n            ',\n",
       " 'raise',\n",
       " ' ',\n",
       " 'Exception',\n",
       " '(',\n",
       " '\"Process not found\"',\n",
       " ')',\n",
       " '\\n\\n    ',\n",
       " 'def',\n",
       " ' detach',\n",
       " '(',\n",
       " 'self',\n",
       " '):',\n",
       " '\\n        ',\n",
       " 'try',\n",
       " ':',\n",
       " '\\n            ',\n",
       " 'self',\n",
       " '.',\n",
       " '_window',\n",
       " '.',\n",
       " 'setParent',\n",
       " '(',\n",
       " 'None',\n",
       " ')',\n",
       " '\\n            ',\n",
       " '# win32gui.SetWindowLong(self.hwnd, win32con.GWL_EXSTYLE, self._style)',\n",
       " '\\n            ',\n",
       " 'self',\n",
       " '.',\n",
       " '_window',\n",
       " '.',\n",
       " 'show',\n",
       " '()',\n",
       " '\\n            ',\n",
       " 'self',\n",
       " '.',\n",
       " 'dock',\n",
       " '.',\n",
       " 'setWidget',\n",
       " '(',\n",
       " 'None',\n",
       " ')',\n",
       " '\\n            ',\n",
       " 'self',\n",
       " '.',\n",
       " '_widget ',\n",
       " '=',\n",
       " ' ',\n",
       " 'None',\n",
       " '\\n            ',\n",
       " 'self',\n",
       " '.',\n",
       " '_window ',\n",
       " '=',\n",
       " ' ',\n",
       " 'None',\n",
       " '\\n        ',\n",
       " 'except',\n",
       " ' ',\n",
       " 'Exception',\n",
       " ' ',\n",
       " 'as',\n",
       " ' e',\n",
       " ':',\n",
       " '\\n            ',\n",
       " 'import',\n",
       " ' traceback\\n            traceback',\n",
       " '.',\n",
       " 'print_exc',\n",
       " '()',\n",
       " '\\n\\n    ',\n",
       " 'def',\n",
       " ' attach',\n",
       " '(',\n",
       " 'self',\n",
       " '):',\n",
       " '\\n        ',\n",
       " '# self._style = win32gui.GetWindowLong(self.hwnd, win32con.GWL_EXSTYLE)',\n",
       " '\\n        ',\n",
       " 'self',\n",
       " '.',\n",
       " '_window ',\n",
       " '=',\n",
       " ' ',\n",
       " 'QWindow',\n",
       " '.',\n",
       " 'fromWinId',\n",
       " '(',\n",
       " 'self',\n",
       " '.',\n",
       " 'hwnd',\n",
       " ')',\n",
       " '\\n        ',\n",
       " 'self',\n",
       " '.',\n",
       " '_widget ',\n",
       " '=',\n",
       " ' ',\n",
       " 'self',\n",
       " '.',\n",
       " 'createWindowContainer',\n",
       " '(',\n",
       " 'self',\n",
       " '.',\n",
       " '_window',\n",
       " ')',\n",
       " '\\n        ',\n",
       " 'self',\n",
       " '.',\n",
       " 'dock',\n",
       " '.',\n",
       " 'setWidget',\n",
       " '(',\n",
       " 'self',\n",
       " '.',\n",
       " '_widget',\n",
       " ')',\n",
       " '\\n\\n\\n',\n",
       " 'if',\n",
       " ' __name__ ',\n",
       " '==',\n",
       " ' ',\n",
       " \"'__main__'\",\n",
       " ':',\n",
       " '\\n    app ',\n",
       " '=',\n",
       " ' ',\n",
       " 'QApplication',\n",
       " '(',\n",
       " 'sys',\n",
       " '.',\n",
       " 'argv',\n",
       " ')',\n",
       " '\\n    w ',\n",
       " '=',\n",
       " ' ',\n",
       " 'Mcve',\n",
       " '(',\n",
       " '\"C:\\\\\\\\Windows\\\\\\\\system32\\\\\\\\calc.exe\"',\n",
       " ')',\n",
       " '\\n    w',\n",
       " '.',\n",
       " 'show',\n",
       " '()',\n",
       " '\\n    sys',\n",
       " '.',\n",
       " 'exit',\n",
       " '(',\n",
       " 'app',\n",
       " '.',\n",
       " 'exec_',\n",
       " '())',\n",
       " '\\n\\n',\n",
       " 'The goal here is to fix the code so the window attaching/detaching into a QDockWidget will be made properly. Right now the code has 2 important issues.',\n",
       " '\\n\\n',\n",
       " 'Issue1',\n",
       " '\\n\\n',\n",
       " 'Style of the original window is screwed up:',\n",
       " '\\n\\n',\n",
       " 'a) Before attaching (the calculator has a menu bar)',\n",
       " '\\n\\n',\n",
       " '\\n\\n',\n",
       " 'b) When attached (the calculator menu bar is gone)',\n",
       " '\\n\\n',\n",
       " '\\n\\n',\n",
       " \"c) When detached (the menu bar hasn't been restored properly)\",\n",
       " '\\n\\n',\n",
       " '\\n\\n',\n",
       " \"I've already tried using flags/setFlags qt functions or getWindowLong/setWindowLong bit I haven't had luck with all my attempts\",\n",
       " '\\n\\n',\n",
       " 'Issue2',\n",
       " '\\n\\n',\n",
       " \"If you have attached and detached the calculator to the mainwindow and then you decide to close the mainwindow you definitely want everything (pyqt process) to be closed and cleaned properly, right now that won't be the case, why?\",\n",
       " '\\n\\n',\n",
       " \"In fact, when you've attached/detached the calculator to the mainwindow the python process will hold and you'll need to force the termination of the process manually (ie: ctrl+break conemu, ctrl+c cmd prompt)... which indicates the code is not doing things correctly when parenting/deparenting\",\n",
       " '\\n\\n',\n",
       " 'Additional notes:',\n",
       " '\\n\\n',\n",
       " '\\n',\n",
       " 'http://doc.qt.io/qt-5/qwindow.html#fromWinId',\n",
       " '\\n',\n",
       " 'http://doc.qt.io/qt-5/qwidget.html#createWindowContainer',\n",
       " '\\n',\n",
       " \"In the above minimal code I'm spawning calc.exe as a child process but you can assume calc.exe is an existing non-child process spawned by let's say \",\n",
       " 'explorer.exe',\n",
       " '\\n',\n",
       " '\\n    ']"
      ]
     },
     "execution_count": 159,
     "metadata": {},
     "output_type": "execute_result"
    }
   ],
   "source": [
    "question = []\n",
    "for t in post2.xpath('.//text()'):\n",
    "    question.append(t.get())\n",
    "question"
   ]
  },
  {
   "cell_type": "code",
   "execution_count": 160,
   "metadata": {},
   "outputs": [],
   "source": [
    "final_question = ''.join(question)"
   ]
  },
  {
   "cell_type": "code",
   "execution_count": 161,
   "metadata": {},
   "outputs": [
    {
     "data": {
      "text/plain": [
       "'\\n                    \\nConsider this little piece of code:\\n\\nimport subprocess\\nimport win32gui\\nimport win32con\\nimport time\\nimport sys\\nfrom PyQt5.Qt import *  # noqa\\n\\n\\nclass Mcve(QMainWindow):\\n\\n    def __init__(self, path_exe):\\n        super().__init__()\\n\\n        menu = self.menuBar()\\n\\n        attach_action = QAction(\\'Attach\\', self)\\n        attach_action.triggered.connect(self.attach)\\n        menu.addAction(attach_action)\\n\\n        detach_action = QAction(\\'Detach\\', self)\\n        detach_action.triggered.connect(self.detach)\\n        menu.addAction(detach_action)\\n\\n        self.dock = QDockWidget(\"Attach window\", self)\\n        self.addDockWidget(Qt.RightDockWidgetArea, self.dock)\\n\\n        p = subprocess.Popen(path_exe)\\n        time.sleep(0.5)  # Give enough time so FindWindowEx won\\'t return 0\\n        self.hwnd = win32gui.FindWindowEx(0, 0, \"CalcFrame\", None)\\n        if self.hwnd == 0:\\n            raise Exception(\"Process not found\")\\n\\n    def detach(self):\\n        try:\\n            self._window.setParent(None)\\n            # win32gui.SetWindowLong(self.hwnd, win32con.GWL_EXSTYLE, self._style)\\n            self._window.show()\\n            self.dock.setWidget(None)\\n            self._widget = None\\n            self._window = None\\n        except Exception as e:\\n            import traceback\\n            traceback.print_exc()\\n\\n    def attach(self):\\n        # self._style = win32gui.GetWindowLong(self.hwnd, win32con.GWL_EXSTYLE)\\n        self._window = QWindow.fromWinId(self.hwnd)\\n        self._widget = self.createWindowContainer(self._window)\\n        self.dock.setWidget(self._widget)\\n\\n\\nif __name__ == \\'__main__\\':\\n    app = QApplication(sys.argv)\\n    w = Mcve(\"C:\\\\\\\\Windows\\\\\\\\system32\\\\\\\\calc.exe\")\\n    w.show()\\n    sys.exit(app.exec_())\\n\\nThe goal here is to fix the code so the window attaching/detaching into a QDockWidget will be made properly. Right now the code has 2 important issues.\\n\\nIssue1\\n\\nStyle of the original window is screwed up:\\n\\na) Before attaching (the calculator has a menu bar)\\n\\n\\n\\nb) When attached (the calculator menu bar is gone)\\n\\n\\n\\nc) When detached (the menu bar hasn\\'t been restored properly)\\n\\n\\n\\nI\\'ve already tried using flags/setFlags qt functions or getWindowLong/setWindowLong bit I haven\\'t had luck with all my attempts\\n\\nIssue2\\n\\nIf you have attached and detached the calculator to the mainwindow and then you decide to close the mainwindow you definitely want everything (pyqt process) to be closed and cleaned properly, right now that won\\'t be the case, why?\\n\\nIn fact, when you\\'ve attached/detached the calculator to the mainwindow the python process will hold and you\\'ll need to force the termination of the process manually (ie: ctrl+break conemu, ctrl+c cmd prompt)... which indicates the code is not doing things correctly when parenting/deparenting\\n\\nAdditional notes:\\n\\n\\nhttp://doc.qt.io/qt-5/qwindow.html#fromWinId\\nhttp://doc.qt.io/qt-5/qwidget.html#createWindowContainer\\nIn the above minimal code I\\'m spawning calc.exe as a child process but you can assume calc.exe is an existing non-child process spawned by let\\'s say explorer.exe\\n\\n    '"
      ]
     },
     "execution_count": 161,
     "metadata": {},
     "output_type": "execute_result"
    }
   ],
   "source": [
    "final_question"
   ]
  },
  {
   "cell_type": "code",
   "execution_count": 162,
   "metadata": {},
   "outputs": [
    {
     "name": "stdout",
     "output_type": "stream",
     "text": [
      "('\\n'\n",
      " '                    \\n'\n",
      " 'Consider this little piece of code:\\n'\n",
      " '\\n'\n",
      " 'import subprocess\\n'\n",
      " 'import win32gui\\n'\n",
      " 'import win32con\\n'\n",
      " 'import time\\n'\n",
      " 'import sys\\n'\n",
      " 'from PyQt5.Qt import *  # noqa\\n'\n",
      " '\\n'\n",
      " '\\n'\n",
      " 'class Mcve(QMainWindow):\\n'\n",
      " '\\n'\n",
      " '    def __init__(self, path_exe):\\n'\n",
      " '        super().__init__()\\n'\n",
      " '\\n'\n",
      " '        menu = self.menuBar()\\n'\n",
      " '\\n'\n",
      " \"        attach_action = QAction('Attach', self)\\n\"\n",
      " '        attach_action.triggered.connect(self.attach)\\n'\n",
      " '        menu.addAction(attach_action)\\n'\n",
      " '\\n'\n",
      " \"        detach_action = QAction('Detach', self)\\n\"\n",
      " '        detach_action.triggered.connect(self.detach)\\n'\n",
      " '        menu.addAction(detach_action)\\n'\n",
      " '\\n'\n",
      " '        self.dock = QDockWidget(\"Attach window\", self)\\n'\n",
      " '        self.addDockWidget(Qt.RightDockWidgetArea, self.dock)\\n'\n",
      " '\\n'\n",
      " '        p = subprocess.Popen(path_exe)\\n'\n",
      " \"        time.sleep(0.5)  # Give enough time so FindWindowEx won't return 0\\n\"\n",
      " '        self.hwnd = win32gui.FindWindowEx(0, 0, \"CalcFrame\", None)\\n'\n",
      " '        if self.hwnd == 0:\\n'\n",
      " '            raise Exception(\"Process not found\")\\n'\n",
      " '\\n'\n",
      " '    def detach(self):\\n'\n",
      " '        try:\\n'\n",
      " '            self._window.setParent(None)\\n'\n",
      " '            # win32gui.SetWindowLong(self.hwnd, win32con.GWL_EXSTYLE, '\n",
      " 'self._style)\\n'\n",
      " '            self._window.show()\\n'\n",
      " '            self.dock.setWidget(None)\\n'\n",
      " '            self._widget = None\\n'\n",
      " '            self._window = None\\n'\n",
      " '        except Exception as e:\\n'\n",
      " '            import traceback\\n'\n",
      " '            traceback.print_exc()\\n'\n",
      " '\\n'\n",
      " '    def attach(self):\\n'\n",
      " '        # self._style = win32gui.GetWindowLong(self.hwnd, '\n",
      " 'win32con.GWL_EXSTYLE)\\n'\n",
      " '        self._window = QWindow.fromWinId(self.hwnd)\\n'\n",
      " '        self._widget = self.createWindowContainer(self._window)\\n'\n",
      " '        self.dock.setWidget(self._widget)\\n'\n",
      " '\\n'\n",
      " '\\n'\n",
      " \"if __name__ == '__main__':\\n\"\n",
      " '    app = QApplication(sys.argv)\\n'\n",
      " '    w = Mcve(\"C:\\\\\\\\Windows\\\\\\\\system32\\\\\\\\calc.exe\")\\n'\n",
      " '    w.show()\\n'\n",
      " '    sys.exit(app.exec_())\\n'\n",
      " '\\n'\n",
      " 'The goal here is to fix the code so the window attaching/detaching into a '\n",
      " 'QDockWidget will be made properly. Right now the code has 2 important '\n",
      " 'issues.\\n'\n",
      " '\\n'\n",
      " 'Issue1\\n'\n",
      " '\\n'\n",
      " 'Style of the original window is screwed up:\\n'\n",
      " '\\n'\n",
      " 'a) Before attaching (the calculator has a menu bar)\\n'\n",
      " '\\n'\n",
      " '\\n'\n",
      " '\\n'\n",
      " 'b) When attached (the calculator menu bar is gone)\\n'\n",
      " '\\n'\n",
      " '\\n'\n",
      " '\\n'\n",
      " \"c) When detached (the menu bar hasn't been restored properly)\\n\"\n",
      " '\\n'\n",
      " '\\n'\n",
      " '\\n'\n",
      " \"I've already tried using flags/setFlags qt functions or \"\n",
      " \"getWindowLong/setWindowLong bit I haven't had luck with all my attempts\\n\"\n",
      " '\\n'\n",
      " 'Issue2\\n'\n",
      " '\\n'\n",
      " 'If you have attached and detached the calculator to the mainwindow and then '\n",
      " 'you decide to close the mainwindow you definitely want everything (pyqt '\n",
      " \"process) to be closed and cleaned properly, right now that won't be the \"\n",
      " 'case, why?\\n'\n",
      " '\\n'\n",
      " \"In fact, when you've attached/detached the calculator to the mainwindow the \"\n",
      " \"python process will hold and you'll need to force the termination of the \"\n",
      " 'process manually (ie: ctrl+break conemu, ctrl+c cmd prompt)... which '\n",
      " 'indicates the code is not doing things correctly when parenting/deparenting\\n'\n",
      " '\\n'\n",
      " 'Additional notes:\\n'\n",
      " '\\n'\n",
      " '\\n'\n",
      " 'http://doc.qt.io/qt-5/qwindow.html#fromWinId\\n'\n",
      " 'http://doc.qt.io/qt-5/qwidget.html#createWindowContainer\\n'\n",
      " \"In the above minimal code I'm spawning calc.exe as a child process but you \"\n",
      " \"can assume calc.exe is an existing non-child process spawned by let's say \"\n",
      " 'explorer.exe\\n'\n",
      " '\\n'\n",
      " '    ')\n"
     ]
    }
   ],
   "source": [
    "pprint(final_question)"
   ]
  },
  {
   "cell_type": "code",
   "execution_count": 133,
   "metadata": {},
   "outputs": [
    {
     "data": {
      "text/plain": [
       "str"
      ]
     },
     "execution_count": 133,
     "metadata": {},
     "output_type": "execute_result"
    }
   ],
   "source": [
    "type(post.get())"
   ]
  },
  {
   "cell_type": "code",
   "execution_count": 164,
   "metadata": {},
   "outputs": [
    {
     "name": "stdout",
     "output_type": "stream",
     "text": [
      "https://i.stack.imgur.com/4M4er.png\n",
      "https://i.stack.imgur.com/DASMq.png\n",
      "https://i.stack.imgur.com/s5oOE.png\n"
     ]
    }
   ],
   "source": [
    "for i in post2.xpath('.//img/@src'):\n",
    "    print(i.get())"
   ]
  },
  {
   "cell_type": "code",
   "execution_count": 172,
   "metadata": {},
   "outputs": [
    {
     "data": {
      "text/plain": [
       "[]"
      ]
     },
     "execution_count": 172,
     "metadata": {},
     "output_type": "execute_result"
    }
   ],
   "source": [
    "page.xpath('//div[@class=\"post-text\"]/following::node()')"
   ]
  },
  {
   "cell_type": "code",
   "execution_count": 173,
   "metadata": {},
   "outputs": [],
   "source": [
    "from bot import Selenium_bot"
   ]
  },
  {
   "cell_type": "code",
   "execution_count": 174,
   "metadata": {},
   "outputs": [],
   "source": [
    "bot = Selenium_bot(javascript=False)"
   ]
  },
  {
   "cell_type": "code",
   "execution_count": 175,
   "metadata": {},
   "outputs": [],
   "source": [
    "bot.driver.get('https://stackoverflow.com/questions/54388685/issues-when-attaching-and-detaching-external-app-from-qdockwidget')"
   ]
  },
  {
   "cell_type": "code",
   "execution_count": 176,
   "metadata": {},
   "outputs": [],
   "source": [
    "source_page_sem_js = bot.driver.page_source"
   ]
  },
  {
   "cell_type": "code",
   "execution_count": 177,
   "metadata": {},
   "outputs": [],
   "source": [
    "page_sem_js = Selector(source_page_sem_js)"
   ]
  },
  {
   "cell_type": "code",
   "execution_count": 186,
   "metadata": {},
   "outputs": [
    {
     "name": "stdout",
     "output_type": "stream",
     "text": [
      "['\\n                    \\n',\n",
      " 'Consider this little piece of code:',\n",
      " '\\n\\n',\n",
      " 'import subprocess\\n'\n",
      " 'import win32gui\\n'\n",
      " 'import win32con\\n'\n",
      " 'import time\\n'\n",
      " 'import sys\\n'\n",
      " 'from PyQt5.Qt import *  # noqa\\n'\n",
      " '\\n'\n",
      " '\\n'\n",
      " 'class Mcve(QMainWindow):\\n'\n",
      " '\\n'\n",
      " '    def __init__(self, path_exe):\\n'\n",
      " '        super().__init__()\\n'\n",
      " '\\n'\n",
      " '        menu = self.menuBar()\\n'\n",
      " '\\n'\n",
      " \"        attach_action = QAction('Attach', self)\\n\"\n",
      " '        attach_action.triggered.connect(self.attach)\\n'\n",
      " '        menu.addAction(attach_action)\\n'\n",
      " '\\n'\n",
      " \"        detach_action = QAction('Detach', self)\\n\"\n",
      " '        detach_action.triggered.connect(self.detach)\\n'\n",
      " '        menu.addAction(detach_action)\\n'\n",
      " '\\n'\n",
      " '        self.dock = QDockWidget(\"Attach window\", self)\\n'\n",
      " '        self.addDockWidget(Qt.RightDockWidgetArea, self.dock)\\n'\n",
      " '\\n'\n",
      " '        p = subprocess.Popen(path_exe)\\n'\n",
      " \"        time.sleep(0.5)  # Give enough time so FindWindowEx won't return 0\\n\"\n",
      " '        self.hwnd = win32gui.FindWindowEx(0, 0, \"CalcFrame\", None)\\n'\n",
      " '        if self.hwnd == 0:\\n'\n",
      " '            raise Exception(\"Process not found\")\\n'\n",
      " '\\n'\n",
      " '    def detach(self):\\n'\n",
      " '        try:\\n'\n",
      " '            self._window.setParent(None)\\n'\n",
      " '            # win32gui.SetWindowLong(self.hwnd, win32con.GWL_EXSTYLE, '\n",
      " 'self._style)\\n'\n",
      " '            self._window.show()\\n'\n",
      " '            self.dock.setWidget(None)\\n'\n",
      " '            self._widget = None\\n'\n",
      " '            self._window = None\\n'\n",
      " '        except Exception as e:\\n'\n",
      " '            import traceback\\n'\n",
      " '            traceback.print_exc()\\n'\n",
      " '\\n'\n",
      " '    def attach(self):\\n'\n",
      " '        # self._style = win32gui.GetWindowLong(self.hwnd, '\n",
      " 'win32con.GWL_EXSTYLE)\\n'\n",
      " '        self._window = QWindow.fromWinId(self.hwnd)\\n'\n",
      " '        self._widget = self.createWindowContainer(self._window)\\n'\n",
      " '        self.dock.setWidget(self._widget)\\n'\n",
      " '\\n'\n",
      " '\\n'\n",
      " \"if __name__ == '__main__':\\n\"\n",
      " '    app = QApplication(sys.argv)\\n'\n",
      " '    w = Mcve(\"C:\\\\\\\\Windows\\\\\\\\system32\\\\\\\\calc.exe\")\\n'\n",
      " '    w.show()\\n'\n",
      " '    sys.exit(app.exec_())\\n',\n",
      " '\\n\\n',\n",
      " 'The goal here is to fix the code so the window attaching/detaching into a '\n",
      " 'QDockWidget will be made properly. Right now the code has 2 important '\n",
      " 'issues.',\n",
      " '\\n\\n',\n",
      " 'Issue1',\n",
      " '\\n\\n',\n",
      " 'Style of the original window is screwed up:',\n",
      " '\\n\\n',\n",
      " 'a) Before attaching (the calculator has a menu bar)',\n",
      " '\\n\\n',\n",
      " '\\n\\n',\n",
      " 'b) When attached (the calculator menu bar is gone)',\n",
      " '\\n\\n',\n",
      " '\\n\\n',\n",
      " \"c) When detached (the menu bar hasn't been restored properly)\",\n",
      " '\\n\\n',\n",
      " '\\n\\n',\n",
      " \"I've already tried using flags/setFlags qt functions or \"\n",
      " \"getWindowLong/setWindowLong bit I haven't had luck with all my attempts\",\n",
      " '\\n\\n',\n",
      " 'Issue2',\n",
      " '\\n\\n',\n",
      " 'If you have attached and detached the calculator to the mainwindow and then '\n",
      " 'you decide to close the mainwindow you definitely want everything (pyqt '\n",
      " \"process) to be closed and cleaned properly, right now that won't be the \"\n",
      " 'case, why?',\n",
      " '\\n\\n',\n",
      " \"In fact, when you've attached/detached the calculator to the mainwindow the \"\n",
      " \"python process will hold and you'll need to force the termination of the \"\n",
      " 'process manually (ie: ctrl+break conemu, ctrl+c cmd prompt)... which '\n",
      " 'indicates the code is not doing things correctly when parenting/deparenting',\n",
      " '\\n\\n',\n",
      " 'Additional notes:',\n",
      " '\\n\\n',\n",
      " '\\n',\n",
      " 'http://doc.qt.io/qt-5/qwindow.html#fromWinId',\n",
      " '\\n',\n",
      " 'http://doc.qt.io/qt-5/qwidget.html#createWindowContainer',\n",
      " '\\n',\n",
      " \"In the above minimal code I'm spawning calc.exe as a child process but you \"\n",
      " \"can assume calc.exe is an existing non-child process spawned by let's say \",\n",
      " 'explorer.exe',\n",
      " '\\n',\n",
      " '\\n    ']\n"
     ]
    }
   ],
   "source": [
    "pprint(page_sem_js.xpath('//div[@class=\"post-text\"]//text()').getall())"
   ]
  },
  {
   "cell_type": "code",
   "execution_count": 230,
   "metadata": {},
   "outputs": [
    {
     "data": {
      "text/plain": [
       "['python', 'windows', 'qt', 'pyqt']"
      ]
     },
     "execution_count": 230,
     "metadata": {},
     "output_type": "execute_result"
    }
   ],
   "source": [
    "tags = page2.xpath('//div[contains(@class, \"post-layout--right\")]').xpath('.//a[contains(@class, \"post-tag\")]//text()').getall()\n",
    "tags"
   ]
  },
  {
   "cell_type": "code",
   "execution_count": 233,
   "metadata": {},
   "outputs": [
    {
     "data": {
      "text/plain": [
       "[\"Jan 27 '19 at 18:58\", \"Jan 27 '19 at 13:33\"]"
      ]
     },
     "execution_count": 233,
     "metadata": {},
     "output_type": "execute_result"
    }
   ],
   "source": [
    "page2.xpath('//div[contains(@class, \"post-layout--right\")]')\\\n",
    ".xpath('.//div[@class=\"user-action-time\"]')\\\n",
    ".xpath('.//span[@class=\"relativetime\"]//text()').getall()"
   ]
  },
  {
   "cell_type": "code",
   "execution_count": 232,
   "metadata": {},
   "outputs": [
    {
     "data": {
      "text/plain": [
       "\"Jan 27 '19 at 13:33\""
      ]
     },
     "execution_count": 232,
     "metadata": {},
     "output_type": "execute_result"
    }
   ],
   "source": [
    "data = page2.xpath('//div[contains(@class, \"post-layout--right\")]').xpath('.//div[@class=\"user-action-time\"]').xpath('.//span[@class=\"relativetime\"]//text()').getall()\n",
    "data.reverse()\n",
    "data[0]"
   ]
  },
  {
   "cell_type": "code",
   "execution_count": 239,
   "metadata": {},
   "outputs": [],
   "source": [
    "question_body = page2.xpath('//div[@class=\"post-layout\"]')"
   ]
  },
  {
   "cell_type": "code",
   "execution_count": 216,
   "metadata": {},
   "outputs": [
    {
     "data": {
      "text/plain": [
       "'BPL'"
      ]
     },
     "execution_count": 216,
     "metadata": {},
     "output_type": "execute_result"
    }
   ],
   "source": [
    "author = page2.xpath('//div[contains(@class, \"post-layout--right\")]').xpath('.//div[@class=\"user-info \"]').xpath('.//div[@class=\"user-details\"]/a//text()').get()\n",
    "author"
   ]
  },
  {
   "cell_type": "code",
   "execution_count": 236,
   "metadata": {},
   "outputs": [
    {
     "data": {
      "text/plain": [
       "'Issues when attaching and detaching external app from QDockWidget'"
      ]
     },
     "execution_count": 236,
     "metadata": {},
     "output_type": "execute_result"
    }
   ],
   "source": [
    "page2.xpath('//div[@id=\"question-header\"]').xpath('.//a[contains(@class, \"question\")]/text()').get()"
   ]
  },
  {
   "cell_type": "code",
   "execution_count": 246,
   "metadata": {},
   "outputs": [],
   "source": [
    "question_comments = question_body.xpath('//div[contains(@class, \"comment-body\")]')"
   ]
  },
  {
   "cell_type": "code",
   "execution_count": 255,
   "metadata": {},
   "outputs": [
    {
     "name": "stdout",
     "output_type": "stream",
     "text": [
      "{'text': \"Lol, somebody ripped off the content of my post to that crappy blogspot site. And he didn't even fix nor answered my question, too bad :P\", 'author': 'BPL', 'time': \"Mar 17 '19 at 10:15\"}\n",
      "{'text': \"To be honest, I don't care at all about people scrapping content from other sites, the main problem is usually these scrapping sites don't add any additional value to the original content while they just try to SEO their sites to make some money... Btw, what do you mean with \", 'author': 'BPL', 'time': \"Mar 17 '19 at 10:36\"}\n",
      "{'text': 'Have you found the solution sir? If so may I have the code?', 'author': 'Andrie', 'time': 'Jul 11 at 8:21'}\n",
      "{'text': \"Andrie, hi, unfortunately I had given up with this code at the time of opening the question, that was more than 1 year ago... I recall at that time I'd given a lot of bounties but nobody was able to provide any solution to the problem and I lost interest on it. That said, If you ever find the solution, pls feel free to post it here and I'll review it ;) . As you can see this has become quite an interesting one\", 'author': 'BPL', 'time': 'Jul 11 at 11:04'}\n"
     ]
    }
   ],
   "source": [
    "comment_list = []\n",
    "for c in question_comments:\n",
    "    comment = {'text': \"\", 'author': \"\", 'time': \"\"}\n",
    "    comment['text'] = c.xpath('.//span[@class=\"comment-copy\"]/text()').get()\n",
    "    comment['author'] = c.xpath('.//a[contains(@class, \"comment-user\")]/text()').get()\n",
    "    comment['time'] = c.xpath('.//span[contains(@class, \"relativetime\")]/text()').get()\n",
    "    comment_list.append(comment)\n",
    "\n",
    "for i in comment_list:\n",
    "    print(i)\n",
    "    \n",
    "    "
   ]
  },
  {
   "cell_type": "code",
   "execution_count": 257,
   "metadata": {},
   "outputs": [],
   "source": [
    "driver.get('https://stackoverflow.com/questions/46691638/how-to-disable-pycharm-from-automatically-updating-python-interpreter-on-startup')"
   ]
  },
  {
   "cell_type": "code",
   "execution_count": 258,
   "metadata": {},
   "outputs": [],
   "source": [
    "page3 = Selector(driver.page_source)"
   ]
  },
  {
   "cell_type": "code",
   "execution_count": 259,
   "metadata": {},
   "outputs": [
    {
     "data": {
      "text/plain": [
       "<Selector xpath=None data='<html itemscope=\"\" itemtype=\"http://sche'>"
      ]
     },
     "execution_count": 259,
     "metadata": {},
     "output_type": "execute_result"
    }
   ],
   "source": [
    "page3"
   ]
  },
  {
   "cell_type": "code",
   "execution_count": 264,
   "metadata": {},
   "outputs": [],
   "source": [
    "answers = page3.xpath('//div[@class=\"answer\"]')"
   ]
  },
  {
   "cell_type": "code",
   "execution_count": 277,
   "metadata": {},
   "outputs": [
    {
     "name": "stdout",
     "output_type": "stream",
     "text": [
      "\n",
      "From the official PyCharm help forum:\n",
      "\n",
      "\n",
      "  You need to update the cofiguration file at / with the following code\n",
      "\n",
      "\n",
      "<application>\n",
      " <component name=\"UpdatesConfigurable\">\n",
      "   <option name=\"CHECK_NEEDED\" value=\"false\" />\n",
      " </component>\n",
      "</application>\n",
      "    \n",
      "Jimmy Lee Jones\n",
      "Mar 30 '18 at 6:58\n",
      "\n",
      "\n",
      "Comment 0\n",
      "This is about checking updates of PyCharm itself. This has nothing to do with updating the packages in the interpreter.\n",
      "yole\n",
      "Mar 30 '18 at 7:04\n",
      "---------------\n",
      "\n",
      "\n",
      "If you want choose and update the Python interpreter in use for your project only when you want, you can set the Project Interpreter to Virtualenv.\n",
      "\n",
      "From the menu File -> Settings you should choose:\n",
      "\n",
      "\n",
      "Project: name of the project\n",
      "Project Interpreter\n",
      "Add...from the icon: gear icon\n",
      "\n",
      "\n",
      "On section Virtualenv Environment choose New environment and the version of Base Interpreter\n",
      "    \n",
      "Stefano Pasquini\n",
      "Jan 20 at 12:10\n",
      "---------------\n",
      "\n",
      "\n",
      "From the PyCharm help page:\n",
      "\n",
      "You can manage PyCharm updates on the Updates page under Appearance\n",
      "and Behavior | System Settings in the Settings/Preferences dialog\n",
      "Ctrl+Alt+S: Disable automatic update checks﻿\n",
      "In the Settings/Preferences dialog Ctrl+Alt+S, select Appearance and\n",
      "Behavior | System Settings | Updates.\n",
      "Clear the Automatically check updates for checkbox.\n",
      "\n",
      "    \n",
      "Juan Carlos Ramirez\n",
      "Jul 8 at 16:24\n",
      "---------------\n",
      "\n"
     ]
    }
   ],
   "source": [
    "for a in answers:\n",
    "    print(''.join(a.xpath('.//div[@class=\"post-text\"]//text()').getall()))\n",
    "    user_info = a.xpath('.//div[contains(@class, \"user-info\")]')\n",
    "    print(user_info.xpath('.//div[@class=\"user-details\"]/a/text()').get())\n",
    "    print(user_info.xpath('.//div[@class=\"user-action-time\"]/span/text()').get())\n",
    "    comment_in_answer_list = a.xpath('.//div[contains(@class,\"comment-body\")]')\n",
    "    for i, comment_in_answer in enumerate(comment_in_answer_list):\n",
    "        comment_in_answer_text = comment_in_answer.xpath('.//span[@class=\"comment-copy\"]/text()').get()\n",
    "        comment_in_answer_author = comment_in_answer.xpath('.//a[@class=\"comment-user\"]/text()').get()\n",
    "        comment_in_answer_data = comment_in_answer.xpath('.//span[contains(@class, \"relativetime\")]/text()').get()\n",
    "        print(f'\\n\\nComment {i}')\n",
    "        print(comment_in_answer_text)\n",
    "        print(comment_in_answer_author)\n",
    "        print(comment_in_answer_data)\n",
    "    print('---------------\\n')"
   ]
  },
  {
   "cell_type": "code",
   "execution_count": null,
   "metadata": {},
   "outputs": [],
   "source": []
  }
 ],
 "metadata": {
  "kernelspec": {
   "display_name": "analysis",
   "language": "python",
   "name": "analysis"
  },
  "language_info": {
   "codemirror_mode": {
    "name": "ipython",
    "version": 3
   },
   "file_extension": ".py",
   "mimetype": "text/x-python",
   "name": "python",
   "nbconvert_exporter": "python",
   "pygments_lexer": "ipython3",
   "version": "3.7.3"
  }
 },
 "nbformat": 4,
 "nbformat_minor": 2
}
