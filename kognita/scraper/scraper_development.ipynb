{
 "cells": [
  {
   "cell_type": "code",
   "execution_count": 35,
   "metadata": {},
   "outputs": [],
   "source": [
    "from selenium import webdriver\n",
    "from selenium.webdriver.common.keys import Keys\n",
    "from parsel import Selector\n",
    "import pathlib\n",
    "import os"
   ]
  },
  {
   "cell_type": "code",
   "execution_count": 22,
   "metadata": {},
   "outputs": [],
   "source": [
    "# PATH = pathlib.Path(__file__).parent\n",
    "# path_to_driver = PATH.joinpath('geckodriver').resolve().__str__()\n",
    "path_to_driver = '/home/baltasar/Desktop/ScrapyBoy/kognita/kognita/scraper/geckodriver'\n",
    "driver = webdriver.Firefox(executable_path=path_to_driver)"
   ]
  },
  {
   "cell_type": "code",
   "execution_count": 23,
   "metadata": {},
   "outputs": [],
   "source": [
    "driver.get('https://stackoverflow.com/')"
   ]
  },
  {
   "cell_type": "code",
   "execution_count": 31,
   "metadata": {},
   "outputs": [],
   "source": [
    "# search bar, click and write\n",
    "driver.find_element_by_xpath('//input[@name=\"q\"]').click()\n",
    "driver.find_element_by_xpath('//input[@name=\"q\"]').send_keys('python')\n",
    "driver.find_element_by_xpath('//input[@name=\"q\"]').send_keys(Keys.ENTER)"
   ]
  },
  {
   "cell_type": "code",
   "execution_count": 32,
   "metadata": {},
   "outputs": [],
   "source": [
    "# data structure\n",
    "data = {\"initial_search\": {\"search_query\": \"\"\n",
    "                           \"search_title\": \"\",\n",
    "                           \"search_text\": \"\",       \n",
    "        \"all_questions\": [{ \"question_title\": \"\",\n",
    "                            \"question_preview_text\": \"\",\n",
    "                            \"question_text\": \"\",\n",
    "                            \"question_autor\": \"\",\n",
    "                            \"question_data\": \"\", \n",
    "                            \"question_tags\": \"\" \n",
    "                            \"question_comments\": [{ \"comment\": \"\",\n",
    "                                                    \"comment_author\":\"\",                                                    \n",
    "                                                    \"comment_data\": \"\" }]\n",
    "                           \"answer_text\": \"\",\n",
    "                           \"answer_author\": \"\",\n",
    "                           \"answer_data\": \"\",\n",
    "                           \"answer_comments\": [{ \"comment\": \"\",\n",
    "                                                    \"comment_author\":\"\",                                                    \n",
    "                                                    \"comment_data\": \"\" }]\n",
    "                        \n",
    "                        }]\n",
    "                        }\n",
    "        }"
   ]
  },
  {
   "cell_type": "code",
   "execution_count": 33,
   "metadata": {},
   "outputs": [],
   "source": [
    "# for each question in the page get and parse\n",
    "# for each comment in the question parse\n",
    "# for each answer in the question parse\n",
    "# for each comment in the answer parse\n",
    "# if page is > 2 break"
   ]
  },
  {
   "cell_type": "code",
   "execution_count": 36,
   "metadata": {},
   "outputs": [],
   "source": [
    "page = Selector(driver.page_source)"
   ]
  },
  {
   "cell_type": "code",
   "execution_count": 43,
   "metadata": {},
   "outputs": [],
   "source": [
    "questions_links = page.xpath(\"//a[@class='question-hyperlink']/@href\").getall()"
   ]
  },
  {
   "cell_type": "code",
   "execution_count": 49,
   "metadata": {},
   "outputs": [],
   "source": [
    "full_links = ['https://stackoverflow.com' + questions_links[i] for i in range(len(questions_links))]"
   ]
  },
  {
   "cell_type": "code",
   "execution_count": 50,
   "metadata": {},
   "outputs": [
    {
     "name": "stdout",
     "output_type": "stream",
     "text": [
      "https://stackoverflow.com/questions/54388685/issues-when-attaching-and-detaching-external-app-from-qdockwidget\n",
      "https://stackoverflow.com/questions/51649672/accepting-output-of-the-socket-generated-by-python-in-mql5\n",
      "https://stackoverflow.com/questions/49083680/how-are-the-new-tf-contrib-summary-summaries-in-tensorflow-evaluated\n",
      "https://stackoverflow.com/questions/57087498/aws-lambda-openblas-warning-could-not-determine-the-l2-cache-size-on-this-sy\n",
      "https://stackoverflow.com/questions/22990696/getting-all-task-ids-from-nested-chains-and-chords\n",
      "https://stackoverflow.com/questions/51653865/run-django-viewflow-update-node\n",
      "https://stackoverflow.com/questions/62783262/why-is-numpy-with-ryzen-threadripper-so-much-slower-than-xeon\n",
      "https://stackoverflow.com/questions/45868645/mayavi-colorbar-in-traitsui-creating-blank-window\n",
      "https://stackoverflow.com/questions/50399547/tensorflow-custom-tflite-java-lang-nullpointerexception-cannot-allocate-memory\n",
      "https://stackoverflow.com/questions/49430040/how-to-avoid-overlapping-when-theres-hundreds-of-nodes-in-networkx\n",
      "https://stackoverflow.com/questions/46688822/preload-whole-dataset-on-gpu-for-training-keras-model\n",
      "https://stackoverflow.com/questions/17406954/is-it-possible-to-directly-apply-an-affine-transformation-matrix-to-a-mayavi-ima\n",
      "https://stackoverflow.com/questions/46691638/how-to-disable-pycharm-from-automatically-updating-python-interpreter-on-startup\n",
      "https://stackoverflow.com/questions/52558519/bluez-profile-registration\n",
      "https://stackoverflow.com/questions/52087571/layering-a-contourf-plot-and-surface-plot-in-matplotlib\n"
     ]
    }
   ],
   "source": [
    "for i in full_links:\n",
    "    print(i)"
   ]
  },
  {
   "cell_type": "code",
   "execution_count": null,
   "metadata": {},
   "outputs": [],
   "source": [
    "next_page = '//a[@rel=\"next\"]'"
   ]
  },
  {
   "cell_type": "code",
   "execution_count": 56,
   "metadata": {},
   "outputs": [
    {
     "data": {
      "text/plain": [
       "'Questions tagged [python]'"
      ]
     },
     "execution_count": 56,
     "metadata": {},
     "output_type": "execute_result"
    }
   ],
   "source": [
    "page.xpath('//h1//text()').get().strip()"
   ]
  },
  {
   "cell_type": "code",
   "execution_count": 83,
   "metadata": {},
   "outputs": [],
   "source": [
    "grid = page.xpath('//div[@class=\"mb24\"]')"
   ]
  },
  {
   "cell_type": "code",
   "execution_count": 81,
   "metadata": {},
   "outputs": [
    {
     "data": {
      "text/plain": [
       "[<Selector xpath='//div[@class=\"mb24\"]' data='<div class=\"mb24\">\\n                    <'>]"
      ]
     },
     "execution_count": 81,
     "metadata": {},
     "output_type": "execute_result"
    }
   ],
   "source": [
    "grid"
   ]
  },
  {
   "cell_type": "code",
   "execution_count": 86,
   "metadata": {},
   "outputs": [
    {
     "data": {
      "text/plain": [
       "'\\nPython is a multi-paradigm, dynamically typed, multipurpose programming language. It is designed to be quick to learn, understand, and use, and enforce a clean and uniform syntax. Please note that Python 2 is officially out of support as of 01-01-2020. Still, for version-specific Python questions, add the [python-2.7] or [python-3.x] tag. When using a Python variant or library (e.g. Jython, PyPy, Pandas, Numpy), please include it in the tags.                    '"
      ]
     },
     "execution_count": 86,
     "metadata": {},
     "output_type": "execute_result"
    }
   ],
   "source": [
    "''.join([p.get() for p in grid.xpath('.//p//text()')])"
   ]
  },
  {
   "cell_type": "code",
   "execution_count": 88,
   "metadata": {},
   "outputs": [
    {
     "data": {
      "text/plain": [
       "'\\nPython is a multi-paradigm, dynamically typed, multipurpose programming language. It is designed to be quick to learn, understand, and use, and enforce a clean and uniform syntax. Please note that Python 2 is officially out of support as of 01-01-2020. Still, for version-specific Python questions, add the [python-2.7] or [python-3.x] tag. When using a Python variant or library (e.g. Jython, PyPy, Pandas, Numpy), please include it in the tags.                    '"
      ]
     },
     "execution_count": 88,
     "metadata": {},
     "output_type": "execute_result"
    }
   ],
   "source": [
    "page.xpath('//div[@class=\"mb24\"]').xpath('.//p//text()').get()"
   ]
  },
  {
   "cell_type": "code",
   "execution_count": 90,
   "metadata": {},
   "outputs": [
    {
     "data": {
      "text/plain": [
       "'1'"
      ]
     },
     "execution_count": 90,
     "metadata": {},
     "output_type": "execute_result"
    }
   ],
   "source": [
    "page.xpath('//div[contains(@class, \"s-pagination--item is-selected\")]//text()').get()"
   ]
  },
  {
   "cell_type": "code",
   "execution_count": null,
   "metadata": {},
   "outputs": [],
   "source": []
  }
 ],
 "metadata": {
  "kernelspec": {
   "display_name": "analysis",
   "language": "python",
   "name": "analysis"
  },
  "language_info": {
   "codemirror_mode": {
    "name": "ipython",
    "version": 3
   },
   "file_extension": ".py",
   "mimetype": "text/x-python",
   "name": "python",
   "nbconvert_exporter": "python",
   "pygments_lexer": "ipython3",
   "version": "3.7.3"
  }
 },
 "nbformat": 4,
 "nbformat_minor": 2
}
