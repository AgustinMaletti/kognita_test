{
 "cells": [
  {
   "cell_type": "code",
   "execution_count": 28,
   "metadata": {},
   "outputs": [],
   "source": [
    "from selenium import webdriver\n",
    "from selenium.webdriver.common.keys import Keys\n",
    "import pathlib\n",
    "import os"
   ]
  },
  {
   "cell_type": "code",
   "execution_count": 22,
   "metadata": {},
   "outputs": [],
   "source": [
    "# PATH = pathlib.Path(__file__).parent\n",
    "# path_to_driver = PATH.joinpath('geckodriver').resolve().__str__()\n",
    "path_to_driver = '/home/baltasar/Desktop/ScrapyBoy/kognita/kognita/scraper/geckodriver'\n",
    "driver = webdriver.Firefox(executable_path=path_to_driver)"
   ]
  },
  {
   "cell_type": "code",
   "execution_count": 23,
   "metadata": {},
   "outputs": [],
   "source": [
    "driver.get('https://stackoverflow.com/')"
   ]
  },
  {
   "cell_type": "code",
   "execution_count": 31,
   "metadata": {},
   "outputs": [],
   "source": [
    "# search bar, click and write\n",
    "driver.find_element_by_xpath('//input[@name=\"q\"]').click()\n",
    "driver.find_element_by_xpath('//input[@name=\"q\"]').send_keys('python')\n",
    "driver.find_element_by_xpath('//input[@name=\"q\"]').send_keys(Keys.ENTER)"
   ]
  },
  {
   "cell_type": "code",
   "execution_count": 29,
   "metadata": {},
   "outputs": [],
   "source": [
    "next_page = '//a[@rel=\"next\"]'"
   ]
  },
  {
   "cell_type": "code",
   "execution_count": 32,
   "metadata": {},
   "outputs": [],
   "source": [
    "# data structure\n",
    "data = {\"initial_search\": {\"search_title\": \"\",\n",
    "                           \"search_text\": \"\",       \n",
    "        \"all_questions\": [{ \"question_title\": \"\",\n",
    "                            \"question_text\": \"\",\n",
    "                            \"question_autor\": \"\",\n",
    "                            \"question_data\": \"\", \n",
    "                            \"question_tags\": \"\" \n",
    "                            \"question_comments\": [{ \"comment\": \"\",\n",
    "                                                    \"comment_author\":\"\",                                                    \n",
    "                                                    \"comment_data\": \"\" }]\n",
    "                           \"answer_text\": \"\",\n",
    "                           \"answer_author\": \"\",\n",
    "                           \"answer_data\": \"\",\n",
    "                           \"answer_comments\": [{ \"comment\": \"\",\n",
    "                                                    \"comment_author\":\"\",                                                    \n",
    "                                                    \"comment_data\": \"\" }]\n",
    "                        \n",
    "                        }]\n",
    "                        }\n",
    "        }"
   ]
  },
  {
   "cell_type": "code",
   "execution_count": null,
   "metadata": {},
   "outputs": [],
   "source": [
    "# for each question in the page get and parse\n",
    "# for each comment in the question parse\n",
    "# for each answer in the question parse\n",
    "# for each comment in the answer parse\n",
    "# if page is > 2 break"
   ]
  }
 ],
 "metadata": {
  "kernelspec": {
   "display_name": "analysis",
   "language": "python",
   "name": "analysis"
  },
  "language_info": {
   "codemirror_mode": {
    "name": "ipython",
    "version": 3
   },
   "file_extension": ".py",
   "mimetype": "text/x-python",
   "name": "python",
   "nbconvert_exporter": "python",
   "pygments_lexer": "ipython3",
   "version": "3.7.3"
  }
 },
 "nbformat": 4,
 "nbformat_minor": 2
}
